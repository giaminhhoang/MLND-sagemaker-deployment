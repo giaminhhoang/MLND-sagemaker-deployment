{
 "cells": [
  {
   "cell_type": "markdown",
   "metadata": {},
   "source": [
    "# Sentiment Analysis Web App\n",
    "\n",
    "_Deep Learning Nanodegree Program | Deployment_\n",
    "\n",
    "---\n",
    "\n",
    "In this notebook we will use Amazon's SageMaker service to construct a random tree model to predict the sentiment of a movie review. In addition, we will deploy this model to an endpoint and construct a very simple web app which will interact with our model's deployed endpoint.\n",
    "\n",
    "## General Outline\n",
    "\n",
    "Typically, when using a notebook instance with SageMaker, you will proceed through the following steps. Of course, not every step will need to be done with each project. Also, there is quite a lot of room for variation in many of the steps, as you will see throughout these lessons.\n",
    "\n",
    "1. Download or otherwise retrieve the data.\n",
    "2. Process / Prepare the data.\n",
    "3. Upload the processed data to S3.\n",
    "4. Train a chosen model.\n",
    "5. Test the trained model (typically using a batch transform job).\n",
    "6. Deploy the trained model.\n",
    "7. Use the deployed model.\n",
    "\n",
    "In this notebook we will progress through each of the steps above. We will also see that the final step, using the deployed model, can be quite challenging."
   ]
  },
  {
   "cell_type": "markdown",
   "metadata": {},
   "source": [
    "## Step 1: Downloading the data\n",
    "\n",
    "The dataset we are going to use is very popular among researchers in Natural Language Processing, usually referred to as the [IMDb dataset](http://ai.stanford.edu/~amaas/data/sentiment/). It consists of movie reviews from the website [imdb.com](http://www.imdb.com/), each labeled as either '**pos**itive', if the reviewer enjoyed the film, or '**neg**ative' otherwise.\n",
    "\n",
    "> Maas, Andrew L., et al. [Learning Word Vectors for Sentiment Analysis](http://ai.stanford.edu/~amaas/data/sentiment/). In _Proceedings of the 49th Annual Meeting of the Association for Computational Linguistics: Human Language Technologies_. Association for Computational Linguistics, 2011.\n",
    "\n",
    "We begin by using some Jupyter Notebook magic to download and extract the dataset."
   ]
  },
  {
   "cell_type": "code",
   "execution_count": null,
   "metadata": {},
   "outputs": [],
   "source": [
    "%mkdir ../data\n",
    "!wget -O ../data/aclImdb_v1.tar.gz http://ai.stanford.edu/~amaas/data/sentiment/aclImdb_v1.tar.gz\n",
    "!tar -zxf ../data/aclImdb_v1.tar.gz -C ../data"
   ]
  },
  {
   "cell_type": "markdown",
   "metadata": {},
   "source": [
    "## Step 2: Preparing and Processing the data\n",
    "\n",
    "The data we have downloaded is split into various files, each of which contains a single review. It will be much easier going forward if we combine these individual files into two large files, one for training and one for testing."
   ]
  },
  {
   "cell_type": "code",
   "execution_count": 1,
   "metadata": {},
   "outputs": [],
   "source": [
    "import os\n",
    "import glob\n",
    "\n",
    "def read_imdb_data(data_dir='../data/aclImdb'):\n",
    "    data = {}\n",
    "    labels = {}\n",
    "    \n",
    "    for data_type in ['train', 'test']:\n",
    "        data[data_type] = {}\n",
    "        labels[data_type] = {}\n",
    "        \n",
    "        for sentiment in ['pos', 'neg']:\n",
    "            data[data_type][sentiment] = []\n",
    "            labels[data_type][sentiment] = []\n",
    "            \n",
    "            path = os.path.join(data_dir, data_type, sentiment, '*.txt')\n",
    "            files = glob.glob(path)\n",
    "            \n",
    "            for f in files:\n",
    "                with open(f) as review:\n",
    "                    data[data_type][sentiment].append(review.read())\n",
    "                    # Here we represent a positive review by '1' and a negative review by '0'\n",
    "                    labels[data_type][sentiment].append(1 if sentiment == 'pos' else 0)\n",
    "                    \n",
    "            assert len(data[data_type][sentiment]) == len(labels[data_type][sentiment]), \\\n",
    "                    \"{}/{} data size does not match labels size\".format(data_type, sentiment)\n",
    "                \n",
    "    return data, labels"
   ]
  },
  {
   "cell_type": "code",
   "execution_count": 2,
   "metadata": {},
   "outputs": [
    {
     "name": "stdout",
     "output_type": "stream",
     "text": [
      "IMDB reviews: train = 12500 pos / 12500 neg, test = 12500 pos / 12500 neg\n"
     ]
    }
   ],
   "source": [
    "data, labels = read_imdb_data()\n",
    "print(\"IMDB reviews: train = {} pos / {} neg, test = {} pos / {} neg\".format(\n",
    "            len(data['train']['pos']), len(data['train']['neg']),\n",
    "            len(data['test']['pos']), len(data['test']['neg'])))"
   ]
  },
  {
   "cell_type": "code",
   "execution_count": 3,
   "metadata": {},
   "outputs": [],
   "source": [
    "from sklearn.utils import shuffle\n",
    "\n",
    "def prepare_imdb_data(data, labels):\n",
    "    \"\"\"Prepare training and test sets from IMDb movie reviews.\"\"\"\n",
    "    \n",
    "    #Combine positive and negative reviews and labels\n",
    "    data_train = data['train']['pos'] + data['train']['neg']\n",
    "    data_test = data['test']['pos'] + data['test']['neg']\n",
    "    labels_train = labels['train']['pos'] + labels['train']['neg']\n",
    "    labels_test = labels['test']['pos'] + labels['test']['neg']\n",
    "    \n",
    "    #Shuffle reviews and corresponding labels within training and test sets\n",
    "    data_train, labels_train = shuffle(data_train, labels_train)\n",
    "    data_test, labels_test = shuffle(data_test, labels_test)\n",
    "    \n",
    "    # Return a unified training data, test data, training labels, test labets\n",
    "    return data_train, data_test, labels_train, labels_test"
   ]
  },
  {
   "cell_type": "code",
   "execution_count": 4,
   "metadata": {},
   "outputs": [
    {
     "name": "stdout",
     "output_type": "stream",
     "text": [
      "IMDb reviews (combined): train = 25000, test = 25000\n"
     ]
    }
   ],
   "source": [
    "train_X, test_X, train_y, test_y = prepare_imdb_data(data, labels)\n",
    "print(\"IMDb reviews (combined): train = {}, test = {}\".format(len(train_X), len(test_X)))"
   ]
  },
  {
   "cell_type": "code",
   "execution_count": 5,
   "metadata": {},
   "outputs": [
    {
     "data": {
      "text/plain": [
       "'The short that starts this film is the true footage of a guy named Gary, apparently it was taken randomly in the parking lot of a television station where Gary works in the town of Beaver. Gary is a little \"different\"; he is an impersonator and drives an old Chevy named Farrah (after Fawcett). Lo and behold the filmmaker gets a letter from Gary some time later inviting him to return to Beaver to get some footage of the local talent contest he has put together, including Gary\\'s staggering performace as Olivia Newton Dawn. Oh, my. The two shorts that follow are Gary\\'s story, the same one you just witnessed only the first is portrayed by Sean Penn and the second by Crispin Glover titled \"The Orkly Kid.\" If you are in the mood for making fun of someone this is definitely the film to watch. I was doubled over with laughter through most of it, especially Crispins performance which could definitely stand on it\\'s own. When it was over, I had to rewind the film to once again watch the real Gary and all his shining idiocy. Although Olivia was the focus, I would have liked to have seen one of the \"fictitious\" shorts take a jab at Gary\\'s Barry Manilow impersonation, whic h was equally ridiculous.'"
      ]
     },
     "execution_count": 5,
     "metadata": {},
     "output_type": "execute_result"
    }
   ],
   "source": [
    "train_X[100]"
   ]
  },
  {
   "cell_type": "markdown",
   "metadata": {},
   "source": [
    "## Processing the data\n",
    "\n",
    "Now that we have our training and testing datasets merged and ready to use, we need to start processing the raw data into something that will be useable by our machine learning algorithm. To begin with, we remove any html formatting and any non-alpha numeric characters that may appear in the reviews. We will do this in a very simplistic way using Python's regular expression module. We will discuss the reason for this rather simplistic pre-processing later on."
   ]
  },
  {
   "cell_type": "code",
   "execution_count": 6,
   "metadata": {},
   "outputs": [],
   "source": [
    "import re\n",
    "\n",
    "REPLACE_NO_SPACE = re.compile(\"(\\.)|(\\;)|(\\:)|(\\!)|(\\')|(\\?)|(\\,)|(\\\")|(\\()|(\\))|(\\[)|(\\])\")\n",
    "REPLACE_WITH_SPACE = re.compile(\"(<br\\s*/><br\\s*/>)|(\\-)|(\\/)\")\n",
    "\n",
    "def review_to_words(review):\n",
    "    words = REPLACE_NO_SPACE.sub(\"\", review.lower())\n",
    "    words = REPLACE_WITH_SPACE.sub(\" \", words)\n",
    "    return words"
   ]
  },
  {
   "cell_type": "code",
   "execution_count": 7,
   "metadata": {},
   "outputs": [
    {
     "data": {
      "text/plain": [
       "'the short that starts this film is the true footage of a guy named gary apparently it was taken randomly in the parking lot of a television station where gary works in the town of beaver gary is a little different he is an impersonator and drives an old chevy named farrah after fawcett lo and behold the filmmaker gets a letter from gary some time later inviting him to return to beaver to get some footage of the local talent contest he has put together including garys staggering performace as olivia newton dawn oh my the two shorts that follow are garys story the same one you just witnessed only the first is portrayed by sean penn and the second by crispin glover titled the orkly kid if you are in the mood for making fun of someone this is definitely the film to watch i was doubled over with laughter through most of it especially crispins performance which could definitely stand on its own when it was over i had to rewind the film to once again watch the real gary and all his shining idiocy although olivia was the focus i would have liked to have seen one of the fictitious shorts take a jab at garys barry manilow impersonation whic h was equally ridiculous'"
      ]
     },
     "execution_count": 7,
     "metadata": {},
     "output_type": "execute_result"
    }
   ],
   "source": [
    "review_to_words(train_X[100])"
   ]
  },
  {
   "cell_type": "code",
   "execution_count": 8,
   "metadata": {},
   "outputs": [],
   "source": [
    "import pickle\n",
    "\n",
    "cache_dir = os.path.join(\"../cache\", \"sentiment_web_app\")  # where to store cache files\n",
    "os.makedirs(cache_dir, exist_ok=True)  # ensure cache directory exists\n",
    "\n",
    "def preprocess_data(data_train, data_test, labels_train, labels_test,\n",
    "                    cache_dir=cache_dir, cache_file=\"preprocessed_data.pkl\"):\n",
    "    \"\"\"Convert each review to words; read from cache if available.\"\"\"\n",
    "\n",
    "    # If cache_file is not None, try to read from it first\n",
    "    cache_data = None\n",
    "    if cache_file is not None:\n",
    "        try:\n",
    "            with open(os.path.join(cache_dir, cache_file), \"rb\") as f:\n",
    "                cache_data = pickle.load(f)\n",
    "            print(\"Read preprocessed data from cache file:\", cache_file)\n",
    "        except:\n",
    "            pass  # unable to read from cache, but that's okay\n",
    "    \n",
    "    # If cache is missing, then do the heavy lifting\n",
    "    if cache_data is None:\n",
    "        # Preprocess training and test data to obtain words for each review\n",
    "        #words_train = list(map(review_to_words, data_train))\n",
    "        #words_test = list(map(review_to_words, data_test))\n",
    "        words_train = [review_to_words(review) for review in data_train]\n",
    "        words_test = [review_to_words(review) for review in data_test]\n",
    "        \n",
    "        # Write to cache file for future runs\n",
    "        if cache_file is not None:\n",
    "            cache_data = dict(words_train=words_train, words_test=words_test,\n",
    "                              labels_train=labels_train, labels_test=labels_test)\n",
    "            with open(os.path.join(cache_dir, cache_file), \"wb\") as f:\n",
    "                pickle.dump(cache_data, f)\n",
    "            print(\"Wrote preprocessed data to cache file:\", cache_file)\n",
    "    else:\n",
    "        # Unpack data loaded from cache file\n",
    "        words_train, words_test, labels_train, labels_test = (cache_data['words_train'],\n",
    "                cache_data['words_test'], cache_data['labels_train'], cache_data['labels_test'])\n",
    "    \n",
    "    return words_train, words_test, labels_train, labels_test"
   ]
  },
  {
   "cell_type": "code",
   "execution_count": 9,
   "metadata": {},
   "outputs": [
    {
     "name": "stdout",
     "output_type": "stream",
     "text": [
      "Read preprocessed data from cache file: preprocessed_data.pkl\n"
     ]
    }
   ],
   "source": [
    "# Preprocess data\n",
    "train_X, test_X, train_y, test_y = preprocess_data(train_X, test_X, train_y, test_y)"
   ]
  },
  {
   "cell_type": "markdown",
   "metadata": {},
   "source": [
    "### Extract Bag-of-Words features\n",
    "\n",
    "For the model we will be implementing, rather than using the reviews directly, we are going to transform each review into a Bag-of-Words feature representation. Keep in mind that 'in the wild' we will only have access to the training set so our transformer can only use the training set to construct a representation."
   ]
  },
  {
   "cell_type": "code",
   "execution_count": 10,
   "metadata": {},
   "outputs": [],
   "source": [
    "import numpy as np\n",
    "from sklearn.feature_extraction.text import CountVectorizer\n",
    "#from sklearn.externals import joblib\n",
    "import joblib\n",
    "# joblib is an enhanced version of pickle that is more efficient for storing NumPy arrays\n",
    "\n",
    "def extract_BoW_features(words_train, words_test, vocabulary_size=5000,\n",
    "                         cache_dir=cache_dir, cache_file=\"bow_features.pkl\"):\n",
    "    \"\"\"Extract Bag-of-Words for a given set of documents, already preprocessed into words.\"\"\"\n",
    "    \n",
    "    # If cache_file is not None, try to read from it first\n",
    "    cache_data = None\n",
    "    if cache_file is not None:\n",
    "        try:\n",
    "            with open(os.path.join(cache_dir, cache_file), \"rb\") as f:\n",
    "                cache_data = joblib.load(f)\n",
    "            print(\"Read features from cache file:\", cache_file)\n",
    "        except:\n",
    "            pass  # unable to read from cache, but that's okay\n",
    "    \n",
    "    # If cache is missing, then do the heavy lifting\n",
    "    if cache_data is None:\n",
    "        # Fit a vectorizer to training documents and use it to transform them\n",
    "        # NOTE: Training documents have already been preprocessed and tokenized into words;\n",
    "        #       pass in dummy functions to skip those steps, e.g. preprocessor=lambda x: x\n",
    "        vectorizer = CountVectorizer(max_features=vocabulary_size)\n",
    "        features_train = vectorizer.fit_transform(words_train).toarray()\n",
    "\n",
    "        # Apply the same vectorizer to transform the test documents (ignore unknown words)\n",
    "        features_test = vectorizer.transform(words_test).toarray()\n",
    "        \n",
    "        # NOTE: Remember to convert the features using .toarray() for a compact representation\n",
    "        \n",
    "        # Write to cache file for future runs (store vocabulary as well)\n",
    "        if cache_file is not None:\n",
    "            vocabulary = vectorizer.vocabulary_\n",
    "            cache_data = dict(features_train=features_train, features_test=features_test,\n",
    "                             vocabulary=vocabulary)\n",
    "            with open(os.path.join(cache_dir, cache_file), \"wb\") as f:\n",
    "                joblib.dump(cache_data, f)\n",
    "            print(\"Wrote features to cache file:\", cache_file)\n",
    "    else:\n",
    "        # Unpack data loaded from cache file\n",
    "        features_train, features_test, vocabulary = (cache_data['features_train'],\n",
    "                cache_data['features_test'], cache_data['vocabulary'])\n",
    "    \n",
    "    # Return both the extracted features as well as the vocabulary\n",
    "    return features_train, features_test, vocabulary"
   ]
  },
  {
   "cell_type": "code",
   "execution_count": 11,
   "metadata": {},
   "outputs": [
    {
     "name": "stdout",
     "output_type": "stream",
     "text": [
      "Read features from cache file: bow_features.pkl\n"
     ]
    }
   ],
   "source": [
    "# Extract Bag of Words features for both training and test datasets\n",
    "train_X, test_X, vocabulary = extract_BoW_features(train_X, test_X)"
   ]
  },
  {
   "cell_type": "code",
   "execution_count": 12,
   "metadata": {},
   "outputs": [
    {
     "data": {
      "text/plain": [
       "5000"
      ]
     },
     "execution_count": 12,
     "metadata": {},
     "output_type": "execute_result"
    }
   ],
   "source": [
    "len(train_X[100])"
   ]
  },
  {
   "cell_type": "code",
   "execution_count": 13,
   "metadata": {},
   "outputs": [
    {
     "data": {
      "text/plain": [
       "25000"
      ]
     },
     "execution_count": 13,
     "metadata": {},
     "output_type": "execute_result"
    }
   ],
   "source": [
    "len(train_X)"
   ]
  },
  {
   "cell_type": "markdown",
   "metadata": {},
   "source": [
    "## Step 3: Upload data to S3\n",
    "\n",
    "Now that we have created the feature representation of our training (and testing) data, it is time to start setting up and using the XGBoost classifier provided by SageMaker.\n",
    "\n",
    "### Writing the datasets\n",
    "\n",
    "The XGBoost classifier that we will be using requires the dataset to be written to a file and stored using Amazon S3. To do this, we will start by splitting the training dataset into two parts, the data we will train the model with and a validation set. Then, we will write those datasets to a file locally and then upload the files to S3. In addition, we will write the test set to a file and upload that file to S3. This is so that we can use SageMakers Batch Transform functionality to test our model once we've fit it."
   ]
  },
  {
   "cell_type": "code",
   "execution_count": 14,
   "metadata": {},
   "outputs": [],
   "source": [
    "import pandas as pd\n",
    "\n",
    "# Earlier we shuffled the training dataset so to make things simple we can just assign\n",
    "# the first 10 000 reviews to the validation set and use the remaining reviews for training.\n",
    "val_X = pd.DataFrame(train_X[:10000])\n",
    "train_X = pd.DataFrame(train_X[10000:])\n",
    "\n",
    "val_y = pd.DataFrame(train_y[:10000])\n",
    "train_y = pd.DataFrame(train_y[10000:])"
   ]
  },
  {
   "cell_type": "markdown",
   "metadata": {},
   "source": [
    "The documentation for the XGBoost algorithm in SageMaker requires that the training and validation datasets should contain no headers or index and that the label should occur first for each sample.\n",
    "\n",
    "For more information about this and other algorithms, the SageMaker developer documentation can be found on __[Amazon's website.](https://docs.aws.amazon.com/sagemaker/latest/dg/)__"
   ]
  },
  {
   "cell_type": "code",
   "execution_count": 15,
   "metadata": {},
   "outputs": [],
   "source": [
    "# First we make sure that the local directory in which we'd like to store the training and validation csv files exists.\n",
    "data_dir = '../data/sentiment_web_app'\n",
    "if not os.path.exists(data_dir):\n",
    "    os.makedirs(data_dir)"
   ]
  },
  {
   "cell_type": "code",
   "execution_count": 16,
   "metadata": {},
   "outputs": [],
   "source": [
    "pd.DataFrame(test_X).to_csv(os.path.join(data_dir, 'test.csv'), header=False, index=False)\n",
    "\n",
    "pd.concat([val_y, val_X], axis=1).to_csv(os.path.join(data_dir, 'validation.csv'), header=False, index=False)\n",
    "pd.concat([train_y, train_X], axis=1).to_csv(os.path.join(data_dir, 'train.csv'), header=False, index=False)"
   ]
  },
  {
   "cell_type": "code",
   "execution_count": 17,
   "metadata": {},
   "outputs": [],
   "source": [
    "# To save a bit of memory we can set text_X, train_X, val_X, train_y and val_y to None.\n",
    "\n",
    "test_X = train_X = val_X = train_y = val_y = None"
   ]
  },
  {
   "cell_type": "markdown",
   "metadata": {},
   "source": [
    "### Uploading Training / Validation files to S3\n",
    "\n",
    "Amazon's S3 service allows us to store files that can be accessed by both the built-in training models such as the XGBoost model we will be using as well as custom models such as the one we will see a little later.\n",
    "\n",
    "For this and most other tasks we will be doing using SageMaker, there are two methods we could use. The first is to use the low level functionality of SageMaker which requires knowing each of the objects involved in the SageMaker environment. The second is to use the high level functionality in which certain choices have been made on the user's behalf. The low level approach benefits from allowing the user a great deal of flexibility while the high level approach makes development much quicker. For our purposes we will opt to use the high level approach although using the low-level approach is certainly an option.\n",
    "\n",
    "Recall the method `upload_data()` which is a member of the object representing our current SageMaker session. What this method does is upload the data to the default bucket (which is created if it does not exist) into the path described by the key_prefix variable. To see this for yourself, once you have uploaded the data files, go to the S3 console and look to see where the files have been uploaded.\n",
    "\n",
    "For additional resources, see the __[SageMaker API documentation](http://sagemaker.readthedocs.io/en/latest/)__ and in addition the __[SageMaker Developer Guide.](https://docs.aws.amazon.com/sagemaker/latest/dg/)__"
   ]
  },
  {
   "cell_type": "code",
   "execution_count": 18,
   "metadata": {},
   "outputs": [],
   "source": [
    "import sagemaker\n",
    "\n",
    "session = sagemaker.Session() # Store the current SageMaker session\n",
    "\n",
    "# S3 prefix (which folder will we use)\n",
    "prefix = 'sentiment-web-app'\n",
    "\n",
    "test_location = session.upload_data(os.path.join(data_dir, 'test.csv'), key_prefix=prefix)\n",
    "val_location = session.upload_data(os.path.join(data_dir, 'validation.csv'), key_prefix=prefix)\n",
    "train_location = session.upload_data(os.path.join(data_dir, 'train.csv'), key_prefix=prefix)"
   ]
  },
  {
   "cell_type": "markdown",
   "metadata": {},
   "source": [
    "## Step 4: Creating the XGBoost model\n",
    "\n",
    "Now that the data has been uploaded it is time to create the XGBoost model. To begin with, we need to do some setup. At this point it is worth discussing what a model is in SageMaker. It is easiest to think of a model of comprising three different objects in the SageMaker ecosystem, which interact with one another.\n",
    "\n",
    "- Model Artifacts\n",
    "- Training Code (Container)\n",
    "- Inference Code (Container)\n",
    "\n",
    "The Model Artifacts are what you might think of as the actual model itself. For example, if you were building a neural network, the model artifacts would be the weights of the various layers. In our case, for an XGBoost model, the artifacts are the actual trees that are created during training.\n",
    "\n",
    "The other two objects, the training code and the inference code are then used to manipulate the training artifacts. More precisely, the training code uses the training data that is provided and creates the model artifacts, while the inference code uses the model artifacts to make predictions on new data.\n",
    "\n",
    "The way that SageMaker runs the training and inference code is by making use of Docker containers. For now, think of a container as being a way of packaging code up so that dependencies aren't an issue."
   ]
  },
  {
   "cell_type": "code",
   "execution_count": 19,
   "metadata": {},
   "outputs": [],
   "source": [
    "from sagemaker import get_execution_role\n",
    "\n",
    "# Our current execution role is required when creating the model as the training\n",
    "# and inference code will need to access the model artifacts.\n",
    "role = get_execution_role()"
   ]
  },
  {
   "cell_type": "code",
   "execution_count": 20,
   "metadata": {},
   "outputs": [
    {
     "name": "stderr",
     "output_type": "stream",
     "text": [
      "'get_image_uri' method will be deprecated in favor of 'ImageURIProvider' class in SageMaker Python SDK v2.\n",
      "There is a more up to date SageMaker XGBoost image. To use the newer image, please set 'repo_version'='1.0-1'. For example:\n",
      "\tget_image_uri(region, 'xgboost', '1.0-1').\n"
     ]
    }
   ],
   "source": [
    "# We need to retrieve the location of the container which is provided by Amazon for using XGBoost.\n",
    "# As a matter of convenience, the training and inference code both use the same container.\n",
    "from sagemaker.amazon.amazon_estimator import get_image_uri\n",
    "\n",
    "container = get_image_uri(session.boto_region_name, 'xgboost')"
   ]
  },
  {
   "cell_type": "code",
   "execution_count": 21,
   "metadata": {},
   "outputs": [
    {
     "name": "stderr",
     "output_type": "stream",
     "text": [
      "Parameter image_name will be renamed to image_uri in SageMaker Python SDK v2.\n"
     ]
    }
   ],
   "source": [
    "# First we create a SageMaker estimator object for our model.\n",
    "xgb = sagemaker.estimator.Estimator(container, # The location of the container we wish to use\n",
    "                                    role,                                    # What is our current IAM Role\n",
    "                                    train_instance_count=1,                  # How many compute instances\n",
    "                                    train_instance_type='ml.m4.xlarge',      # What kind of compute instances\n",
    "                                    output_path='s3://{}/{}/output'.format(session.default_bucket(), prefix),\n",
    "                                    sagemaker_session=session)\n",
    "\n",
    "# And then set the algorithm specific parameters.\n",
    "xgb.set_hyperparameters(max_depth=5,\n",
    "                        eta=0.2,\n",
    "                        gamma=4,\n",
    "                        min_child_weight=6,\n",
    "                        subsample=0.8,\n",
    "                        silent=0,\n",
    "                        objective='binary:logistic',\n",
    "                        early_stopping_rounds=10,\n",
    "                        num_round=500)"
   ]
  },
  {
   "cell_type": "markdown",
   "metadata": {},
   "source": [
    "### Fit the XGBoost model\n",
    "\n",
    "Now that our model has been set up we simply need to attach the training and validation datasets and then ask SageMaker to set up the computation."
   ]
  },
  {
   "cell_type": "code",
   "execution_count": 22,
   "metadata": {},
   "outputs": [
    {
     "name": "stderr",
     "output_type": "stream",
     "text": [
      "'s3_input' class will be renamed to 'TrainingInput' in SageMaker Python SDK v2.\n",
      "'s3_input' class will be renamed to 'TrainingInput' in SageMaker Python SDK v2.\n"
     ]
    }
   ],
   "source": [
    "s3_input_train = sagemaker.s3_input(s3_data=train_location, content_type='csv')\n",
    "s3_input_validation = sagemaker.s3_input(s3_data=val_location, content_type='csv')"
   ]
  },
  {
   "cell_type": "code",
   "execution_count": 23,
   "metadata": {},
   "outputs": [
    {
     "name": "stdout",
     "output_type": "stream",
     "text": [
      "2020-09-13 18:50:06 Starting - Starting the training job...\n",
      "2020-09-13 18:50:08 Starting - Launching requested ML instances......\n",
      "2020-09-13 18:51:30 Starting - Preparing the instances for training......\n",
      "2020-09-13 18:52:33 Downloading - Downloading input data\n",
      "2020-09-13 18:52:33 Training - Downloading the training image...\n",
      "2020-09-13 18:52:54 Training - Training image download completed. Training in progress.\u001b[34mArguments: train\u001b[0m\n",
      "\u001b[34m[2020-09-13:18:52:54:INFO] Running standalone xgboost training.\u001b[0m\n",
      "\u001b[34m[2020-09-13:18:52:54:INFO] File size need to be processed in the node: 238.5mb. Available memory size in the node: 8470.51mb\u001b[0m\n",
      "\u001b[34m[2020-09-13:18:52:54:INFO] Determined delimiter of CSV input is ','\u001b[0m\n",
      "\u001b[34m[18:52:54] S3DistributionType set as FullyReplicated\u001b[0m\n",
      "\u001b[34m[18:52:56] 15000x5000 matrix with 75000000 entries loaded from /opt/ml/input/data/train?format=csv&label_column=0&delimiter=,\u001b[0m\n",
      "\u001b[34m[2020-09-13:18:52:56:INFO] Determined delimiter of CSV input is ','\u001b[0m\n",
      "\u001b[34m[18:52:56] S3DistributionType set as FullyReplicated\u001b[0m\n",
      "\u001b[34m[18:52:57] 10000x5000 matrix with 50000000 entries loaded from /opt/ml/input/data/validation?format=csv&label_column=0&delimiter=,\u001b[0m\n",
      "\u001b[34m[18:53:01] src/tree/updater_prune.cc:74: tree pruning end, 1 roots, 36 extra nodes, 10 pruned nodes, max_depth=5\u001b[0m\n",
      "\u001b[34m[0]#011train-error:0.3082#011validation-error:0.3083\u001b[0m\n",
      "\u001b[34mMultiple eval metrics have been passed: 'validation-error' will be used for early stopping.\n",
      "\u001b[0m\n",
      "\u001b[34mWill train until validation-error hasn't improved in 10 rounds.\u001b[0m\n",
      "\u001b[34m[18:53:02] src/tree/updater_prune.cc:74: tree pruning end, 1 roots, 38 extra nodes, 8 pruned nodes, max_depth=5\u001b[0m\n",
      "\u001b[34m[1]#011train-error:0.2904#011validation-error:0.2932\u001b[0m\n",
      "\u001b[34m[18:53:03] src/tree/updater_prune.cc:74: tree pruning end, 1 roots, 40 extra nodes, 4 pruned nodes, max_depth=5\u001b[0m\n",
      "\u001b[34m[2]#011train-error:0.2904#011validation-error:0.2935\u001b[0m\n",
      "\u001b[34m[18:53:05] src/tree/updater_prune.cc:74: tree pruning end, 1 roots, 38 extra nodes, 4 pruned nodes, max_depth=5\u001b[0m\n",
      "\u001b[34m[3]#011train-error:0.279733#011validation-error:0.2828\u001b[0m\n",
      "\u001b[34m[18:53:06] src/tree/updater_prune.cc:74: tree pruning end, 1 roots, 26 extra nodes, 8 pruned nodes, max_depth=5\u001b[0m\n",
      "\u001b[34m[4]#011train-error:0.276533#011validation-error:0.2848\u001b[0m\n",
      "\u001b[34m[18:53:08] src/tree/updater_prune.cc:74: tree pruning end, 1 roots, 38 extra nodes, 8 pruned nodes, max_depth=5\u001b[0m\n",
      "\u001b[34m[5]#011train-error:0.257533#011validation-error:0.2676\u001b[0m\n",
      "\u001b[34m[18:53:09] src/tree/updater_prune.cc:74: tree pruning end, 1 roots, 42 extra nodes, 0 pruned nodes, max_depth=5\u001b[0m\n",
      "\u001b[34m[6]#011train-error:0.244467#011validation-error:0.2572\u001b[0m\n",
      "\u001b[34m[18:53:10] src/tree/updater_prune.cc:74: tree pruning end, 1 roots, 38 extra nodes, 0 pruned nodes, max_depth=5\u001b[0m\n",
      "\u001b[34m[7]#011train-error:0.240667#011validation-error:0.2567\u001b[0m\n",
      "\u001b[34m[18:53:12] src/tree/updater_prune.cc:74: tree pruning end, 1 roots, 24 extra nodes, 12 pruned nodes, max_depth=5\u001b[0m\n",
      "\u001b[34m[8]#011train-error:0.236933#011validation-error:0.2533\u001b[0m\n",
      "\u001b[34m[18:53:13] src/tree/updater_prune.cc:74: tree pruning end, 1 roots, 32 extra nodes, 10 pruned nodes, max_depth=5\u001b[0m\n",
      "\u001b[34m[9]#011train-error:0.226467#011validation-error:0.2439\u001b[0m\n",
      "\u001b[34m[18:53:14] src/tree/updater_prune.cc:74: tree pruning end, 1 roots, 48 extra nodes, 4 pruned nodes, max_depth=5\u001b[0m\n",
      "\u001b[34m[10]#011train-error:0.221067#011validation-error:0.2412\u001b[0m\n",
      "\u001b[34m[18:53:15] src/tree/updater_prune.cc:74: tree pruning end, 1 roots, 26 extra nodes, 10 pruned nodes, max_depth=5\u001b[0m\n",
      "\u001b[34m[11]#011train-error:0.215933#011validation-error:0.2384\u001b[0m\n",
      "\u001b[34m[18:53:17] src/tree/updater_prune.cc:74: tree pruning end, 1 roots, 40 extra nodes, 10 pruned nodes, max_depth=5\u001b[0m\n",
      "\u001b[34m[12]#011train-error:0.212133#011validation-error:0.2349\u001b[0m\n",
      "\u001b[34m[18:53:18] src/tree/updater_prune.cc:74: tree pruning end, 1 roots, 22 extra nodes, 10 pruned nodes, max_depth=5\u001b[0m\n",
      "\u001b[34m[13]#011train-error:0.207#011validation-error:0.2308\u001b[0m\n",
      "\u001b[34m[18:53:19] src/tree/updater_prune.cc:74: tree pruning end, 1 roots, 26 extra nodes, 10 pruned nodes, max_depth=5\u001b[0m\n",
      "\u001b[34m[14]#011train-error:0.202733#011validation-error:0.2262\u001b[0m\n",
      "\u001b[34m[18:53:21] src/tree/updater_prune.cc:74: tree pruning end, 1 roots, 26 extra nodes, 12 pruned nodes, max_depth=5\u001b[0m\n",
      "\u001b[34m[15]#011train-error:0.199267#011validation-error:0.2248\u001b[0m\n",
      "\u001b[34m[18:53:22] src/tree/updater_prune.cc:74: tree pruning end, 1 roots, 20 extra nodes, 10 pruned nodes, max_depth=5\u001b[0m\n",
      "\u001b[34m[16]#011train-error:0.194867#011validation-error:0.2201\u001b[0m\n",
      "\u001b[34m[18:53:23] src/tree/updater_prune.cc:74: tree pruning end, 1 roots, 22 extra nodes, 8 pruned nodes, max_depth=5\u001b[0m\n",
      "\u001b[34m[17]#011train-error:0.1914#011validation-error:0.2167\u001b[0m\n",
      "\u001b[34m[18:53:24] src/tree/updater_prune.cc:74: tree pruning end, 1 roots, 24 extra nodes, 14 pruned nodes, max_depth=5\u001b[0m\n",
      "\u001b[34m[18]#011train-error:0.190267#011validation-error:0.2158\u001b[0m\n",
      "\u001b[34m[18:53:26] src/tree/updater_prune.cc:74: tree pruning end, 1 roots, 36 extra nodes, 14 pruned nodes, max_depth=5\u001b[0m\n",
      "\u001b[34m[19]#011train-error:0.1894#011validation-error:0.2137\u001b[0m\n",
      "\u001b[34m[18:53:27] src/tree/updater_prune.cc:74: tree pruning end, 1 roots, 28 extra nodes, 14 pruned nodes, max_depth=5\u001b[0m\n",
      "\u001b[34m[20]#011train-error:0.186467#011validation-error:0.2112\u001b[0m\n",
      "\u001b[34m[18:53:28] src/tree/updater_prune.cc:74: tree pruning end, 1 roots, 30 extra nodes, 4 pruned nodes, max_depth=5\u001b[0m\n",
      "\u001b[34m[21]#011train-error:0.183733#011validation-error:0.2087\u001b[0m\n",
      "\u001b[34m[18:53:29] src/tree/updater_prune.cc:74: tree pruning end, 1 roots, 24 extra nodes, 14 pruned nodes, max_depth=5\u001b[0m\n",
      "\u001b[34m[22]#011train-error:0.180933#011validation-error:0.2073\u001b[0m\n",
      "\u001b[34m[18:53:31] src/tree/updater_prune.cc:74: tree pruning end, 1 roots, 34 extra nodes, 2 pruned nodes, max_depth=5\u001b[0m\n",
      "\u001b[34m[23]#011train-error:0.1772#011validation-error:0.2046\u001b[0m\n",
      "\u001b[34m[18:53:32] src/tree/updater_prune.cc:74: tree pruning end, 1 roots, 32 extra nodes, 10 pruned nodes, max_depth=5\u001b[0m\n",
      "\u001b[34m[24]#011train-error:0.1744#011validation-error:0.2033\u001b[0m\n",
      "\u001b[34m[18:53:33] src/tree/updater_prune.cc:74: tree pruning end, 1 roots, 22 extra nodes, 10 pruned nodes, max_depth=5\u001b[0m\n",
      "\u001b[34m[25]#011train-error:0.173533#011validation-error:0.2027\u001b[0m\n",
      "\u001b[34m[18:53:35] src/tree/updater_prune.cc:74: tree pruning end, 1 roots, 24 extra nodes, 12 pruned nodes, max_depth=5\u001b[0m\n",
      "\u001b[34m[26]#011train-error:0.1716#011validation-error:0.2013\u001b[0m\n",
      "\u001b[34m[18:53:36] src/tree/updater_prune.cc:74: tree pruning end, 1 roots, 30 extra nodes, 12 pruned nodes, max_depth=5\u001b[0m\n",
      "\u001b[34m[27]#011train-error:0.1706#011validation-error:0.2012\u001b[0m\n",
      "\u001b[34m[18:53:37] src/tree/updater_prune.cc:74: tree pruning end, 1 roots, 40 extra nodes, 2 pruned nodes, max_depth=5\u001b[0m\n",
      "\u001b[34m[28]#011train-error:0.168067#011validation-error:0.2013\u001b[0m\n",
      "\u001b[34m[18:53:38] src/tree/updater_prune.cc:74: tree pruning end, 1 roots, 26 extra nodes, 10 pruned nodes, max_depth=5\u001b[0m\n",
      "\u001b[34m[29]#011train-error:0.166333#011validation-error:0.2002\u001b[0m\n",
      "\u001b[34m[18:53:40] src/tree/updater_prune.cc:74: tree pruning end, 1 roots, 26 extra nodes, 12 pruned nodes, max_depth=5\u001b[0m\n",
      "\u001b[34m[30]#011train-error:0.165933#011validation-error:0.2005\u001b[0m\n",
      "\u001b[34m[18:53:41] src/tree/updater_prune.cc:74: tree pruning end, 1 roots, 20 extra nodes, 8 pruned nodes, max_depth=5\u001b[0m\n",
      "\u001b[34m[31]#011train-error:0.164333#011validation-error:0.1992\u001b[0m\n",
      "\u001b[34m[18:53:42] src/tree/updater_prune.cc:74: tree pruning end, 1 roots, 18 extra nodes, 8 pruned nodes, max_depth=5\u001b[0m\n",
      "\u001b[34m[32]#011train-error:0.162267#011validation-error:0.1969\u001b[0m\n",
      "\u001b[34m[18:53:44] src/tree/updater_prune.cc:74: tree pruning end, 1 roots, 16 extra nodes, 12 pruned nodes, max_depth=5\u001b[0m\n",
      "\u001b[34m[33]#011train-error:0.160467#011validation-error:0.1956\u001b[0m\n",
      "\u001b[34m[18:53:45] src/tree/updater_prune.cc:74: tree pruning end, 1 roots, 20 extra nodes, 10 pruned nodes, max_depth=5\u001b[0m\n",
      "\u001b[34m[34]#011train-error:0.160467#011validation-error:0.1936\u001b[0m\n",
      "\u001b[34m[18:53:46] src/tree/updater_prune.cc:74: tree pruning end, 1 roots, 22 extra nodes, 10 pruned nodes, max_depth=5\u001b[0m\n",
      "\u001b[34m[35]#011train-error:0.158#011validation-error:0.1937\u001b[0m\n",
      "\u001b[34m[18:53:47] src/tree/updater_prune.cc:74: tree pruning end, 1 roots, 24 extra nodes, 10 pruned nodes, max_depth=5\u001b[0m\n",
      "\u001b[34m[36]#011train-error:0.155733#011validation-error:0.1914\u001b[0m\n",
      "\u001b[34m[18:53:49] src/tree/updater_prune.cc:74: tree pruning end, 1 roots, 38 extra nodes, 8 pruned nodes, max_depth=5\u001b[0m\n",
      "\u001b[34m[37]#011train-error:0.153667#011validation-error:0.1911\u001b[0m\n",
      "\u001b[34m[18:53:50] src/tree/updater_prune.cc:74: tree pruning end, 1 roots, 14 extra nodes, 6 pruned nodes, max_depth=5\u001b[0m\n",
      "\u001b[34m[38]#011train-error:0.153133#011validation-error:0.1895\u001b[0m\n",
      "\u001b[34m[18:53:51] src/tree/updater_prune.cc:74: tree pruning end, 1 roots, 26 extra nodes, 6 pruned nodes, max_depth=5\u001b[0m\n",
      "\u001b[34m[39]#011train-error:0.151867#011validation-error:0.1888\u001b[0m\n"
     ]
    },
    {
     "name": "stdout",
     "output_type": "stream",
     "text": [
      "\u001b[34m[18:53:53] src/tree/updater_prune.cc:74: tree pruning end, 1 roots, 16 extra nodes, 8 pruned nodes, max_depth=5\u001b[0m\n",
      "\u001b[34m[40]#011train-error:0.150733#011validation-error:0.1874\u001b[0m\n",
      "\u001b[34m[18:53:54] src/tree/updater_prune.cc:74: tree pruning end, 1 roots, 20 extra nodes, 8 pruned nodes, max_depth=5\u001b[0m\n",
      "\u001b[34m[41]#011train-error:0.149933#011validation-error:0.1876\u001b[0m\n",
      "\u001b[34m[18:53:55] src/tree/updater_prune.cc:74: tree pruning end, 1 roots, 36 extra nodes, 4 pruned nodes, max_depth=5\u001b[0m\n",
      "\u001b[34m[42]#011train-error:0.147667#011validation-error:0.186\u001b[0m\n",
      "\u001b[34m[18:53:56] src/tree/updater_prune.cc:74: tree pruning end, 1 roots, 20 extra nodes, 14 pruned nodes, max_depth=5\u001b[0m\n",
      "\u001b[34m[43]#011train-error:0.146267#011validation-error:0.1857\u001b[0m\n",
      "\u001b[34m[18:53:58] src/tree/updater_prune.cc:74: tree pruning end, 1 roots, 36 extra nodes, 4 pruned nodes, max_depth=5\u001b[0m\n",
      "\u001b[34m[44]#011train-error:0.145067#011validation-error:0.1847\u001b[0m\n",
      "\u001b[34m[18:53:59] src/tree/updater_prune.cc:74: tree pruning end, 1 roots, 18 extra nodes, 12 pruned nodes, max_depth=5\u001b[0m\n",
      "\u001b[34m[45]#011train-error:0.1442#011validation-error:0.1843\u001b[0m\n",
      "\u001b[34m[18:54:00] src/tree/updater_prune.cc:74: tree pruning end, 1 roots, 20 extra nodes, 6 pruned nodes, max_depth=5\u001b[0m\n",
      "\u001b[34m[46]#011train-error:0.145067#011validation-error:0.1831\u001b[0m\n",
      "\u001b[34m[18:54:02] src/tree/updater_prune.cc:74: tree pruning end, 1 roots, 20 extra nodes, 6 pruned nodes, max_depth=5\u001b[0m\n",
      "\u001b[34m[47]#011train-error:0.142933#011validation-error:0.1822\u001b[0m\n",
      "\u001b[34m[18:54:03] src/tree/updater_prune.cc:74: tree pruning end, 1 roots, 18 extra nodes, 8 pruned nodes, max_depth=5\u001b[0m\n",
      "\u001b[34m[48]#011train-error:0.141667#011validation-error:0.1826\u001b[0m\n",
      "\u001b[34m[18:54:04] src/tree/updater_prune.cc:74: tree pruning end, 1 roots, 28 extra nodes, 12 pruned nodes, max_depth=5\u001b[0m\n",
      "\u001b[34m[49]#011train-error:0.141467#011validation-error:0.1803\u001b[0m\n",
      "\u001b[34m[18:54:05] src/tree/updater_prune.cc:74: tree pruning end, 1 roots, 36 extra nodes, 6 pruned nodes, max_depth=5\u001b[0m\n",
      "\u001b[34m[50]#011train-error:0.1392#011validation-error:0.1796\u001b[0m\n",
      "\u001b[34m[18:54:07] src/tree/updater_prune.cc:74: tree pruning end, 1 roots, 12 extra nodes, 12 pruned nodes, max_depth=5\u001b[0m\n",
      "\u001b[34m[51]#011train-error:0.1388#011validation-error:0.1787\u001b[0m\n",
      "\u001b[34m[18:54:08] src/tree/updater_prune.cc:74: tree pruning end, 1 roots, 20 extra nodes, 4 pruned nodes, max_depth=5\u001b[0m\n",
      "\u001b[34m[52]#011train-error:0.1374#011validation-error:0.178\u001b[0m\n",
      "\u001b[34m[18:54:09] src/tree/updater_prune.cc:74: tree pruning end, 1 roots, 24 extra nodes, 8 pruned nodes, max_depth=5\u001b[0m\n",
      "\u001b[34m[53]#011train-error:0.136#011validation-error:0.1761\u001b[0m\n",
      "\u001b[34m[18:54:10] src/tree/updater_prune.cc:74: tree pruning end, 1 roots, 22 extra nodes, 10 pruned nodes, max_depth=5\u001b[0m\n",
      "\u001b[34m[54]#011train-error:0.1348#011validation-error:0.1758\u001b[0m\n",
      "\u001b[34m[18:54:12] src/tree/updater_prune.cc:74: tree pruning end, 1 roots, 20 extra nodes, 4 pruned nodes, max_depth=5\u001b[0m\n",
      "\u001b[34m[55]#011train-error:0.133467#011validation-error:0.1749\u001b[0m\n",
      "\u001b[34m[18:54:13] src/tree/updater_prune.cc:74: tree pruning end, 1 roots, 30 extra nodes, 10 pruned nodes, max_depth=5\u001b[0m\n",
      "\u001b[34m[56]#011train-error:0.132333#011validation-error:0.175\u001b[0m\n",
      "\u001b[34m[18:54:14] src/tree/updater_prune.cc:74: tree pruning end, 1 roots, 16 extra nodes, 16 pruned nodes, max_depth=5\u001b[0m\n",
      "\u001b[34m[57]#011train-error:0.1318#011validation-error:0.1738\u001b[0m\n",
      "\u001b[34m[18:54:16] src/tree/updater_prune.cc:74: tree pruning end, 1 roots, 22 extra nodes, 10 pruned nodes, max_depth=5\u001b[0m\n",
      "\u001b[34m[58]#011train-error:0.130267#011validation-error:0.1734\u001b[0m\n",
      "\u001b[34m[18:54:17] src/tree/updater_prune.cc:74: tree pruning end, 1 roots, 34 extra nodes, 4 pruned nodes, max_depth=5\u001b[0m\n",
      "\u001b[34m[59]#011train-error:0.128867#011validation-error:0.1728\u001b[0m\n",
      "\u001b[34m[18:54:18] src/tree/updater_prune.cc:74: tree pruning end, 1 roots, 22 extra nodes, 16 pruned nodes, max_depth=5\u001b[0m\n",
      "\u001b[34m[60]#011train-error:0.128467#011validation-error:0.1725\u001b[0m\n",
      "\u001b[34m[18:54:20] src/tree/updater_prune.cc:74: tree pruning end, 1 roots, 30 extra nodes, 8 pruned nodes, max_depth=5\u001b[0m\n",
      "\u001b[34m[61]#011train-error:0.126667#011validation-error:0.1711\u001b[0m\n",
      "\u001b[34m[18:54:21] src/tree/updater_prune.cc:74: tree pruning end, 1 roots, 24 extra nodes, 12 pruned nodes, max_depth=5\u001b[0m\n",
      "\u001b[34m[62]#011train-error:0.125933#011validation-error:0.1691\u001b[0m\n",
      "\u001b[34m[18:54:22] src/tree/updater_prune.cc:74: tree pruning end, 1 roots, 18 extra nodes, 8 pruned nodes, max_depth=5\u001b[0m\n",
      "\u001b[34m[63]#011train-error:0.1258#011validation-error:0.1689\u001b[0m\n",
      "\u001b[34m[18:54:23] src/tree/updater_prune.cc:74: tree pruning end, 1 roots, 32 extra nodes, 4 pruned nodes, max_depth=5\u001b[0m\n",
      "\u001b[34m[64]#011train-error:0.125067#011validation-error:0.1689\u001b[0m\n",
      "\u001b[34m[18:54:25] src/tree/updater_prune.cc:74: tree pruning end, 1 roots, 10 extra nodes, 8 pruned nodes, max_depth=5\u001b[0m\n",
      "\u001b[34m[65]#011train-error:0.124867#011validation-error:0.1672\u001b[0m\n",
      "\u001b[34m[18:54:26] src/tree/updater_prune.cc:74: tree pruning end, 1 roots, 12 extra nodes, 12 pruned nodes, max_depth=5\u001b[0m\n",
      "\u001b[34m[66]#011train-error:0.1236#011validation-error:0.1668\u001b[0m\n",
      "\u001b[34m[18:54:27] src/tree/updater_prune.cc:74: tree pruning end, 1 roots, 16 extra nodes, 8 pruned nodes, max_depth=5\u001b[0m\n",
      "\u001b[34m[67]#011train-error:0.122667#011validation-error:0.167\u001b[0m\n",
      "\u001b[34m[18:54:29] src/tree/updater_prune.cc:74: tree pruning end, 1 roots, 24 extra nodes, 6 pruned nodes, max_depth=5\u001b[0m\n",
      "\u001b[34m[68]#011train-error:0.121067#011validation-error:0.1666\u001b[0m\n",
      "\u001b[34m[18:54:30] src/tree/updater_prune.cc:74: tree pruning end, 1 roots, 18 extra nodes, 14 pruned nodes, max_depth=5\u001b[0m\n",
      "\u001b[34m[69]#011train-error:0.1214#011validation-error:0.1665\u001b[0m\n",
      "\u001b[34m[18:54:31] src/tree/updater_prune.cc:74: tree pruning end, 1 roots, 14 extra nodes, 6 pruned nodes, max_depth=5\u001b[0m\n",
      "\u001b[34m[70]#011train-error:0.1208#011validation-error:0.1667\u001b[0m\n",
      "\u001b[34m[18:54:32] src/tree/updater_prune.cc:74: tree pruning end, 1 roots, 18 extra nodes, 6 pruned nodes, max_depth=5\u001b[0m\n",
      "\u001b[34m[71]#011train-error:0.119333#011validation-error:0.1659\u001b[0m\n",
      "\u001b[34m[18:54:34] src/tree/updater_prune.cc:74: tree pruning end, 1 roots, 20 extra nodes, 8 pruned nodes, max_depth=5\u001b[0m\n",
      "\u001b[34m[72]#011train-error:0.118267#011validation-error:0.1653\u001b[0m\n",
      "\u001b[34m[18:54:35] src/tree/updater_prune.cc:74: tree pruning end, 1 roots, 18 extra nodes, 10 pruned nodes, max_depth=5\u001b[0m\n",
      "\u001b[34m[73]#011train-error:0.117933#011validation-error:0.1657\u001b[0m\n",
      "\u001b[34m[18:54:36] src/tree/updater_prune.cc:74: tree pruning end, 1 roots, 48 extra nodes, 8 pruned nodes, max_depth=5\u001b[0m\n",
      "\u001b[34m[74]#011train-error:0.116333#011validation-error:0.1638\u001b[0m\n",
      "\u001b[34m[18:54:38] src/tree/updater_prune.cc:74: tree pruning end, 1 roots, 18 extra nodes, 8 pruned nodes, max_depth=5\u001b[0m\n",
      "\u001b[34m[75]#011train-error:0.116#011validation-error:0.1635\u001b[0m\n",
      "\u001b[34m[18:54:39] src/tree/updater_prune.cc:74: tree pruning end, 1 roots, 16 extra nodes, 8 pruned nodes, max_depth=5\u001b[0m\n",
      "\u001b[34m[76]#011train-error:0.1158#011validation-error:0.1632\u001b[0m\n",
      "\u001b[34m[18:54:40] src/tree/updater_prune.cc:74: tree pruning end, 1 roots, 18 extra nodes, 8 pruned nodes, max_depth=5\u001b[0m\n",
      "\u001b[34m[77]#011train-error:0.114867#011validation-error:0.1621\u001b[0m\n",
      "\u001b[34m[18:54:41] src/tree/updater_prune.cc:74: tree pruning end, 1 roots, 20 extra nodes, 8 pruned nodes, max_depth=5\u001b[0m\n",
      "\u001b[34m[78]#011train-error:0.114#011validation-error:0.1626\u001b[0m\n",
      "\u001b[34m[18:54:43] src/tree/updater_prune.cc:74: tree pruning end, 1 roots, 12 extra nodes, 6 pruned nodes, max_depth=5\u001b[0m\n",
      "\u001b[34m[79]#011train-error:0.113133#011validation-error:0.1616\u001b[0m\n",
      "\u001b[34m[18:54:44] src/tree/updater_prune.cc:74: tree pruning end, 1 roots, 10 extra nodes, 14 pruned nodes, max_depth=5\u001b[0m\n",
      "\u001b[34m[80]#011train-error:0.112667#011validation-error:0.1606\u001b[0m\n",
      "\u001b[34m[18:54:45] src/tree/updater_prune.cc:74: tree pruning end, 1 roots, 16 extra nodes, 12 pruned nodes, max_depth=5\u001b[0m\n",
      "\u001b[34m[81]#011train-error:0.112067#011validation-error:0.1603\u001b[0m\n",
      "\u001b[34m[18:54:47] src/tree/updater_prune.cc:74: tree pruning end, 1 roots, 20 extra nodes, 6 pruned nodes, max_depth=5\u001b[0m\n",
      "\u001b[34m[82]#011train-error:0.111133#011validation-error:0.1607\u001b[0m\n",
      "\u001b[34m[18:54:48] src/tree/updater_prune.cc:74: tree pruning end, 1 roots, 10 extra nodes, 4 pruned nodes, max_depth=5\u001b[0m\n",
      "\u001b[34m[83]#011train-error:0.111#011validation-error:0.1602\u001b[0m\n",
      "\u001b[34m[18:54:49] src/tree/updater_prune.cc:74: tree pruning end, 1 roots, 22 extra nodes, 14 pruned nodes, max_depth=5\u001b[0m\n",
      "\u001b[34m[84]#011train-error:0.109333#011validation-error:0.1591\u001b[0m\n",
      "\u001b[34m[18:54:50] src/tree/updater_prune.cc:74: tree pruning end, 1 roots, 26 extra nodes, 6 pruned nodes, max_depth=5\u001b[0m\n",
      "\u001b[34m[85]#011train-error:0.109133#011validation-error:0.1584\u001b[0m\n",
      "\u001b[34m[18:54:52] src/tree/updater_prune.cc:74: tree pruning end, 1 roots, 24 extra nodes, 12 pruned nodes, max_depth=5\u001b[0m\n",
      "\u001b[34m[86]#011train-error:0.1088#011validation-error:0.158\u001b[0m\n",
      "\u001b[34m[18:54:53] src/tree/updater_prune.cc:74: tree pruning end, 1 roots, 22 extra nodes, 4 pruned nodes, max_depth=5\u001b[0m\n",
      "\u001b[34m[87]#011train-error:0.108867#011validation-error:0.1572\u001b[0m\n"
     ]
    },
    {
     "name": "stdout",
     "output_type": "stream",
     "text": [
      "\u001b[34m[18:54:54] src/tree/updater_prune.cc:74: tree pruning end, 1 roots, 18 extra nodes, 8 pruned nodes, max_depth=5\u001b[0m\n",
      "\u001b[34m[88]#011train-error:0.107933#011validation-error:0.1575\u001b[0m\n",
      "\u001b[34m[18:54:56] src/tree/updater_prune.cc:74: tree pruning end, 1 roots, 24 extra nodes, 6 pruned nodes, max_depth=5\u001b[0m\n",
      "\u001b[34m[89]#011train-error:0.1074#011validation-error:0.1575\u001b[0m\n",
      "\u001b[34m[18:54:57] src/tree/updater_prune.cc:74: tree pruning end, 1 roots, 10 extra nodes, 10 pruned nodes, max_depth=5\u001b[0m\n",
      "\u001b[34m[90]#011train-error:0.106933#011validation-error:0.1567\u001b[0m\n",
      "\u001b[34m[18:54:58] src/tree/updater_prune.cc:74: tree pruning end, 1 roots, 14 extra nodes, 12 pruned nodes, max_depth=5\u001b[0m\n",
      "\u001b[34m[91]#011train-error:0.106933#011validation-error:0.156\u001b[0m\n",
      "\u001b[34m[18:54:59] src/tree/updater_prune.cc:74: tree pruning end, 1 roots, 22 extra nodes, 10 pruned nodes, max_depth=5\u001b[0m\n",
      "\u001b[34m[92]#011train-error:0.107667#011validation-error:0.1545\u001b[0m\n",
      "\u001b[34m[18:55:01] src/tree/updater_prune.cc:74: tree pruning end, 1 roots, 16 extra nodes, 2 pruned nodes, max_depth=5\u001b[0m\n",
      "\u001b[34m[93]#011train-error:0.107133#011validation-error:0.1541\u001b[0m\n",
      "\u001b[34m[18:55:02] src/tree/updater_prune.cc:74: tree pruning end, 1 roots, 22 extra nodes, 6 pruned nodes, max_depth=5\u001b[0m\n",
      "\u001b[34m[94]#011train-error:0.105733#011validation-error:0.1532\u001b[0m\n",
      "\u001b[34m[18:55:03] src/tree/updater_prune.cc:74: tree pruning end, 1 roots, 22 extra nodes, 8 pruned nodes, max_depth=5\u001b[0m\n",
      "\u001b[34m[95]#011train-error:0.105467#011validation-error:0.1531\u001b[0m\n",
      "\u001b[34m[18:55:05] src/tree/updater_prune.cc:74: tree pruning end, 1 roots, 20 extra nodes, 6 pruned nodes, max_depth=5\u001b[0m\n",
      "\u001b[34m[96]#011train-error:0.104733#011validation-error:0.1527\u001b[0m\n",
      "\u001b[34m[18:55:06] src/tree/updater_prune.cc:74: tree pruning end, 1 roots, 16 extra nodes, 6 pruned nodes, max_depth=5\u001b[0m\n",
      "\u001b[34m[97]#011train-error:0.1046#011validation-error:0.1531\u001b[0m\n",
      "\u001b[34m[18:55:07] src/tree/updater_prune.cc:74: tree pruning end, 1 roots, 20 extra nodes, 4 pruned nodes, max_depth=5\u001b[0m\n",
      "\u001b[34m[98]#011train-error:0.104#011validation-error:0.1521\u001b[0m\n",
      "\u001b[34m[18:55:08] src/tree/updater_prune.cc:74: tree pruning end, 1 roots, 28 extra nodes, 6 pruned nodes, max_depth=5\u001b[0m\n",
      "\u001b[34m[99]#011train-error:0.103533#011validation-error:0.152\u001b[0m\n",
      "\u001b[34m[18:55:10] src/tree/updater_prune.cc:74: tree pruning end, 1 roots, 18 extra nodes, 20 pruned nodes, max_depth=5\u001b[0m\n",
      "\u001b[34m[100]#011train-error:0.102933#011validation-error:0.1523\u001b[0m\n",
      "\u001b[34m[18:55:11] src/tree/updater_prune.cc:74: tree pruning end, 1 roots, 22 extra nodes, 16 pruned nodes, max_depth=5\u001b[0m\n",
      "\u001b[34m[101]#011train-error:0.103#011validation-error:0.1523\u001b[0m\n",
      "\u001b[34m[18:55:12] src/tree/updater_prune.cc:74: tree pruning end, 1 roots, 10 extra nodes, 2 pruned nodes, max_depth=5\u001b[0m\n",
      "\u001b[34m[102]#011train-error:0.102533#011validation-error:0.1524\u001b[0m\n",
      "\u001b[34m[18:55:14] src/tree/updater_prune.cc:74: tree pruning end, 1 roots, 10 extra nodes, 10 pruned nodes, max_depth=5\u001b[0m\n",
      "\u001b[34m[103]#011train-error:0.102733#011validation-error:0.1515\u001b[0m\n",
      "\u001b[34m[18:55:15] src/tree/updater_prune.cc:74: tree pruning end, 1 roots, 18 extra nodes, 8 pruned nodes, max_depth=5\u001b[0m\n",
      "\u001b[34m[104]#011train-error:0.1014#011validation-error:0.1509\u001b[0m\n",
      "\u001b[34m[18:55:16] src/tree/updater_prune.cc:74: tree pruning end, 1 roots, 32 extra nodes, 14 pruned nodes, max_depth=5\u001b[0m\n",
      "\u001b[34m[105]#011train-error:0.1004#011validation-error:0.1514\u001b[0m\n",
      "\u001b[34m[18:55:17] src/tree/updater_prune.cc:74: tree pruning end, 1 roots, 20 extra nodes, 8 pruned nodes, max_depth=5\u001b[0m\n",
      "\u001b[34m[106]#011train-error:0.099267#011validation-error:0.1513\u001b[0m\n",
      "\u001b[34m[18:55:19] src/tree/updater_prune.cc:74: tree pruning end, 1 roots, 12 extra nodes, 18 pruned nodes, max_depth=5\u001b[0m\n",
      "\u001b[34m[107]#011train-error:0.098533#011validation-error:0.1503\u001b[0m\n",
      "\u001b[34m[18:55:20] src/tree/updater_prune.cc:74: tree pruning end, 1 roots, 24 extra nodes, 6 pruned nodes, max_depth=5\u001b[0m\n",
      "\u001b[34m[108]#011train-error:0.098933#011validation-error:0.1506\u001b[0m\n",
      "\u001b[34m[18:55:21] src/tree/updater_prune.cc:74: tree pruning end, 1 roots, 20 extra nodes, 10 pruned nodes, max_depth=5\u001b[0m\n",
      "\u001b[34m[109]#011train-error:0.0986#011validation-error:0.1497\u001b[0m\n",
      "\u001b[34m[18:55:22] src/tree/updater_prune.cc:74: tree pruning end, 1 roots, 18 extra nodes, 0 pruned nodes, max_depth=5\u001b[0m\n",
      "\u001b[34m[110]#011train-error:0.0982#011validation-error:0.1496\u001b[0m\n",
      "\u001b[34m[18:55:24] src/tree/updater_prune.cc:74: tree pruning end, 1 roots, 24 extra nodes, 4 pruned nodes, max_depth=5\u001b[0m\n",
      "\u001b[34m[111]#011train-error:0.0974#011validation-error:0.1493\u001b[0m\n",
      "\u001b[34m[18:55:25] src/tree/updater_prune.cc:74: tree pruning end, 1 roots, 20 extra nodes, 10 pruned nodes, max_depth=5\u001b[0m\n",
      "\u001b[34m[112]#011train-error:0.0966#011validation-error:0.1496\u001b[0m\n",
      "\u001b[34m[18:55:26] src/tree/updater_prune.cc:74: tree pruning end, 1 roots, 12 extra nodes, 10 pruned nodes, max_depth=5\u001b[0m\n",
      "\u001b[34m[113]#011train-error:0.097133#011validation-error:0.1495\u001b[0m\n",
      "\u001b[34m[18:55:28] src/tree/updater_prune.cc:74: tree pruning end, 1 roots, 28 extra nodes, 8 pruned nodes, max_depth=5\u001b[0m\n",
      "\u001b[34m[114]#011train-error:0.095733#011validation-error:0.149\u001b[0m\n",
      "\u001b[34m[18:55:29] src/tree/updater_prune.cc:74: tree pruning end, 1 roots, 16 extra nodes, 2 pruned nodes, max_depth=5\u001b[0m\n",
      "\u001b[34m[115]#011train-error:0.0952#011validation-error:0.1496\u001b[0m\n",
      "\u001b[34m[18:55:30] src/tree/updater_prune.cc:74: tree pruning end, 1 roots, 12 extra nodes, 6 pruned nodes, max_depth=5\u001b[0m\n",
      "\u001b[34m[116]#011train-error:0.0952#011validation-error:0.149\u001b[0m\n",
      "\u001b[34m[18:55:32] src/tree/updater_prune.cc:74: tree pruning end, 1 roots, 16 extra nodes, 4 pruned nodes, max_depth=5\u001b[0m\n",
      "\u001b[34m[117]#011train-error:0.0942#011validation-error:0.1498\u001b[0m\n",
      "\u001b[34m[18:55:33] src/tree/updater_prune.cc:74: tree pruning end, 1 roots, 10 extra nodes, 12 pruned nodes, max_depth=5\u001b[0m\n",
      "\u001b[34m[118]#011train-error:0.094#011validation-error:0.1495\u001b[0m\n",
      "\u001b[34m[18:55:34] src/tree/updater_prune.cc:74: tree pruning end, 1 roots, 10 extra nodes, 8 pruned nodes, max_depth=5\u001b[0m\n",
      "\u001b[34m[119]#011train-error:0.093933#011validation-error:0.1493\u001b[0m\n",
      "\u001b[34m[18:55:35] src/tree/updater_prune.cc:74: tree pruning end, 1 roots, 10 extra nodes, 8 pruned nodes, max_depth=5\u001b[0m\n",
      "\u001b[34m[120]#011train-error:0.094133#011validation-error:0.1492\u001b[0m\n",
      "\u001b[34m[18:55:37] src/tree/updater_prune.cc:74: tree pruning end, 1 roots, 20 extra nodes, 12 pruned nodes, max_depth=5\u001b[0m\n",
      "\u001b[34m[121]#011train-error:0.093067#011validation-error:0.1495\u001b[0m\n",
      "\u001b[34m[18:55:38] src/tree/updater_prune.cc:74: tree pruning end, 1 roots, 10 extra nodes, 8 pruned nodes, max_depth=5\u001b[0m\n",
      "\u001b[34m[122]#011train-error:0.092933#011validation-error:0.1491\u001b[0m\n",
      "\u001b[34m[18:55:39] src/tree/updater_prune.cc:74: tree pruning end, 1 roots, 20 extra nodes, 4 pruned nodes, max_depth=5\u001b[0m\n",
      "\u001b[34m[123]#011train-error:0.092#011validation-error:0.1494\u001b[0m\n",
      "\u001b[34m[18:55:40] src/tree/updater_prune.cc:74: tree pruning end, 1 roots, 22 extra nodes, 10 pruned nodes, max_depth=5\u001b[0m\n",
      "\u001b[34m[124]#011train-error:0.091733#011validation-error:0.1499\u001b[0m\n",
      "\u001b[34mStopping. Best iteration:\u001b[0m\n",
      "\u001b[34m[114]#011train-error:0.095733#011validation-error:0.149\n",
      "\u001b[0m\n",
      "\n",
      "2020-09-13 18:55:48 Uploading - Uploading generated training model\n",
      "2020-09-13 18:55:48 Completed - Training job completed\n",
      "Training seconds: 209\n",
      "Billable seconds: 209\n"
     ]
    }
   ],
   "source": [
    "xgb.fit({'train': s3_input_train, 'validation': s3_input_validation})"
   ]
  },
  {
   "cell_type": "markdown",
   "metadata": {},
   "source": [
    "## Step 5: Testing the model\n",
    "\n",
    "Now that we've fit our XGBoost model, it's time to see how well it performs. To do this we will use SageMakers Batch Transform functionality. Batch Transform is a convenient way to perform inference on a large dataset in a way that is not realtime. That is, we don't necessarily need to use our model's results immediately and instead we can perform inference on a large number of samples. An example of this in industry might be performing an end of month report. This method of inference can also be useful to us as it means that we can perform inference on our entire test set. \n",
    "\n",
    "To perform a Batch Transformation we need to first create a transformer objects from our trained estimator object."
   ]
  },
  {
   "cell_type": "code",
   "execution_count": 24,
   "metadata": {},
   "outputs": [
    {
     "name": "stderr",
     "output_type": "stream",
     "text": [
      "Parameter image will be renamed to image_uri in SageMaker Python SDK v2.\n"
     ]
    }
   ],
   "source": [
    "xgb_transformer = xgb.transformer(instance_count = 1, instance_type = 'ml.m4.xlarge')"
   ]
  },
  {
   "cell_type": "markdown",
   "metadata": {},
   "source": [
    "Next we actually perform the transform job. When doing so we need to make sure to specify the type of data we are sending so that it is serialized correctly in the background. In our case we are providing our model with csv data so we specify `text/csv`. Also, if the test data that we have provided is too large to process all at once then we need to specify how the data file should be split up. Since each line is a single entry in our data set we tell SageMaker that it can split the input on each line."
   ]
  },
  {
   "cell_type": "code",
   "execution_count": 25,
   "metadata": {},
   "outputs": [],
   "source": [
    "xgb_transformer.transform(test_location, content_type='text/csv', split_type='Line')"
   ]
  },
  {
   "cell_type": "markdown",
   "metadata": {},
   "source": [
    "Currently the transform job is running but it is doing so in the background. Since we wish to wait until the transform job is done and we would like a bit of feedback we can run the `wait()` method."
   ]
  },
  {
   "cell_type": "code",
   "execution_count": 26,
   "metadata": {},
   "outputs": [
    {
     "name": "stdout",
     "output_type": "stream",
     "text": [
      ".............................\u001b[34mArguments: serve\u001b[0m\n",
      "\u001b[35mArguments: serve\u001b[0m\n",
      "\u001b[34m[2020-09-13 19:01:02 +0000] [1] [INFO] Starting gunicorn 19.7.1\u001b[0m\n",
      "\u001b[34m[2020-09-13 19:01:02 +0000] [1] [INFO] Listening at: http://0.0.0.0:8080 (1)\u001b[0m\n",
      "\u001b[34m[2020-09-13 19:01:02 +0000] [1] [INFO] Using worker: gevent\u001b[0m\n",
      "\u001b[35m[2020-09-13 19:01:02 +0000] [1] [INFO] Starting gunicorn 19.7.1\u001b[0m\n",
      "\u001b[35m[2020-09-13 19:01:02 +0000] [1] [INFO] Listening at: http://0.0.0.0:8080 (1)\u001b[0m\n",
      "\u001b[35m[2020-09-13 19:01:02 +0000] [1] [INFO] Using worker: gevent\u001b[0m\n",
      "\u001b[34m[2020-09-13 19:01:02 +0000] [36] [INFO] Booting worker with pid: 36\u001b[0m\n",
      "\u001b[34m[2020-09-13 19:01:02 +0000] [37] [INFO] Booting worker with pid: 37\u001b[0m\n",
      "\u001b[34m[2020-09-13 19:01:02 +0000] [38] [INFO] Booting worker with pid: 38\u001b[0m\n",
      "\u001b[34m[2020-09-13:19:01:02:INFO] Model loaded successfully for worker : 36\u001b[0m\n",
      "\u001b[34m[2020-09-13:19:01:02:INFO] Model loaded successfully for worker : 37\u001b[0m\n",
      "\u001b[34m[2020-09-13 19:01:02 +0000] [39] [INFO] Booting worker with pid: 39\u001b[0m\n",
      "\u001b[34m[2020-09-13:19:01:02:INFO] Model loaded successfully for worker : 38\u001b[0m\n",
      "\u001b[34m[2020-09-13:19:01:02:INFO] Model loaded successfully for worker : 39\u001b[0m\n",
      "\u001b[34m[2020-09-13:19:01:02:INFO] Sniff delimiter as ','\u001b[0m\n",
      "\u001b[34m[2020-09-13:19:01:02:INFO] Determined delimiter of CSV input is ','\u001b[0m\n",
      "\u001b[34m[2020-09-13:19:01:03:INFO] Sniff delimiter as ','\u001b[0m\n",
      "\u001b[34m[2020-09-13:19:01:03:INFO] Determined delimiter of CSV input is ','\u001b[0m\n",
      "\u001b[34m[2020-09-13:19:01:03:INFO] Sniff delimiter as ','\u001b[0m\n",
      "\u001b[34m[2020-09-13:19:01:03:INFO] Determined delimiter of CSV input is ','\u001b[0m\n",
      "\u001b[34m[2020-09-13:19:01:03:INFO] Sniff delimiter as ','\u001b[0m\n",
      "\u001b[34m[2020-09-13:19:01:03:INFO] Determined delimiter of CSV input is ','\u001b[0m\n",
      "\u001b[35m[2020-09-13 19:01:02 +0000] [36] [INFO] Booting worker with pid: 36\u001b[0m\n",
      "\u001b[35m[2020-09-13 19:01:02 +0000] [37] [INFO] Booting worker with pid: 37\u001b[0m\n",
      "\u001b[35m[2020-09-13 19:01:02 +0000] [38] [INFO] Booting worker with pid: 38\u001b[0m\n",
      "\u001b[35m[2020-09-13:19:01:02:INFO] Model loaded successfully for worker : 36\u001b[0m\n",
      "\u001b[35m[2020-09-13:19:01:02:INFO] Model loaded successfully for worker : 37\u001b[0m\n",
      "\u001b[35m[2020-09-13 19:01:02 +0000] [39] [INFO] Booting worker with pid: 39\u001b[0m\n",
      "\u001b[35m[2020-09-13:19:01:02:INFO] Model loaded successfully for worker : 38\u001b[0m\n",
      "\u001b[35m[2020-09-13:19:01:02:INFO] Model loaded successfully for worker : 39\u001b[0m\n",
      "\u001b[35m[2020-09-13:19:01:02:INFO] Sniff delimiter as ','\u001b[0m\n",
      "\u001b[35m[2020-09-13:19:01:02:INFO] Determined delimiter of CSV input is ','\u001b[0m\n",
      "\u001b[35m[2020-09-13:19:01:03:INFO] Sniff delimiter as ','\u001b[0m\n",
      "\u001b[35m[2020-09-13:19:01:03:INFO] Determined delimiter of CSV input is ','\u001b[0m\n",
      "\u001b[35m[2020-09-13:19:01:03:INFO] Sniff delimiter as ','\u001b[0m\n",
      "\u001b[35m[2020-09-13:19:01:03:INFO] Determined delimiter of CSV input is ','\u001b[0m\n",
      "\u001b[35m[2020-09-13:19:01:03:INFO] Sniff delimiter as ','\u001b[0m\n",
      "\u001b[35m[2020-09-13:19:01:03:INFO] Determined delimiter of CSV input is ','\u001b[0m\n",
      "\u001b[34m[2020-09-13:19:01:05:INFO] Sniff delimiter as ','\u001b[0m\n",
      "\u001b[34m[2020-09-13:19:01:05:INFO] Determined delimiter of CSV input is ','\u001b[0m\n",
      "\u001b[35m[2020-09-13:19:01:05:INFO] Sniff delimiter as ','\u001b[0m\n",
      "\u001b[35m[2020-09-13:19:01:05:INFO] Determined delimiter of CSV input is ','\u001b[0m\n",
      "\u001b[34m[2020-09-13:19:01:05:INFO] Sniff delimiter as ','\u001b[0m\n",
      "\u001b[34m[2020-09-13:19:01:05:INFO] Determined delimiter of CSV input is ','\u001b[0m\n",
      "\u001b[34m[2020-09-13:19:01:05:INFO] Sniff delimiter as ','\u001b[0m\n",
      "\u001b[34m[2020-09-13:19:01:05:INFO] Sniff delimiter as ','\u001b[0m\n",
      "\u001b[34m[2020-09-13:19:01:05:INFO] Determined delimiter of CSV input is ','\u001b[0m\n",
      "\u001b[34m[2020-09-13:19:01:05:INFO] Determined delimiter of CSV input is ','\u001b[0m\n",
      "\u001b[35m[2020-09-13:19:01:05:INFO] Sniff delimiter as ','\u001b[0m\n",
      "\u001b[35m[2020-09-13:19:01:05:INFO] Determined delimiter of CSV input is ','\u001b[0m\n",
      "\u001b[35m[2020-09-13:19:01:05:INFO] Sniff delimiter as ','\u001b[0m\n",
      "\u001b[35m[2020-09-13:19:01:05:INFO] Sniff delimiter as ','\u001b[0m\n",
      "\u001b[35m[2020-09-13:19:01:05:INFO] Determined delimiter of CSV input is ','\u001b[0m\n",
      "\u001b[35m[2020-09-13:19:01:05:INFO] Determined delimiter of CSV input is ','\u001b[0m\n",
      "\u001b[32m2020-09-13T19:01:02.662:[sagemaker logs]: MaxConcurrentTransforms=4, MaxPayloadInMB=6, BatchStrategy=MULTI_RECORD\u001b[0m\n",
      "\u001b[34m[2020-09-13:19:01:08:INFO] Sniff delimiter as ','\u001b[0m\n",
      "\u001b[35m[2020-09-13:19:01:08:INFO] Sniff delimiter as ','\u001b[0m\n",
      "\u001b[34m[2020-09-13:19:01:08:INFO] Determined delimiter of CSV input is ','\u001b[0m\n",
      "\u001b[34m[2020-09-13:19:01:08:INFO] Sniff delimiter as ','\u001b[0m\n",
      "\u001b[34m[2020-09-13:19:01:08:INFO] Determined delimiter of CSV input is ','\u001b[0m\n",
      "\u001b[34m[2020-09-13:19:01:08:INFO] Sniff delimiter as ','\u001b[0m\n",
      "\u001b[34m[2020-09-13:19:01:08:INFO] Determined delimiter of CSV input is ','\u001b[0m\n",
      "\u001b[34m[2020-09-13:19:01:08:INFO] Sniff delimiter as ','\u001b[0m\n",
      "\u001b[34m[2020-09-13:19:01:08:INFO] Determined delimiter of CSV input is ','\u001b[0m\n",
      "\u001b[35m[2020-09-13:19:01:08:INFO] Determined delimiter of CSV input is ','\u001b[0m\n",
      "\u001b[35m[2020-09-13:19:01:08:INFO] Sniff delimiter as ','\u001b[0m\n",
      "\u001b[35m[2020-09-13:19:01:08:INFO] Determined delimiter of CSV input is ','\u001b[0m\n",
      "\u001b[35m[2020-09-13:19:01:08:INFO] Sniff delimiter as ','\u001b[0m\n",
      "\u001b[35m[2020-09-13:19:01:08:INFO] Determined delimiter of CSV input is ','\u001b[0m\n",
      "\u001b[35m[2020-09-13:19:01:08:INFO] Sniff delimiter as ','\u001b[0m\n",
      "\u001b[35m[2020-09-13:19:01:08:INFO] Determined delimiter of CSV input is ','\u001b[0m\n",
      "\u001b[34m[2020-09-13:19:01:10:INFO] Sniff delimiter as ','\u001b[0m\n",
      "\u001b[34m[2020-09-13:19:01:10:INFO] Determined delimiter of CSV input is ','\u001b[0m\n",
      "\u001b[34m[2020-09-13:19:01:10:INFO] Sniff delimiter as ','\u001b[0m\n",
      "\u001b[34m[2020-09-13:19:01:10:INFO] Determined delimiter of CSV input is ','\u001b[0m\n",
      "\u001b[34m[2020-09-13:19:01:10:INFO] Sniff delimiter as ','\u001b[0m\n",
      "\u001b[34m[2020-09-13:19:01:10:INFO] Determined delimiter of CSV input is ','\u001b[0m\n",
      "\u001b[34m[2020-09-13:19:01:10:INFO] Sniff delimiter as ','\u001b[0m\n",
      "\u001b[34m[2020-09-13:19:01:10:INFO] Determined delimiter of CSV input is ','\u001b[0m\n",
      "\u001b[35m[2020-09-13:19:01:10:INFO] Sniff delimiter as ','\u001b[0m\n",
      "\u001b[35m[2020-09-13:19:01:10:INFO] Determined delimiter of CSV input is ','\u001b[0m\n",
      "\u001b[35m[2020-09-13:19:01:10:INFO] Sniff delimiter as ','\u001b[0m\n",
      "\u001b[35m[2020-09-13:19:01:10:INFO] Determined delimiter of CSV input is ','\u001b[0m\n",
      "\u001b[35m[2020-09-13:19:01:10:INFO] Sniff delimiter as ','\u001b[0m\n",
      "\u001b[35m[2020-09-13:19:01:10:INFO] Determined delimiter of CSV input is ','\u001b[0m\n",
      "\u001b[35m[2020-09-13:19:01:10:INFO] Sniff delimiter as ','\u001b[0m\n",
      "\u001b[35m[2020-09-13:19:01:10:INFO] Determined delimiter of CSV input is ','\u001b[0m\n",
      "\u001b[34m[2020-09-13:19:01:13:INFO] Sniff delimiter as ','\u001b[0m\n",
      "\u001b[34m[2020-09-13:19:01:13:INFO] Determined delimiter of CSV input is ','\u001b[0m\n",
      "\u001b[34m[2020-09-13:19:01:13:INFO] Sniff delimiter as ','\u001b[0m\n",
      "\u001b[34m[2020-09-13:19:01:13:INFO] Determined delimiter of CSV input is ','\u001b[0m\n",
      "\u001b[34m[2020-09-13:19:01:13:INFO] Sniff delimiter as ','\u001b[0m\n",
      "\u001b[34m[2020-09-13:19:01:13:INFO] Determined delimiter of CSV input is ','\u001b[0m\n",
      "\u001b[34m[2020-09-13:19:01:13:INFO] Sniff delimiter as ','\u001b[0m\n",
      "\u001b[34m[2020-09-13:19:01:13:INFO] Determined delimiter of CSV input is ','\u001b[0m\n",
      "\u001b[35m[2020-09-13:19:01:13:INFO] Sniff delimiter as ','\u001b[0m\n",
      "\u001b[35m[2020-09-13:19:01:13:INFO] Determined delimiter of CSV input is ','\u001b[0m\n",
      "\u001b[35m[2020-09-13:19:01:13:INFO] Sniff delimiter as ','\u001b[0m\n",
      "\u001b[35m[2020-09-13:19:01:13:INFO] Determined delimiter of CSV input is ','\u001b[0m\n",
      "\u001b[35m[2020-09-13:19:01:13:INFO] Sniff delimiter as ','\u001b[0m\n",
      "\u001b[35m[2020-09-13:19:01:13:INFO] Determined delimiter of CSV input is ','\u001b[0m\n",
      "\u001b[35m[2020-09-13:19:01:13:INFO] Sniff delimiter as ','\u001b[0m\n",
      "\u001b[35m[2020-09-13:19:01:13:INFO] Determined delimiter of CSV input is ','\u001b[0m\n",
      "\u001b[34m[2020-09-13:19:01:15:INFO] Sniff delimiter as ','\u001b[0m\n",
      "\u001b[34m[2020-09-13:19:01:15:INFO] Determined delimiter of CSV input is ','\u001b[0m\n",
      "\u001b[34m[2020-09-13:19:01:15:INFO] Sniff delimiter as ','\u001b[0m\n",
      "\u001b[34m[2020-09-13:19:01:15:INFO] Determined delimiter of CSV input is ','\u001b[0m\n",
      "\u001b[35m[2020-09-13:19:01:15:INFO] Sniff delimiter as ','\u001b[0m\n",
      "\u001b[35m[2020-09-13:19:01:15:INFO] Determined delimiter of CSV input is ','\u001b[0m\n",
      "\u001b[35m[2020-09-13:19:01:15:INFO] Sniff delimiter as ','\u001b[0m\n",
      "\u001b[35m[2020-09-13:19:01:15:INFO] Determined delimiter of CSV input is ','\u001b[0m\n",
      "\u001b[34m[2020-09-13:19:01:15:INFO] Sniff delimiter as ','\u001b[0m\n",
      "\u001b[34m[2020-09-13:19:01:15:INFO] Determined delimiter of CSV input is ','\u001b[0m\n",
      "\u001b[34m[2020-09-13:19:01:15:INFO] Sniff delimiter as ','\u001b[0m\n",
      "\u001b[34m[2020-09-13:19:01:15:INFO] Determined delimiter of CSV input is ','\u001b[0m\n",
      "\u001b[35m[2020-09-13:19:01:15:INFO] Sniff delimiter as ','\u001b[0m\n",
      "\u001b[35m[2020-09-13:19:01:15:INFO] Determined delimiter of CSV input is ','\u001b[0m\n",
      "\u001b[35m[2020-09-13:19:01:15:INFO] Sniff delimiter as ','\u001b[0m\n",
      "\u001b[35m[2020-09-13:19:01:15:INFO] Determined delimiter of CSV input is ','\u001b[0m\n",
      "\u001b[34m[2020-09-13:19:01:17:INFO] Sniff delimiter as ','\u001b[0m\n",
      "\u001b[34m[2020-09-13:19:01:17:INFO] Determined delimiter of CSV input is ','\u001b[0m\n",
      "\u001b[34m[2020-09-13:19:01:17:INFO] Sniff delimiter as ','\u001b[0m\n",
      "\u001b[34m[2020-09-13:19:01:17:INFO] Determined delimiter of CSV input is ','\u001b[0m\n",
      "\u001b[34m[2020-09-13:19:01:18:INFO] Sniff delimiter as ','\u001b[0m\n",
      "\u001b[34m[2020-09-13:19:01:18:INFO] Determined delimiter of CSV input is ','\u001b[0m\n",
      "\u001b[34m[2020-09-13:19:01:18:INFO] Sniff delimiter as ','\u001b[0m\n",
      "\u001b[34m[2020-09-13:19:01:18:INFO] Determined delimiter of CSV input is ','\u001b[0m\n",
      "\u001b[35m[2020-09-13:19:01:17:INFO] Sniff delimiter as ','\u001b[0m\n",
      "\u001b[35m[2020-09-13:19:01:17:INFO] Determined delimiter of CSV input is ','\u001b[0m\n",
      "\u001b[35m[2020-09-13:19:01:17:INFO] Sniff delimiter as ','\u001b[0m\n",
      "\u001b[35m[2020-09-13:19:01:17:INFO] Determined delimiter of CSV input is ','\u001b[0m\n",
      "\u001b[35m[2020-09-13:19:01:18:INFO] Sniff delimiter as ','\u001b[0m\n",
      "\u001b[35m[2020-09-13:19:01:18:INFO] Determined delimiter of CSV input is ','\u001b[0m\n",
      "\u001b[35m[2020-09-13:19:01:18:INFO] Sniff delimiter as ','\u001b[0m\n",
      "\u001b[35m[2020-09-13:19:01:18:INFO] Determined delimiter of CSV input is ','\u001b[0m\n",
      "\u001b[34m[2020-09-13:19:01:20:INFO] Sniff delimiter as ','\u001b[0m\n",
      "\u001b[34m[2020-09-13:19:01:20:INFO] Determined delimiter of CSV input is ','\u001b[0m\n",
      "\u001b[34m[2020-09-13:19:01:20:INFO] Sniff delimiter as ','\u001b[0m\n",
      "\u001b[34m[2020-09-13:19:01:20:INFO] Determined delimiter of CSV input is ','\u001b[0m\n",
      "\u001b[34m[2020-09-13:19:01:20:INFO] Sniff delimiter as ','\u001b[0m\n",
      "\u001b[34m[2020-09-13:19:01:20:INFO] Determined delimiter of CSV input is ','\u001b[0m\n",
      "\u001b[35m[2020-09-13:19:01:20:INFO] Sniff delimiter as ','\u001b[0m\n",
      "\u001b[35m[2020-09-13:19:01:20:INFO] Determined delimiter of CSV input is ','\u001b[0m\n",
      "\u001b[35m[2020-09-13:19:01:20:INFO] Sniff delimiter as ','\u001b[0m\n",
      "\u001b[35m[2020-09-13:19:01:20:INFO] Determined delimiter of CSV input is ','\u001b[0m\n",
      "\u001b[35m[2020-09-13:19:01:20:INFO] Sniff delimiter as ','\u001b[0m\n",
      "\u001b[35m[2020-09-13:19:01:20:INFO] Determined delimiter of CSV input is ','\u001b[0m\n"
     ]
    },
    {
     "name": "stdout",
     "output_type": "stream",
     "text": [
      "\u001b[34m[2020-09-13:19:01:22:INFO] Sniff delimiter as ','\u001b[0m\n",
      "\u001b[34m[2020-09-13:19:01:22:INFO] Determined delimiter of CSV input is ','\u001b[0m\n",
      "\u001b[34m[2020-09-13:19:01:23:INFO] Sniff delimiter as ','\u001b[0m\n",
      "\u001b[34m[2020-09-13:19:01:23:INFO] Determined delimiter of CSV input is ','\u001b[0m\n",
      "\u001b[35m[2020-09-13:19:01:22:INFO] Sniff delimiter as ','\u001b[0m\n",
      "\u001b[35m[2020-09-13:19:01:22:INFO] Determined delimiter of CSV input is ','\u001b[0m\n",
      "\u001b[35m[2020-09-13:19:01:23:INFO] Sniff delimiter as ','\u001b[0m\n",
      "\u001b[35m[2020-09-13:19:01:23:INFO] Determined delimiter of CSV input is ','\u001b[0m\n",
      "\u001b[34m[2020-09-13:19:01:25:INFO] Sniff delimiter as ','\u001b[0m\n",
      "\u001b[35m[2020-09-13:19:01:25:INFO] Sniff delimiter as ','\u001b[0m\n",
      "\u001b[34m[2020-09-13:19:01:25:INFO] Determined delimiter of CSV input is ','\u001b[0m\n",
      "\u001b[34m[2020-09-13:19:01:25:INFO] Sniff delimiter as ','\u001b[0m\n",
      "\u001b[34m[2020-09-13:19:01:25:INFO] Determined delimiter of CSV input is ','\u001b[0m\n",
      "\u001b[34m[2020-09-13:19:01:25:INFO] Sniff delimiter as ','\u001b[0m\n",
      "\u001b[34m[2020-09-13:19:01:25:INFO] Determined delimiter of CSV input is ','\u001b[0m\n",
      "\u001b[35m[2020-09-13:19:01:25:INFO] Determined delimiter of CSV input is ','\u001b[0m\n",
      "\u001b[35m[2020-09-13:19:01:25:INFO] Sniff delimiter as ','\u001b[0m\n",
      "\u001b[35m[2020-09-13:19:01:25:INFO] Determined delimiter of CSV input is ','\u001b[0m\n",
      "\u001b[35m[2020-09-13:19:01:25:INFO] Sniff delimiter as ','\u001b[0m\n",
      "\u001b[35m[2020-09-13:19:01:25:INFO] Determined delimiter of CSV input is ','\u001b[0m\n",
      "\n"
     ]
    }
   ],
   "source": [
    "xgb_transformer.wait()"
   ]
  },
  {
   "cell_type": "markdown",
   "metadata": {},
   "source": [
    "Now the transform job has executed and the result, the estimated sentiment of each review, has been saved on S3. Since we would rather work on this file locally we can perform a bit of notebook magic to copy the file to the `data_dir`."
   ]
  },
  {
   "cell_type": "code",
   "execution_count": 27,
   "metadata": {},
   "outputs": [
    {
     "name": "stdout",
     "output_type": "stream",
     "text": [
      "Completed 256.0 KiB/368.9 KiB (3.1 MiB/s) with 1 file(s) remaining\r",
      "Completed 368.9 KiB/368.9 KiB (4.4 MiB/s) with 1 file(s) remaining\r",
      "download: s3://sagemaker-us-east-2-444100773610/xgboost-2020-09-13-18-56-20-453/test.csv.out to ../data/sentiment_web_app/test.csv.out\r\n"
     ]
    }
   ],
   "source": [
    "!aws s3 cp --recursive $xgb_transformer.output_path $data_dir"
   ]
  },
  {
   "cell_type": "markdown",
   "metadata": {},
   "source": [
    "The last step is now to read in the output from our model, convert the output to something a little more usable, in this case we want the sentiment to be either `1` (positive) or `0` (negative), and then compare to the ground truth labels."
   ]
  },
  {
   "cell_type": "code",
   "execution_count": 28,
   "metadata": {},
   "outputs": [],
   "source": [
    "predictions = pd.read_csv(os.path.join(data_dir, 'test.csv.out'), header=None)\n",
    "predictions = [round(num) for num in predictions.squeeze().values]"
   ]
  },
  {
   "cell_type": "code",
   "execution_count": 29,
   "metadata": {},
   "outputs": [
    {
     "data": {
      "text/plain": [
       "0.84992"
      ]
     },
     "execution_count": 29,
     "metadata": {},
     "output_type": "execute_result"
    }
   ],
   "source": [
    "from sklearn.metrics import accuracy_score\n",
    "accuracy_score(test_y, predictions)"
   ]
  },
  {
   "cell_type": "markdown",
   "metadata": {},
   "source": [
    "## Step 6: Deploying the model\n",
    "\n",
    "Once we construct and fit our model, SageMaker stores the resulting model artifacts and we can use those to deploy an endpoint (inference code). To see this, look in the SageMaker console and you should see that a model has been created along with a link to the S3 location where the model artifacts have been stored.\n",
    "\n",
    "Deploying an endpoint is a lot like training the model with a few important differences. The first is that a deployed model doesn't change the model artifacts, so as you send it various testing instances the model won't change. Another difference is that since we aren't performing a fixed computation, as we were in the training step or while performing a batch transform, the compute instance that gets started stays running until we tell it to stop. This is important to note as if we forget and leave it running we will be charged the entire time.\n",
    "\n",
    "In other words **If you are no longer using a deployed endpoint, shut it down!**"
   ]
  },
  {
   "cell_type": "code",
   "execution_count": 30,
   "metadata": {},
   "outputs": [
    {
     "name": "stderr",
     "output_type": "stream",
     "text": [
      "Parameter image will be renamed to image_uri in SageMaker Python SDK v2.\n",
      "Using already existing model: xgboost-2020-09-13-18-50-06-638\n"
     ]
    },
    {
     "name": "stdout",
     "output_type": "stream",
     "text": [
      "-------------!"
     ]
    }
   ],
   "source": [
    "xgb_predictor = xgb.deploy(initial_instance_count = 1, instance_type = 'ml.m4.xlarge')"
   ]
  },
  {
   "cell_type": "markdown",
   "metadata": {},
   "source": [
    "### Testing the model (again)\n",
    "\n",
    "Now that we have deployed our endpoint, we can send the testing data to it and get back the inference results. We already did this earlier using the batch transform functionality of SageMaker, however, we will test our model again using the newly deployed endpoint so that we can make sure that it works properly and to get a bit of a feel for how the endpoint works.\n",
    "\n",
    "When using the created endpoint it is important to know that we are limited in the amount of information we can send in each call so we need to break the testing data up into chunks and then send each chunk. Also, we need to serialize our data before we send it to the endpoint to ensure that our data is transmitted properly. Fortunately, SageMaker can do the serialization part for us provided we tell it the format of our data."
   ]
  },
  {
   "cell_type": "code",
   "execution_count": 31,
   "metadata": {},
   "outputs": [],
   "source": [
    "from sagemaker.predictor import csv_serializer\n",
    "\n",
    "# We need to tell the endpoint what format the data we are sending is in so that SageMaker can perform the serialization.\n",
    "xgb_predictor.content_type = 'text/csv'\n",
    "xgb_predictor.serializer = csv_serializer"
   ]
  },
  {
   "cell_type": "code",
   "execution_count": 32,
   "metadata": {},
   "outputs": [],
   "source": [
    "# We split the data into chunks and send each chunk seperately, accumulating the results.\n",
    "\n",
    "def predict(data, rows=512):\n",
    "    split_array = np.array_split(data, int(data.shape[0] / float(rows) + 1))\n",
    "    predictions = ''\n",
    "    for array in split_array:\n",
    "        predictions = ','.join([predictions, xgb_predictor.predict(array).decode('utf-8')])\n",
    "    \n",
    "    return np.fromstring(predictions[1:], sep=',')"
   ]
  },
  {
   "cell_type": "code",
   "execution_count": 33,
   "metadata": {},
   "outputs": [],
   "source": [
    "test_X = pd.read_csv(os.path.join(data_dir, 'test.csv'), header=None).values\n",
    "\n",
    "predictions = predict(test_X)\n",
    "predictions = [round(num) for num in predictions]"
   ]
  },
  {
   "cell_type": "markdown",
   "metadata": {},
   "source": [
    "Lastly, we check to see what the accuracy of our model is."
   ]
  },
  {
   "cell_type": "code",
   "execution_count": 34,
   "metadata": {},
   "outputs": [
    {
     "data": {
      "text/plain": [
       "0.84992"
      ]
     },
     "execution_count": 34,
     "metadata": {},
     "output_type": "execute_result"
    }
   ],
   "source": [
    "from sklearn.metrics import accuracy_score\n",
    "accuracy_score(test_y, predictions)"
   ]
  },
  {
   "cell_type": "markdown",
   "metadata": {},
   "source": [
    "And the results here should agree with the model testing that we did earlier using the batch transform job.\n",
    "\n",
    "### Cleaning up\n",
    "\n",
    "Now that we've determined that deploying our model works as expected, we are going to shut it down. Remember that the longer the endpoint is left running, the greater the cost and since we have a bit more work to do before we are able to use our endpoint with our simple web app, we should shut everything down."
   ]
  },
  {
   "cell_type": "code",
   "execution_count": null,
   "metadata": {},
   "outputs": [],
   "source": [
    "xgb_predictor.delete_endpoint()"
   ]
  },
  {
   "cell_type": "markdown",
   "metadata": {},
   "source": [
    "## Step 7: Putting our model to work\n",
    "\n",
    "As we've mentioned a few times now, our goal is to have our model deployed and then access it using a very simple web app. The intent is for this web app to take some user submitted data (a review), send it off to our endpoint (the model) and then display the result.\n",
    "\n",
    "However, there is a small catch. Currently the only way we can access the endpoint to send it data is using the SageMaker API. We can, if we wish, expose the actual URL that our model's endpoint is receiving data from, however, if we just send it data ourselves we will not get anything in return. This is because the endpoint created by SageMaker requires the entity accessing it have the correct permissions. So, we would need to somehow authenticate our web app with AWS.\n",
    "\n",
    "Having a website that authenticates to AWS seems a bit beyond the scope of this lesson so we will opt for an alternative approach. Namely, we will create a new endpoint which does not require authentication and which acts as a proxy for the SageMaker endpoint.\n",
    "\n",
    "As an additional constraint, we will try to avoid doing any data processing in the web app itself. Remember that when we constructed and tested our model we started with a movie review, then we simplified it by removing any html formatting and punctuation, then we constructed a bag of words embedding and the resulting vector is what we sent to our model. All of this needs to be done to our user input as well.\n",
    "\n",
    "Fortunately we can do all of this data processing in the backend, using Amazon's Lambda service.\n",
    "\n",
    "<img src=\"Web App Diagram.svg\">\n",
    "\n",
    "The diagram above gives an overview of how the various services will work together. On the far right is the model which we trained above and which will be deployed using SageMaker. On the far left is our web app that collects a user's movie review, sends it off and expects a positive or negative sentiment in return.\n",
    "\n",
    "In the middle is where some of the magic happens. We will construct a Lambda function, which you can think of as a straightforward Python function that can be executed whenever a specified event occurs. This Python function will do the data processing we need to perform on a user submitted review. In addition, we will give this function permission to send and recieve data from a SageMaker endpoint.\n",
    "\n",
    "Lastly, the method we will use to execute the Lambda function is a new endpoint that we will create using API Gateway. This endpoint will be a url that listens for data to be sent to it. Once it gets some data it will pass that data on to the Lambda function and then return whatever the Lambda function returns. Essentially it will act as an interface that lets our web app communicate with the Lambda function.\n",
    "\n",
    "### Processing a single review\n",
    "\n",
    "For now, suppose we are given a movie review by our user in the form of a string, like so:"
   ]
  },
  {
   "cell_type": "code",
   "execution_count": 35,
   "metadata": {},
   "outputs": [],
   "source": [
    "test_review = \"Nothing but a disgusting materialistic pageant of glistening abed remote control greed zombies, totally devoid of any heart or heat. A romantic comedy that has zero romantic chemestry and zero laughs!\""
   ]
  },
  {
   "cell_type": "markdown",
   "metadata": {},
   "source": [
    "How do we go from this string to the bag of words feature vector that is expected by our model?\n",
    "\n",
    "If we recall at the beginning of this notebook, the first step is to remove any unnecessary characters using the `review_to_words` method. Remember that we intentionally did this in a very simplistic way. This is because we are going to have to copy this method to our (eventual) Lambda function (we will go into more detail later) and this means it needs to be rather simplistic."
   ]
  },
  {
   "cell_type": "code",
   "execution_count": 36,
   "metadata": {},
   "outputs": [
    {
     "name": "stdout",
     "output_type": "stream",
     "text": [
      "nothing but a disgusting materialistic pageant of glistening abed remote control greed zombies totally devoid of any heart or heat a romantic comedy that has zero romantic chemestry and zero laughs\n"
     ]
    }
   ],
   "source": [
    "test_words = review_to_words(test_review)\n",
    "print(test_words)"
   ]
  },
  {
   "cell_type": "markdown",
   "metadata": {},
   "source": [
    "Next, we need to construct a bag of words embedding of the `test_words` string. To do this, remember that a bag of words embedding uses a `vocabulary` consisting of the most frequently appearing words in a set of documents. Then, for each word in the vocabulary we record the number of times that word appears in `test_words`. We constructed the `vocabulary` earlier using the training set for our problem so encoding `test_words` is relatively straightforward."
   ]
  },
  {
   "cell_type": "code",
   "execution_count": 37,
   "metadata": {},
   "outputs": [],
   "source": [
    "def bow_encoding(words, vocabulary):\n",
    "    bow = [0] * len(vocabulary) # Start by setting the count for each word in the vocabulary to zero.\n",
    "    for word in words.split():  # For each word in the string\n",
    "        if word in vocabulary:  # If the word is one that occurs in the vocabulary, increase its count.\n",
    "            bow[vocabulary[word]] += 1\n",
    "    return bow"
   ]
  },
  {
   "cell_type": "code",
   "execution_count": 38,
   "metadata": {},
   "outputs": [
    {
     "name": "stdout",
     "output_type": "stream",
     "text": [
      "[0, 0, 0, 0, 0, 0, 0, 0, 0, 0, 0, 0, 0, 0, 0, 0, 0, 0, 0, 0, 0, 0, 0, 0, 0, 0, 0, 0, 0, 0, 0, 0, 0, 0, 0, 0, 0, 0, 0, 0, 0, 0, 0, 0, 0, 0, 0, 0, 0, 0, 0, 0, 0, 0, 0, 0, 0, 0, 0, 0, 0, 0, 0, 0, 0, 0, 0, 0, 0, 0, 0, 0, 0, 0, 0, 0, 0, 0, 0, 0, 0, 0, 0, 0, 0, 0, 0, 0, 0, 0, 0, 0, 0, 0, 0, 0, 0, 0, 0, 0, 0, 0, 0, 0, 0, 0, 0, 0, 0, 0, 0, 0, 0, 0, 0, 0, 0, 0, 0, 0, 0, 0, 0, 0, 0, 0, 0, 0, 0, 0, 0, 0, 0, 0, 0, 0, 0, 0, 0, 0, 0, 0, 0, 0, 0, 0, 0, 0, 0, 0, 0, 0, 0, 0, 0, 0, 0, 0, 0, 0, 0, 0, 0, 0, 0, 0, 0, 0, 0, 0, 0, 0, 0, 0, 0, 0, 0, 0, 0, 0, 0, 0, 0, 0, 0, 0, 0, 0, 0, 0, 0, 0, 0, 0, 0, 0, 0, 0, 0, 0, 0, 0, 0, 0, 0, 0, 0, 0, 0, 0, 0, 0, 0, 0, 0, 0, 0, 0, 0, 0, 0, 0, 0, 0, 0, 0, 1, 0, 0, 0, 0, 0, 0, 0, 0, 0, 0, 0, 0, 0, 0, 0, 0, 0, 0, 0, 0, 0, 0, 0, 0, 0, 0, 0, 0, 1, 0, 0, 0, 0, 0, 0, 0, 0, 0, 0, 0, 0, 0, 0, 0, 0, 0, 0, 0, 0, 0, 0, 0, 0, 0, 0, 0, 0, 0, 0, 0, 0, 0, 0, 0, 0, 0, 0, 0, 0, 0, 0, 0, 0, 0, 0, 0, 0, 0, 0, 0, 0, 0, 0, 0, 0, 0, 0, 0, 0, 0, 0, 0, 0, 0, 0, 0, 0, 0, 0, 0, 0, 0, 0, 0, 0, 0, 0, 0, 0, 0, 0, 0, 0, 0, 0, 0, 0, 0, 0, 0, 0, 0, 0, 0, 0, 0, 0, 0, 0, 0, 0, 0, 0, 0, 0, 0, 0, 0, 0, 0, 0, 0, 0, 0, 0, 0, 0, 0, 0, 0, 0, 0, 0, 0, 0, 0, 0, 0, 0, 0, 0, 0, 0, 0, 0, 0, 0, 0, 0, 0, 0, 0, 0, 0, 0, 0, 0, 0, 0, 0, 0, 0, 0, 0, 0, 0, 0, 0, 0, 0, 0, 0, 0, 0, 0, 0, 0, 0, 0, 0, 0, 0, 0, 0, 0, 0, 0, 0, 0, 0, 0, 0, 0, 0, 0, 0, 0, 0, 0, 0, 0, 0, 0, 0, 0, 0, 0, 0, 0, 0, 0, 0, 0, 0, 0, 0, 0, 0, 0, 0, 0, 0, 0, 0, 0, 0, 0, 0, 0, 0, 0, 0, 0, 0, 0, 0, 0, 0, 0, 0, 0, 0, 0, 0, 0, 0, 0, 0, 0, 0, 0, 0, 0, 0, 0, 0, 0, 0, 0, 0, 0, 0, 0, 0, 0, 0, 0, 0, 0, 0, 0, 0, 0, 0, 0, 0, 0, 0, 0, 0, 0, 0, 0, 0, 0, 0, 0, 0, 0, 0, 0, 0, 0, 0, 0, 0, 0, 0, 0, 0, 0, 0, 0, 0, 0, 0, 0, 0, 0, 0, 0, 0, 0, 0, 0, 0, 0, 0, 0, 0, 0, 0, 0, 0, 0, 0, 0, 0, 0, 0, 0, 0, 0, 0, 0, 0, 0, 0, 0, 0, 0, 0, 0, 0, 0, 0, 0, 0, 0, 0, 0, 0, 0, 0, 0, 0, 0, 0, 0, 0, 0, 0, 0, 0, 0, 0, 0, 0, 0, 0, 0, 0, 0, 0, 0, 0, 0, 0, 0, 0, 0, 0, 0, 0, 0, 0, 0, 0, 0, 1, 0, 0, 0, 0, 0, 0, 0, 0, 0, 0, 0, 0, 0, 0, 0, 0, 0, 0, 0, 0, 0, 0, 0, 0, 0, 0, 0, 0, 0, 0, 0, 0, 0, 0, 0, 0, 0, 0, 0, 0, 0, 0, 0, 0, 0, 0, 0, 0, 0, 0, 0, 0, 0, 0, 0, 0, 0, 0, 0, 0, 0, 0, 0, 0, 0, 0, 0, 0, 0, 0, 0, 0, 0, 0, 0, 0, 0, 0, 0, 0, 0, 0, 0, 0, 0, 0, 0, 0, 0, 0, 0, 0, 0, 0, 0, 0, 0, 0, 0, 0, 0, 0, 0, 0, 0, 0, 0, 0, 0, 0, 0, 0, 0, 0, 0, 0, 0, 0, 0, 0, 0, 0, 0, 0, 0, 0, 0, 0, 0, 0, 0, 0, 0, 0, 0, 0, 0, 0, 0, 0, 0, 0, 0, 0, 0, 0, 0, 0, 0, 0, 0, 0, 0, 0, 0, 0, 0, 0, 0, 0, 0, 0, 0, 0, 0, 0, 0, 0, 0, 0, 0, 0, 0, 0, 0, 0, 0, 0, 0, 0, 0, 0, 0, 0, 0, 0, 0, 0, 0, 0, 0, 0, 0, 0, 0, 0, 0, 0, 0, 0, 0, 0, 0, 0, 0, 0, 0, 0, 0, 0, 0, 0, 0, 0, 0, 0, 0, 0, 0, 0, 0, 0, 0, 0, 0, 0, 0, 0, 0, 0, 0, 0, 0, 0, 0, 0, 0, 0, 0, 0, 0, 0, 0, 0, 0, 0, 0, 0, 0, 0, 0, 0, 0, 1, 0, 0, 0, 0, 0, 0, 0, 0, 0, 0, 0, 0, 0, 0, 0, 0, 0, 0, 0, 0, 0, 0, 0, 0, 0, 0, 0, 0, 0, 0, 0, 0, 0, 0, 0, 0, 0, 0, 0, 0, 0, 0, 0, 0, 0, 0, 0, 0, 0, 0, 0, 0, 0, 0, 0, 0, 0, 0, 0, 0, 0, 0, 0, 0, 0, 0, 0, 0, 0, 0, 0, 0, 0, 0, 0, 0, 0, 0, 0, 0, 0, 0, 0, 0, 0, 0, 1, 0, 0, 0, 0, 0, 0, 0, 0, 0, 0, 0, 0, 0, 0, 0, 0, 0, 0, 0, 0, 0, 0, 0, 0, 0, 0, 0, 0, 0, 0, 0, 0, 0, 0, 0, 0, 0, 0, 0, 0, 0, 0, 0, 0, 0, 0, 0, 0, 0, 0, 0, 0, 0, 0, 0, 0, 0, 0, 0, 0, 0, 0, 0, 0, 0, 0, 0, 0, 0, 0, 0, 0, 0, 0, 0, 0, 0, 0, 0, 0, 0, 0, 0, 0, 0, 0, 0, 0, 0, 0, 0, 0, 0, 0, 0, 0, 0, 0, 0, 0, 0, 0, 0, 0, 0, 0, 0, 0, 0, 0, 0, 0, 0, 0, 0, 0, 0, 0, 0, 0, 0, 0, 0, 0, 0, 0, 0, 0, 0, 0, 0, 0, 0, 0, 0, 0, 0, 0, 0, 0, 0, 0, 0, 0, 0, 0, 0, 0, 0, 0, 0, 0, 0, 0, 0, 0, 0, 0, 0, 0, 0, 0, 0, 0, 0, 0, 0, 0, 0, 0, 0, 0, 0, 0, 0, 0, 0, 0, 0, 0, 0, 0, 0, 0, 0, 0, 0, 0, 0, 0, 0, 0, 0, 0, 0, 0, 0, 0, 0, 0, 0, 0, 0, 0, 0, 0, 0, 0, 0, 0, 0, 0, 0, 0, 0, 0, 0, 0, 0, 0, 0, 0, 0, 0, 0, 0, 0, 0, 0, 0, 0, 0, 0, 0, 0, 0, 0, 0, 0, 0, 0, 0, 0, 0, 0, 0, 0, 0, 0, 0, 1, 0, 0, 0, 0, 0, 0, 0, 0, 0, 0, 0, 0, 0, 0, 0, 0, 0, 0, 0, 0, 0, 0, 0, 0, 0, 0, 0, 0, 0, 0, 0, 0, 0, 0, 0, 0, 0, 0, 0, 0, 0, 0, 0, 0, 0, 0, 0, 0, 0, 0, 0, 0, 0, 0, 0, 1, 0, 0, 0, 0, 0, 0, 0, 0, 0, 0, 0, 0, 0, 0, 0, 0, 0, 0, 0, 0, 0, 0, 0, 0, 0, 0, 0, 0, 0, 0, 0, 0, 0, 0, 0, 0, 0, 0, 0, 0, 0, 0, 0, 0, 0, 0, 0, 0, 0, 0, 0, 0, 0, 0, 0, 0, 0, 0, 0, 0, 0, 0, 0, 0, 0, 0, 0, 0, 0, 0, 0, 0, 0, 0, 0, 0, 0, 0, 0, 0, 0, 0, 0, 0, 0, 0, 0, 0, 0, 0, 0, 0, 0, 0, 0, 0, 0, 0, 0, 0, 0, 0, 0, 0, 0, 0, 0, 0, 0, 0, 0, 0, 0, 0, 0, 0, 0, 0, 0, 0, 0, 0, 0, 0, 0, 0, 0, 0, 0, 0, 0, 0, 0, 0, 0, 0, 0, 0, 0, 0, 0, 0, 0, 0, 0, 0, 0, 0, 0, 0, 0, 0, 0, 0, 0, 0, 0, 0, 0, 0, 0, 0, 0, 0, 0, 0, 0, 0, 0, 0, 0, 0, 0, 0, 0, 0, 0, 0, 0, 0, 0, 0, 0, 0, 0, 0, 0, 0, 0, 0, 0, 0, 0, 0, 0, 0, 0, 0, 0, 0, 0, 0, 0, 0, 0, 0, 0, 0, 0, 0, 0, 0, 0, 0, 0, 0, 0, 0, 0, 0, 0, 0, 0, 0, 0, 0, 0, 0, 0, 0, 0, 0, 0, 0, 0, 0, 0, 0, 0, 0, 0, 0, 0, 0, 0, 0, 0, 0, 0, 0, 0, 0, 0, 0, 0, 0, 0, 0, 0, 0, 0, 0, 0, 0, 0, 0, 0, 0, 0, 0, 0, 0, 0, 0, 0, 0, 0, 0, 0, 0, 0, 0, 0, 0, 0, 0, 0, 0, 0, 0, 0, 0, 0, 0, 0, 0, 0, 0, 0, 0, 0, 0, 0, 0, 0, 0, 0, 0, 0, 0, 0, 0, 0, 0, 0, 0, 0, 0, 0, 0, 0, 0, 0, 0, 0, 0, 0, 0, 0, 0, 0, 0, 0, 0, 0, 0, 0, 0, 0, 0, 0, 0, 0, 0, 0, 0, 0, 0, 0, 0, 0, 0, 0, 0, 0, 0, 0, 0, 0, 0, 0, 0, 0, 0, 0, 0, 0, 0, 0, 0, 0, 0, 0, 0, 0, 0, 0, 0, 0, 0, 0, 0, 0, 0, 0, 0, 0, 0, 0, 0, 0, 0, 0, 0, 0, 0, 0, 0, 0, 0, 0, 0, 0, 0, 0, 0, 0, 0, 0, 0, 0, 0, 0, 0, 0, 0, 0, 0, 0, 0, 0, 0, 0, 0, 0, 0, 0, 0, 0, 0, 0, 0, 0, 0, 0, 0, 0, 0, 0, 0, 0, 0, 0, 0, 0, 0, 0, 0, 0, 0, 0, 0, 0, 0, 0, 0, 0, 0, 0, 0, 0, 0, 0, 0, 0, 0, 0, 0, 0, 0, 0, 0, 0, 0, 0, 0, 0, 0, 0, 0, 0, 0, 0, 0, 0, 0, 0, 0, 0, 0, 0, 0, 0, 0, 0, 0, 0, 0, 0, 0, 0, 0, 0, 0, 0, 0, 0, 0, 0, 0, 0, 0, 0, 0, 0, 0, 0, 0, 0, 0, 0, 0, 0, 0, 0, 0, 0, 0, 0, 0, 0, 0, 0, 0, 0, 0, 0, 0, 0, 0, 0, 0, 0, 0, 0, 0, 0, 0, 0, 0, 0, 0, 0, 0, 0, 0, 0, 0, 0, 0, 0, 0, 0, 0, 0, 0, 0, 0, 0, 0, 0, 0, 0, 0, 0, 0, 0, 0, 0, 0, 0, 0, 0, 0, 0, 0, 0, 0, 0, 0, 0, 0, 0, 0, 0, 0, 0, 0, 0, 0, 0, 0, 0, 0, 0, 0, 0, 0, 0, 0, 0, 0, 0, 0, 0, 0, 0, 0, 0, 0, 0, 0, 0, 0, 0, 0, 0, 0, 0, 0, 0, 0, 0, 0, 0, 0, 0, 0, 0, 0, 0, 0, 0, 0, 0, 0, 0, 0, 0, 0, 0, 0, 0, 0, 0, 0, 0, 0, 0, 0, 0, 0, 0, 0, 0, 0, 0, 0, 0, 0, 0, 0, 0, 0, 0, 0, 0, 0, 0, 0, 0, 0, 1, 0, 0, 0, 0, 0, 0, 0, 0, 0, 0, 0, 0, 0, 0, 0, 0, 0, 0, 0, 0, 0, 0, 0, 0, 0, 0, 0, 0, 0, 0, 0, 0, 0, 0, 0, 0, 0, 0, 0, 0, 0, 0, 0, 0, 0, 0, 0, 0, 0, 0, 0, 0, 0, 0, 0, 0, 0, 0, 0, 0, 0, 0, 0, 0, 0, 0, 0, 0, 0, 0, 0, 0, 0, 0, 1, 0, 0, 0, 0, 0, 0, 0, 0, 0, 0, 0, 0, 0, 0, 0, 0, 0, 0, 0, 0, 1, 0, 0, 1, 0, 0, 0, 0, 0, 0, 0, 0, 0, 0, 0, 0, 0, 0, 0, 0, 0, 0, 0, 0, 0, 0, 0, 0, 0, 0, 0, 0, 0, 0, 0, 0, 0, 0, 0, 0, 0, 0, 0, 0, 0, 0, 0, 0, 0, 0, 0, 0, 0, 0, 0, 0, 0, 0, 0, 0, 0, 0, 0, 0, 0, 0, 0, 0, 0, 0, 0, 0, 0, 0, 0, 0, 0, 0, 0, 0, 0, 0, 0, 0, 0, 0, 0, 0, 0, 0, 0, 0, 0, 0, 0, 0, 0, 0, 0, 0, 0, 0, 0, 0, 0, 0, 0, 0, 0, 0, 0, 0, 0, 0, 0, 0, 0, 0, 0, 0, 0, 0, 0, 0, 0, 0, 0, 0, 0, 0, 0, 0, 0, 0, 0, 0, 0, 0, 0, 0, 0, 0, 0, 0, 0, 0, 0, 0, 0, 0, 0, 0, 0, 0, 0, 0, 0, 0, 0, 0, 0, 0, 0, 0, 0, 0, 0, 0, 0, 0, 0, 0, 0, 0, 0, 0, 0, 0, 0, 0, 0, 0, 0, 0, 0, 0, 0, 0, 0, 0, 0, 0, 0, 0, 0, 0, 0, 0, 0, 0, 0, 0, 0, 0, 0, 0, 0, 0, 0, 0, 0, 0, 0, 0, 0, 0, 0, 0, 0, 0, 0, 0, 0, 0, 0, 0, 0, 0, 0, 0, 0, 0, 0, 0, 0, 0, 0, 0, 0, 0, 0, 0, 0, 0, 0, 0, 0, 0, 0, 0, 0, 0, 0, 0, 0, 0, 0, 0, 0, 0, 0, 0, 0, 0, 0, 0, 0, 0, 0, 0, 0, 0, 0, 0, 0, 0, 0, 0, 0, 0, 0, 0, 0, 0, 0, 0, 0, 0, 0, 0, 0, 0, 0, 0, 0, 0, 0, 0, 0, 0, 0, 0, 0, 0, 0, 0, 0, 0, 0, 0, 0, 0, 0, 0, 0, 0, 0, 0, 0, 0, 0, 0, 0, 0, 0, 0, 0, 0, 0, 0, 0, 0, 0, 0, 0, 0, 0, 0, 0, 0, 0, 0, 0, 0, 0, 0, 0, 0, 0, 0, 0, 0, 0, 0, 0, 0, 0, 0, 0, 0, 0, 0, 0, 0, 0, 0, 0, 0, 0, 0, 0, 0, 0, 0, 0, 0, 0, 0, 0, 0, 0, 0, 0, 0, 0, 0, 0, 0, 0, 0, 0, 0, 0, 0, 0, 0, 0, 0, 0, 0, 0, 0, 0, 0, 0, 0, 0, 0, 0, 0, 0, 0, 0, 0, 0, 0, 0, 0, 0, 0, 0, 0, 0, 0, 0, 0, 0, 0, 0, 0, 0, 0, 0, 0, 0, 0, 0, 0, 0, 0, 0, 0, 0, 0, 0, 0, 0, 0, 0, 0, 0, 0, 0, 0, 0, 0, 0, 0, 0, 0, 0, 0, 0, 0, 0, 0, 0, 0, 0, 0, 1, 0, 0, 0, 0, 0, 0, 0, 0, 0, 0, 0, 0, 0, 0, 0, 0, 0, 0, 0, 0, 0, 0, 0, 0, 0, 0, 0, 0, 0, 0, 0, 0, 0, 0, 0, 0, 0, 0, 0, 0, 0, 0, 0, 0, 0, 0, 0, 0, 0, 0, 0, 0, 0, 0, 0, 0, 0, 0, 0, 0, 0, 0, 0, 0, 0, 0, 0, 0, 0, 0, 0, 0, 0, 0, 0, 0, 0, 0, 0, 0, 0, 0, 0, 0, 0, 0, 0, 0, 0, 0, 0, 0, 0, 0, 0, 0, 0, 0, 0, 0, 0, 0, 0, 0, 0, 0, 0, 0, 0, 0, 0, 0, 0, 0, 0, 0, 0, 0, 0, 0, 0, 0, 0, 0, 0, 0, 0, 0, 0, 0, 0, 0, 0, 0, 0, 0, 0, 0, 0, 0, 0, 0, 0, 0, 0, 0, 0, 0, 0, 0, 0, 0, 0, 0, 0, 0, 0, 0, 0, 0, 0, 0, 0, 0, 0, 0, 0, 0, 0, 0, 0, 0, 0, 0, 0, 0, 0, 0, 0, 0, 0, 0, 0, 0, 0, 0, 0, 0, 0, 0, 0, 0, 0, 0, 0, 0, 0, 0, 0, 0, 0, 0, 0, 0, 0, 0, 0, 0, 0, 0, 0, 0, 0, 0, 0, 0, 0, 0, 0, 0, 0, 0, 0, 0, 0, 0, 0, 0, 0, 0, 0, 0, 0, 0, 0, 0, 0, 0, 0, 0, 0, 0, 0, 0, 0, 0, 0, 0, 0, 0, 0, 0, 0, 0, 0, 0, 0, 0, 0, 0, 0, 0, 0, 0, 0, 0, 0, 0, 0, 0, 0, 0, 0, 0, 0, 0, 0, 0, 0, 0, 0, 0, 0, 0, 0, 0, 0, 0, 0, 0, 0, 0, 0, 0, 0, 0, 0, 0, 0, 0, 0, 0, 0, 0, 0, 0, 0, 0, 0, 0, 0, 0, 0, 0, 0, 0, 0, 0, 0, 0, 0, 0, 0, 0, 0, 0, 0, 0, 0, 0, 0, 0, 0, 0, 0, 0, 0, 0, 0, 0, 0, 0, 0, 0, 0, 0, 0, 0, 0, 0, 0, 0, 0, 0, 0, 0, 0, 0, 0, 0, 0, 0, 0, 0, 0, 0, 0, 0, 0, 0, 0, 0, 0, 0, 0, 0, 0, 0, 0, 0, 0, 0, 0, 0, 0, 0, 0, 0, 0, 0, 0, 0, 0, 0, 0, 0, 0, 0, 0, 0, 0, 0, 0, 0, 0, 0, 0, 0, 0, 0, 0, 0, 0, 0, 0, 0, 0, 0, 0, 0, 0, 0, 0, 0, 0, 0, 0, 0, 0, 0, 0, 0, 0, 0, 0, 0, 0, 0, 0, 0, 0, 0, 0, 0, 0, 0, 0, 0, 0, 0, 0, 0, 0, 0, 0, 0, 0, 0, 0, 0, 0, 0, 0, 0, 0, 0, 0, 0, 0, 0, 0, 0, 0, 0, 0, 0, 0, 0, 0, 0, 0, 0, 0, 0, 0, 0, 0, 0, 0, 0, 0, 0, 0, 0, 0, 0, 0, 0, 0, 0, 0, 0, 0, 0, 0, 0, 0, 0, 0, 0, 0, 0, 1, 0, 0, 0, 0, 0, 0, 0, 0, 0, 0, 0, 0, 0, 0, 0, 0, 0, 0, 0, 0, 0, 0, 0, 0, 0, 0, 0, 0, 0, 0, 0, 0, 0, 0, 0, 2, 0, 0, 0, 0, 0, 0, 0, 0, 0, 0, 0, 0, 0, 0, 0, 0, 0, 0, 0, 0, 0, 0, 0, 0, 0, 0, 0, 0, 0, 0, 0, 0, 0, 0, 0, 0, 0, 0, 0, 0, 1, 0, 0, 0, 0, 0, 0, 0, 0, 0, 0, 0, 0, 0, 0, 0, 0, 0, 0, 0, 0, 0, 0, 0, 0, 0, 0, 0, 0, 0, 0, 0, 0, 0, 0, 0, 0, 0, 0, 0, 0, 0, 0, 0, 0, 0, 0, 0, 0, 0, 0, 0, 0, 0, 0, 0, 0, 0, 0, 0, 0, 0, 0, 0, 0, 0, 0, 0, 0, 0, 0, 0, 0, 0, 0, 0, 0, 0, 0, 0, 0, 0, 0, 0, 0, 0, 0, 0, 0, 0, 0, 0, 0, 0, 0, 0, 0, 0, 0, 0, 0, 0, 0, 0, 0, 0, 0, 0, 0, 0, 0, 0, 0, 0, 0, 0, 0, 0, 0, 0, 0, 0, 0, 0, 0, 0, 0, 0, 0, 0, 0, 0, 0, 0, 0, 0, 0, 0, 0, 0, 0, 0, 0, 0, 0, 0, 0, 0, 0, 0, 0, 0, 0, 0, 0, 0, 0, 0, 0, 0, 0, 0, 0, 0, 0, 0, 0, 0, 0, 0, 0, 0, 0, 0, 0, 0, 0, 0, 0, 0, 0, 0, 0, 0, 0, 0, 0, 0, 0, 0, 0, 0, 0, 0, 0, 0, 0, 0, 0, 0, 0, 0, 0, 0, 0, 0, 0, 0, 0, 0, 0, 0, 0, 0, 0, 0, 0, 0, 0, 0, 0, 0, 0, 0, 0, 0, 0, 0, 0, 0, 0, 0, 0, 0, 0, 0, 0, 0, 0, 0, 0, 0, 0, 0, 0, 0, 0, 0, 0, 0, 0, 0, 0, 0, 0, 0, 0, 0, 0, 0, 0, 0, 0, 0, 0, 0, 0, 0, 0, 0, 0, 0, 0, 0, 0, 0, 0, 0, 0, 0, 0, 0, 0, 0, 0, 0, 0, 0, 0, 0, 0, 0, 0, 0, 0, 0, 0, 0, 0, 0, 0, 0, 0, 0, 0, 0, 0, 0, 0, 0, 0, 0, 0, 0, 0, 0, 0, 0, 0, 0, 0, 0, 0, 0, 0, 0, 0, 0, 0, 0, 0, 0, 0, 0, 0, 0, 0, 0, 0, 0, 0, 0, 0, 0, 0, 0, 0, 0, 0, 0, 0, 0, 0, 0, 0, 0, 0, 0, 0, 0, 0, 0, 0, 0, 0, 0, 0, 0, 0, 0, 0, 0, 0, 0, 0, 0, 0, 0, 0, 0, 0, 0, 0, 0, 0, 0, 0, 0, 0, 0, 0, 0, 0, 0, 0, 0, 0, 0, 0, 0, 0, 0, 0, 0, 0, 0, 0, 0, 0, 0, 0, 0, 0, 0, 0, 0, 0, 0, 0, 0, 0, 0, 0, 0, 0, 0, 0, 0, 0, 0, 0, 0, 0, 0, 0, 0, 0, 0, 0, 0, 0, 0, 0, 0, 0, 0, 0, 0, 0, 0, 0, 0, 0, 0, 0, 0, 0, 0, 0, 0, 0, 0, 0, 0, 0, 0, 0, 0, 0, 0, 0, 0, 0, 0, 0, 0, 0, 0, 0, 0, 0, 0, 0, 0, 0, 0, 0, 0, 0, 0, 0, 0, 0, 0, 0, 0, 0, 0, 0, 0, 0, 1, 0, 0, 0, 0, 0, 0, 0, 0, 0, 0, 0, 0, 0, 0, 0, 0, 0, 0, 0, 0, 0, 0, 0, 0, 0, 0, 0, 0, 0, 0, 0, 0, 0, 0, 0, 0, 0, 0, 0, 0, 0, 0, 0, 0, 0, 0, 0, 0, 0, 0, 0, 0, 0, 0, 0, 0, 0, 0, 0, 0, 0, 0, 0, 0, 0, 0, 0, 0, 0, 0, 0, 0, 0, 0, 0, 0, 0, 0, 0, 0, 0, 0, 0, 0, 0, 0, 0, 0, 0, 0, 0, 0, 0, 0, 0, 0, 0, 0, 0, 0, 0, 0, 0, 0, 0, 0, 0, 0, 0, 0, 2, 0, 0, 0, 0, 0, 0, 0, 0, 0, 0, 0, 0, 0, 0, 0, 0, 0, 0, 0, 0, 0, 0, 0, 0, 0, 0, 0, 0, 0, 0, 0, 0, 0, 0, 0, 0, 0, 0, 0, 0, 0, 0, 0, 0, 0, 0, 0, 0, 0, 0, 0, 0, 0, 0, 0, 0, 0, 0, 0, 0, 0, 0, 0, 0, 0, 0, 0, 0, 0, 0, 0, 0, 0, 0, 0, 0, 0, 0, 0, 0, 0, 0, 0, 0, 0, 0, 0, 0, 0, 0, 0, 0, 0, 0, 0, 0, 0, 0, 0, 0, 0, 0, 0, 0, 0, 0, 0, 0, 0, 0, 0, 0, 0, 0, 0, 0, 0, 0, 0, 0, 0, 0, 0, 0, 0, 0, 0, 0, 0, 0, 0, 0, 0, 0, 0, 0, 0, 0, 0, 0, 0, 0, 0, 0, 0, 0, 0, 0, 0, 0, 0, 0, 0, 0, 0, 0, 0, 0, 0, 0, 0, 0, 0, 0, 0, 0, 0, 0, 0, 0, 0, 0, 0, 0, 0, 0, 0, 0, 0, 0, 0, 0, 0, 0, 0, 0, 0, 0, 0, 0, 0, 0, 0, 0, 0, 0, 0, 0, 0, 0, 0, 0, 0, 0, 0, 0, 0, 0, 0, 0, 0, 0, 0, 0, 0, 0, 0, 0, 0, 0, 0, 0, 0, 0, 0, 0, 0, 0, 0, 0, 0, 0, 0, 0, 0, 0, 0, 0, 0, 0, 0, 0, 0, 0, 0, 0, 0, 0, 0, 0, 0, 0, 0, 0, 0, 0, 0, 0, 0, 0, 0, 0, 0, 0, 0, 0, 0, 0, 0, 0, 0, 0, 0, 0, 0, 0, 0, 0, 0, 0, 0, 0, 0, 0, 0, 0, 0, 0, 0, 0, 0, 0, 0, 0, 0, 0, 0, 0, 0, 0, 0, 0, 0, 0, 0, 0, 0, 0, 0, 0, 0, 0, 0, 0, 0, 0, 0, 0, 0, 0, 0, 0, 0, 0, 0, 0, 0, 0, 0, 0, 0, 0, 0, 0, 0, 0, 0, 0, 0, 0, 0, 0, 0, 0, 0, 0, 0, 0, 0, 0, 0, 0, 0, 0, 0, 0, 0, 0, 0, 0, 0, 0, 0, 0, 0, 0, 0, 0, 0, 0, 0, 0, 0, 0, 0, 0, 0, 0, 0, 0, 0, 0, 0, 0, 0, 0, 0, 0, 0, 0, 0, 0, 0, 0, 0, 0, 0, 0, 0, 0, 0, 0, 0, 0, 0, 0, 0, 0, 0, 0, 0, 0, 0, 0, 0, 0, 0, 0, 0, 0, 0, 0, 0, 0, 0, 0, 0, 0, 0, 0, 0, 0, 0, 0, 0, 0, 0, 0, 0, 0, 0, 0, 0, 0, 0, 0, 0, 0, 0, 0, 0, 0, 0, 0, 0, 0, 0, 0, 0, 0, 0, 0, 0, 0, 0, 0, 0, 0, 0, 0, 0, 0, 0, 0, 0, 0, 0, 0, 0, 0, 0, 0, 0, 0, 0, 0, 0, 0, 0, 0, 0, 0, 0, 0, 0, 0, 0, 0, 0, 0, 0, 0, 0, 0, 0, 0, 0, 0, 0, 0, 0, 0, 0, 0, 0, 0, 0, 0, 0, 0, 0, 0, 0, 0, 0, 0, 0, 0, 0, 0, 0, 0, 0, 0, 0, 0, 0, 0, 0, 0, 0, 0, 0, 0, 0, 0, 0, 0, 0, 0, 0, 0, 0, 0, 0, 0, 0, 0, 0, 0, 0, 0, 0, 0, 0, 0, 0, 0, 0, 0, 0, 0, 0, 0, 0, 0, 0, 0, 0, 0, 0, 0, 0, 0, 0, 0, 0, 0, 0, 0, 0, 0, 0, 0, 0, 0, 0, 0, 0, 0, 0, 0, 0, 0, 0, 0, 0, 0, 0, 0, 0, 0, 0, 0, 0, 0, 0, 0, 0, 0, 0, 0, 0, 0, 0, 0, 0, 0, 0, 0, 0, 0, 0, 0, 0, 0, 0, 0, 0, 0, 0, 0, 0, 0, 0, 0, 0, 0, 0, 0, 0, 0, 0, 0, 0, 0, 0, 0, 0, 0, 0, 0, 0, 0, 0, 0, 0, 0, 0, 0, 0, 0, 0, 0, 0, 0, 0, 0, 0, 0, 0, 0, 0, 0, 0, 0, 0, 0, 0, 1, 0, 0, 0, 0, 0, 0, 0, 0, 0, 0, 0, 0, 0, 0, 0, 0, 0, 0, 0, 0, 0, 0, 0, 0, 0, 0, 0, 0, 0, 0, 0, 0, 0, 0, 0, 0, 0, 0, 0, 0, 0, 0, 0, 0, 0, 0, 0, 0, 0, 0, 0, 0, 0, 0, 0, 0, 0, 0, 0, 0, 0, 0, 0, 0, 0, 0, 0, 0, 0, 0, 0, 0, 0, 0, 0, 0, 0, 0, 0, 0, 0, 0, 0, 0, 0, 0, 0, 0, 0, 0, 0, 0, 0, 0, 0, 0, 0, 0, 0, 0, 0, 0, 0, 0, 0, 0, 0, 1, 0, 0, 0, 0, 0, 0, 0, 0, 0, 0, 0, 0, 0, 0, 0, 0, 0, 0, 0, 0, 0, 0, 0, 0, 0, 0, 0, 0, 0, 0, 0, 0, 0, 0, 0, 0, 0, 0, 0, 0, 0, 0, 0, 0, 0, 0, 0, 0, 0, 0, 0, 0, 0, 0, 0, 0, 0, 0, 0, 0, 0, 0, 0, 0, 0, 0, 0, 0, 0, 0, 0, 0, 0, 0, 0, 0, 0, 0, 0, 0, 0, 0, 0, 0, 0, 0, 0, 0, 0, 0, 0, 0, 0, 0, 0, 0, 0, 0, 0, 0, 0, 0, 0, 0, 0, 0, 0, 0, 0, 0, 0, 0, 0, 0, 0, 0, 0, 0, 0, 0, 0, 0, 0, 0, 0, 0, 0, 0, 0, 0, 0, 0, 0, 0, 0, 0, 0, 0, 0, 0, 0, 0, 0, 0, 0, 0, 0, 0, 0, 0, 0, 0, 0, 0, 0, 0, 0, 0, 0, 0, 0, 0, 0, 0, 0, 0, 0, 0, 0, 0, 0, 0, 0, 0, 0, 0, 0, 0, 0, 0, 0, 0, 0, 0, 0, 0, 0, 0, 0, 0, 0, 0, 0, 0, 0, 0, 0, 0, 0, 0, 0, 0, 0, 0, 0, 0, 0, 0, 0, 0, 0, 0, 0, 0, 0, 0, 0, 0, 0, 0, 0, 0, 0, 0, 0, 0, 0, 0, 0, 0, 0, 0, 0, 0, 0, 0, 0, 0, 0, 0, 0, 0, 0, 0, 0, 0, 0, 0, 0, 0, 0, 0, 0, 0, 0, 0, 0, 0, 0, 0, 0, 0, 0, 0, 0, 0, 0, 0, 0, 0, 0, 0, 0, 0, 0, 0, 0, 0, 0, 0, 0, 0, 0, 0, 0, 0, 0, 0, 0, 0, 0, 0, 0, 0, 0, 0, 0, 0, 0, 0, 0, 0, 0, 0, 0, 0, 0, 0, 0, 0, 0, 0, 0, 0, 0, 0, 0, 0, 0, 0, 0, 0, 0, 0, 0, 0, 0, 0, 0, 0, 0, 0, 0, 0, 0, 0, 0, 0, 0, 0, 0, 0, 0, 0, 0, 0, 0, 0, 0, 0, 0, 0, 0, 0, 0, 0, 0, 0, 0, 0, 0, 0, 0, 0, 0, 0, 0, 0, 0, 0, 0, 0, 0, 0, 0, 0, 0, 0, 0, 0, 0, 0, 0, 0, 0, 0, 0, 0, 0, 0, 0, 0, 0, 0, 0, 0, 0, 0, 0, 0, 0, 0, 0, 0, 0, 0, 0, 0, 0, 0, 0, 0, 0, 0, 0, 0, 0, 0, 0, 0, 0, 0, 0, 0, 0, 0, 0, 0, 0, 0, 0, 0, 0, 0, 0, 0, 0, 0, 0, 0, 0, 0, 0, 0, 0, 0, 0, 0, 0, 0, 0, 0, 0, 0, 0, 0, 0, 0, 0, 0, 0, 0, 2, 0, 1, 0]\n"
     ]
    }
   ],
   "source": [
    "test_bow = bow_encoding(test_words, vocabulary)\n",
    "print(test_bow)"
   ]
  },
  {
   "cell_type": "code",
   "execution_count": 39,
   "metadata": {},
   "outputs": [
    {
     "data": {
      "text/plain": [
       "5000"
      ]
     },
     "execution_count": 39,
     "metadata": {},
     "output_type": "execute_result"
    }
   ],
   "source": [
    "len(test_bow)"
   ]
  },
  {
   "cell_type": "code",
   "execution_count": 40,
   "metadata": {},
   "outputs": [
    {
     "data": {
      "text/plain": [
       "5000"
      ]
     },
     "execution_count": 40,
     "metadata": {},
     "output_type": "execute_result"
    }
   ],
   "source": [
    "len(vocabulary)"
   ]
  },
  {
   "cell_type": "markdown",
   "metadata": {},
   "source": [
    "So now we know how to construct a bag of words encoding of a user provided review, how to we send it to our endpoint? First, we need to start the endpoint back up."
   ]
  },
  {
   "cell_type": "code",
   "execution_count": 41,
   "metadata": {},
   "outputs": [
    {
     "name": "stderr",
     "output_type": "stream",
     "text": [
      "Parameter image will be renamed to image_uri in SageMaker Python SDK v2.\n",
      "Using already existing model: xgboost-2020-09-13-18-50-06-638\n"
     ]
    },
    {
     "ename": "ClientError",
     "evalue": "An error occurred (ValidationException) when calling the CreateEndpoint operation: Cannot create already existing endpoint \"arn:aws:sagemaker:us-east-2:444100773610:endpoint/xgboost-2020-09-13-18-50-06-638\".",
     "output_type": "error",
     "traceback": [
      "\u001b[0;31m---------------------------------------------------------------------------\u001b[0m",
      "\u001b[0;31mClientError\u001b[0m                               Traceback (most recent call last)",
      "\u001b[0;32m<ipython-input-41-ccb632c8fb45>\u001b[0m in \u001b[0;36m<module>\u001b[0;34m\u001b[0m\n\u001b[0;32m----> 1\u001b[0;31m \u001b[0mxgb_predictor\u001b[0m \u001b[0;34m=\u001b[0m \u001b[0mxgb\u001b[0m\u001b[0;34m.\u001b[0m\u001b[0mdeploy\u001b[0m\u001b[0;34m(\u001b[0m\u001b[0minitial_instance_count\u001b[0m \u001b[0;34m=\u001b[0m \u001b[0;36m1\u001b[0m\u001b[0;34m,\u001b[0m \u001b[0minstance_type\u001b[0m \u001b[0;34m=\u001b[0m \u001b[0;34m'ml.m4.xlarge'\u001b[0m\u001b[0;34m)\u001b[0m\u001b[0;34m\u001b[0m\u001b[0;34m\u001b[0m\u001b[0m\n\u001b[0m",
      "\u001b[0;32m~/anaconda3/envs/python3/lib/python3.6/site-packages/sagemaker/estimator.py\u001b[0m in \u001b[0;36mdeploy\u001b[0;34m(self, initial_instance_count, instance_type, accelerator_type, endpoint_name, use_compiled_model, update_endpoint, wait, model_name, kms_key, data_capture_config, tags, **kwargs)\u001b[0m\n\u001b[1;32m    743\u001b[0m             \u001b[0mwait\u001b[0m\u001b[0;34m=\u001b[0m\u001b[0mwait\u001b[0m\u001b[0;34m,\u001b[0m\u001b[0;34m\u001b[0m\u001b[0;34m\u001b[0m\u001b[0m\n\u001b[1;32m    744\u001b[0m             \u001b[0mkms_key\u001b[0m\u001b[0;34m=\u001b[0m\u001b[0mkms_key\u001b[0m\u001b[0;34m,\u001b[0m\u001b[0;34m\u001b[0m\u001b[0;34m\u001b[0m\u001b[0m\n\u001b[0;32m--> 745\u001b[0;31m             \u001b[0mdata_capture_config\u001b[0m\u001b[0;34m=\u001b[0m\u001b[0mdata_capture_config\u001b[0m\u001b[0;34m,\u001b[0m\u001b[0;34m\u001b[0m\u001b[0;34m\u001b[0m\u001b[0m\n\u001b[0m\u001b[1;32m    746\u001b[0m         )\n\u001b[1;32m    747\u001b[0m \u001b[0;34m\u001b[0m\u001b[0m\n",
      "\u001b[0;32m~/anaconda3/envs/python3/lib/python3.6/site-packages/sagemaker/model.py\u001b[0m in \u001b[0;36mdeploy\u001b[0;34m(self, initial_instance_count, instance_type, accelerator_type, endpoint_name, update_endpoint, tags, kms_key, wait, data_capture_config)\u001b[0m\n\u001b[1;32m    577\u001b[0m                 \u001b[0mkms_key\u001b[0m\u001b[0;34m=\u001b[0m\u001b[0mkms_key\u001b[0m\u001b[0;34m,\u001b[0m\u001b[0;34m\u001b[0m\u001b[0;34m\u001b[0m\u001b[0m\n\u001b[1;32m    578\u001b[0m                 \u001b[0mwait\u001b[0m\u001b[0;34m=\u001b[0m\u001b[0mwait\u001b[0m\u001b[0;34m,\u001b[0m\u001b[0;34m\u001b[0m\u001b[0;34m\u001b[0m\u001b[0m\n\u001b[0;32m--> 579\u001b[0;31m                 \u001b[0mdata_capture_config_dict\u001b[0m\u001b[0;34m=\u001b[0m\u001b[0mdata_capture_config_dict\u001b[0m\u001b[0;34m,\u001b[0m\u001b[0;34m\u001b[0m\u001b[0;34m\u001b[0m\u001b[0m\n\u001b[0m\u001b[1;32m    580\u001b[0m             )\n\u001b[1;32m    581\u001b[0m \u001b[0;34m\u001b[0m\u001b[0m\n",
      "\u001b[0;32m~/anaconda3/envs/python3/lib/python3.6/site-packages/sagemaker/session.py\u001b[0m in \u001b[0;36mendpoint_from_production_variants\u001b[0;34m(self, name, production_variants, tags, kms_key, wait, data_capture_config_dict)\u001b[0m\n\u001b[1;32m   2903\u001b[0m \u001b[0;34m\u001b[0m\u001b[0m\n\u001b[1;32m   2904\u001b[0m             \u001b[0mself\u001b[0m\u001b[0;34m.\u001b[0m\u001b[0msagemaker_client\u001b[0m\u001b[0;34m.\u001b[0m\u001b[0mcreate_endpoint_config\u001b[0m\u001b[0;34m(\u001b[0m\u001b[0;34m**\u001b[0m\u001b[0mconfig_options\u001b[0m\u001b[0;34m)\u001b[0m\u001b[0;34m\u001b[0m\u001b[0;34m\u001b[0m\u001b[0m\n\u001b[0;32m-> 2905\u001b[0;31m         \u001b[0;32mreturn\u001b[0m \u001b[0mself\u001b[0m\u001b[0;34m.\u001b[0m\u001b[0mcreate_endpoint\u001b[0m\u001b[0;34m(\u001b[0m\u001b[0mendpoint_name\u001b[0m\u001b[0;34m=\u001b[0m\u001b[0mname\u001b[0m\u001b[0;34m,\u001b[0m \u001b[0mconfig_name\u001b[0m\u001b[0;34m=\u001b[0m\u001b[0mname\u001b[0m\u001b[0;34m,\u001b[0m \u001b[0mtags\u001b[0m\u001b[0;34m=\u001b[0m\u001b[0mtags\u001b[0m\u001b[0;34m,\u001b[0m \u001b[0mwait\u001b[0m\u001b[0;34m=\u001b[0m\u001b[0mwait\u001b[0m\u001b[0;34m)\u001b[0m\u001b[0;34m\u001b[0m\u001b[0;34m\u001b[0m\u001b[0m\n\u001b[0m\u001b[1;32m   2906\u001b[0m \u001b[0;34m\u001b[0m\u001b[0m\n\u001b[1;32m   2907\u001b[0m     \u001b[0;32mdef\u001b[0m \u001b[0mexpand_role\u001b[0m\u001b[0;34m(\u001b[0m\u001b[0mself\u001b[0m\u001b[0;34m,\u001b[0m \u001b[0mrole\u001b[0m\u001b[0;34m)\u001b[0m\u001b[0;34m:\u001b[0m\u001b[0;34m\u001b[0m\u001b[0;34m\u001b[0m\u001b[0m\n",
      "\u001b[0;32m~/anaconda3/envs/python3/lib/python3.6/site-packages/sagemaker/session.py\u001b[0m in \u001b[0;36mcreate_endpoint\u001b[0;34m(self, endpoint_name, config_name, tags, wait)\u001b[0m\n\u001b[1;32m   2420\u001b[0m \u001b[0;34m\u001b[0m\u001b[0m\n\u001b[1;32m   2421\u001b[0m         self.sagemaker_client.create_endpoint(\n\u001b[0;32m-> 2422\u001b[0;31m             \u001b[0mEndpointName\u001b[0m\u001b[0;34m=\u001b[0m\u001b[0mendpoint_name\u001b[0m\u001b[0;34m,\u001b[0m \u001b[0mEndpointConfigName\u001b[0m\u001b[0;34m=\u001b[0m\u001b[0mconfig_name\u001b[0m\u001b[0;34m,\u001b[0m \u001b[0mTags\u001b[0m\u001b[0;34m=\u001b[0m\u001b[0mtags\u001b[0m\u001b[0;34m\u001b[0m\u001b[0;34m\u001b[0m\u001b[0m\n\u001b[0m\u001b[1;32m   2423\u001b[0m         )\n\u001b[1;32m   2424\u001b[0m         \u001b[0;32mif\u001b[0m \u001b[0mwait\u001b[0m\u001b[0;34m:\u001b[0m\u001b[0;34m\u001b[0m\u001b[0;34m\u001b[0m\u001b[0m\n",
      "\u001b[0;32m~/anaconda3/envs/python3/lib/python3.6/site-packages/botocore/client.py\u001b[0m in \u001b[0;36m_api_call\u001b[0;34m(self, *args, **kwargs)\u001b[0m\n\u001b[1;32m    335\u001b[0m                     \"%s() only accepts keyword arguments.\" % py_operation_name)\n\u001b[1;32m    336\u001b[0m             \u001b[0;31m# The \"self\" in this scope is referring to the BaseClient.\u001b[0m\u001b[0;34m\u001b[0m\u001b[0;34m\u001b[0m\u001b[0;34m\u001b[0m\u001b[0m\n\u001b[0;32m--> 337\u001b[0;31m             \u001b[0;32mreturn\u001b[0m \u001b[0mself\u001b[0m\u001b[0;34m.\u001b[0m\u001b[0m_make_api_call\u001b[0m\u001b[0;34m(\u001b[0m\u001b[0moperation_name\u001b[0m\u001b[0;34m,\u001b[0m \u001b[0mkwargs\u001b[0m\u001b[0;34m)\u001b[0m\u001b[0;34m\u001b[0m\u001b[0;34m\u001b[0m\u001b[0m\n\u001b[0m\u001b[1;32m    338\u001b[0m \u001b[0;34m\u001b[0m\u001b[0m\n\u001b[1;32m    339\u001b[0m         \u001b[0m_api_call\u001b[0m\u001b[0;34m.\u001b[0m\u001b[0m__name__\u001b[0m \u001b[0;34m=\u001b[0m \u001b[0mstr\u001b[0m\u001b[0;34m(\u001b[0m\u001b[0mpy_operation_name\u001b[0m\u001b[0;34m)\u001b[0m\u001b[0;34m\u001b[0m\u001b[0;34m\u001b[0m\u001b[0m\n",
      "\u001b[0;32m~/anaconda3/envs/python3/lib/python3.6/site-packages/botocore/client.py\u001b[0m in \u001b[0;36m_make_api_call\u001b[0;34m(self, operation_name, api_params)\u001b[0m\n\u001b[1;32m    654\u001b[0m             \u001b[0merror_code\u001b[0m \u001b[0;34m=\u001b[0m \u001b[0mparsed_response\u001b[0m\u001b[0;34m.\u001b[0m\u001b[0mget\u001b[0m\u001b[0;34m(\u001b[0m\u001b[0;34m\"Error\"\u001b[0m\u001b[0;34m,\u001b[0m \u001b[0;34m{\u001b[0m\u001b[0;34m}\u001b[0m\u001b[0;34m)\u001b[0m\u001b[0;34m.\u001b[0m\u001b[0mget\u001b[0m\u001b[0;34m(\u001b[0m\u001b[0;34m\"Code\"\u001b[0m\u001b[0;34m)\u001b[0m\u001b[0;34m\u001b[0m\u001b[0;34m\u001b[0m\u001b[0m\n\u001b[1;32m    655\u001b[0m             \u001b[0merror_class\u001b[0m \u001b[0;34m=\u001b[0m \u001b[0mself\u001b[0m\u001b[0;34m.\u001b[0m\u001b[0mexceptions\u001b[0m\u001b[0;34m.\u001b[0m\u001b[0mfrom_code\u001b[0m\u001b[0;34m(\u001b[0m\u001b[0merror_code\u001b[0m\u001b[0;34m)\u001b[0m\u001b[0;34m\u001b[0m\u001b[0;34m\u001b[0m\u001b[0m\n\u001b[0;32m--> 656\u001b[0;31m             \u001b[0;32mraise\u001b[0m \u001b[0merror_class\u001b[0m\u001b[0;34m(\u001b[0m\u001b[0mparsed_response\u001b[0m\u001b[0;34m,\u001b[0m \u001b[0moperation_name\u001b[0m\u001b[0;34m)\u001b[0m\u001b[0;34m\u001b[0m\u001b[0;34m\u001b[0m\u001b[0m\n\u001b[0m\u001b[1;32m    657\u001b[0m         \u001b[0;32melse\u001b[0m\u001b[0;34m:\u001b[0m\u001b[0;34m\u001b[0m\u001b[0;34m\u001b[0m\u001b[0m\n\u001b[1;32m    658\u001b[0m             \u001b[0;32mreturn\u001b[0m \u001b[0mparsed_response\u001b[0m\u001b[0;34m\u001b[0m\u001b[0;34m\u001b[0m\u001b[0m\n",
      "\u001b[0;31mClientError\u001b[0m: An error occurred (ValidationException) when calling the CreateEndpoint operation: Cannot create already existing endpoint \"arn:aws:sagemaker:us-east-2:444100773610:endpoint/xgboost-2020-09-13-18-50-06-638\"."
     ]
    }
   ],
   "source": [
    "xgb_predictor = xgb.deploy(initial_instance_count = 1, instance_type = 'ml.m4.xlarge')"
   ]
  },
  {
   "cell_type": "markdown",
   "metadata": {},
   "source": [
    "At this point we could just do the same thing that we did earlier when we tested our deployed model and send `test_bow` to our endpoint using the `xgb_predictor` object. However, when we eventually construct our Lambda function we won't have access to this object, so how do we call a SageMaker endpoint?\n",
    "\n",
    "It turns out that Python functions that are used in Lambda have access to another Amazon library called `boto3`. This library provides an API for working with Amazon services, including SageMaker. To start with, we need to get a handle to the SageMaker runtime."
   ]
  },
  {
   "cell_type": "code",
   "execution_count": 43,
   "metadata": {},
   "outputs": [],
   "source": [
    "import boto3\n",
    "\n",
    "runtime = boto3.Session().client('sagemaker-runtime')"
   ]
  },
  {
   "cell_type": "markdown",
   "metadata": {},
   "source": [
    "And now that we have access to the SageMaker runtime, we can ask it to make use of (invoke) an endpoint that has already been created. However, we need to provide SageMaker with the name of the deployed endpoint. To find this out we can print it out using the `xgb_predictor` object."
   ]
  },
  {
   "cell_type": "code",
   "execution_count": 44,
   "metadata": {},
   "outputs": [
    {
     "data": {
      "text/plain": [
       "'xgboost-2020-09-13-18-50-06-638'"
      ]
     },
     "execution_count": 44,
     "metadata": {},
     "output_type": "execute_result"
    }
   ],
   "source": [
    "xgb_predictor.endpoint"
   ]
  },
  {
   "cell_type": "markdown",
   "metadata": {},
   "source": [
    "Using the SageMaker runtime and the name of our endpoint, we can invoke the endpoint and send it the `test_bow` data."
   ]
  },
  {
   "cell_type": "code",
   "execution_count": 45,
   "metadata": {},
   "outputs": [
    {
     "ename": "ParamValidationError",
     "evalue": "Parameter validation failed:\nInvalid type for parameter Body, value: [0, 0, 0, 0, 0, 0, 0, 0, 0, 0, 0, 0, 0, 0, 0, 0, 0, 0, 0, 0, 0, 0, 0, 0, 0, 0, 0, 0, 0, 0, 0, 0, 0, 0, 0, 0, 0, 0, 0, 0, 0, 0, 0, 0, 0, 0, 0, 0, 0, 0, 0, 0, 0, 0, 0, 0, 0, 0, 0, 0, 0, 0, 0, 0, 0, 0, 0, 0, 0, 0, 0, 0, 0, 0, 0, 0, 0, 0, 0, 0, 0, 0, 0, 0, 0, 0, 0, 0, 0, 0, 0, 0, 0, 0, 0, 0, 0, 0, 0, 0, 0, 0, 0, 0, 0, 0, 0, 0, 0, 0, 0, 0, 0, 0, 0, 0, 0, 0, 0, 0, 0, 0, 0, 0, 0, 0, 0, 0, 0, 0, 0, 0, 0, 0, 0, 0, 0, 0, 0, 0, 0, 0, 0, 0, 0, 0, 0, 0, 0, 0, 0, 0, 0, 0, 0, 0, 0, 0, 0, 0, 0, 0, 0, 0, 0, 0, 0, 0, 0, 0, 0, 0, 0, 0, 0, 0, 0, 0, 0, 0, 0, 0, 0, 0, 0, 0, 0, 0, 0, 0, 0, 0, 0, 0, 0, 0, 0, 0, 0, 0, 0, 0, 0, 0, 0, 0, 0, 0, 0, 0, 0, 0, 0, 0, 0, 0, 0, 0, 0, 0, 0, 0, 0, 0, 0, 0, 1, 0, 0, 0, 0, 0, 0, 0, 0, 0, 0, 0, 0, 0, 0, 0, 0, 0, 0, 0, 0, 0, 0, 0, 0, 0, 0, 0, 0, 1, 0, 0, 0, 0, 0, 0, 0, 0, 0, 0, 0, 0, 0, 0, 0, 0, 0, 0, 0, 0, 0, 0, 0, 0, 0, 0, 0, 0, 0, 0, 0, 0, 0, 0, 0, 0, 0, 0, 0, 0, 0, 0, 0, 0, 0, 0, 0, 0, 0, 0, 0, 0, 0, 0, 0, 0, 0, 0, 0, 0, 0, 0, 0, 0, 0, 0, 0, 0, 0, 0, 0, 0, 0, 0, 0, 0, 0, 0, 0, 0, 0, 0, 0, 0, 0, 0, 0, 0, 0, 0, 0, 0, 0, 0, 0, 0, 0, 0, 0, 0, 0, 0, 0, 0, 0, 0, 0, 0, 0, 0, 0, 0, 0, 0, 0, 0, 0, 0, 0, 0, 0, 0, 0, 0, 0, 0, 0, 0, 0, 0, 0, 0, 0, 0, 0, 0, 0, 0, 0, 0, 0, 0, 0, 0, 0, 0, 0, 0, 0, 0, 0, 0, 0, 0, 0, 0, 0, 0, 0, 0, 0, 0, 0, 0, 0, 0, 0, 0, 0, 0, 0, 0, 0, 0, 0, 0, 0, 0, 0, 0, 0, 0, 0, 0, 0, 0, 0, 0, 0, 0, 0, 0, 0, 0, 0, 0, 0, 0, 0, 0, 0, 0, 0, 0, 0, 0, 0, 0, 0, 0, 0, 0, 0, 0, 0, 0, 0, 0, 0, 0, 0, 0, 0, 0, 0, 0, 0, 0, 0, 0, 0, 0, 0, 0, 0, 0, 0, 0, 0, 0, 0, 0, 0, 0, 0, 0, 0, 0, 0, 0, 0, 0, 0, 0, 0, 0, 0, 0, 0, 0, 0, 0, 0, 0, 0, 0, 0, 0, 0, 0, 0, 0, 0, 0, 0, 0, 0, 0, 0, 0, 0, 0, 0, 0, 0, 0, 0, 0, 0, 0, 0, 0, 0, 0, 0, 0, 0, 0, 0, 0, 0, 0, 0, 0, 0, 0, 0, 0, 0, 0, 0, 0, 0, 0, 0, 0, 0, 0, 0, 0, 0, 0, 0, 0, 0, 0, 0, 0, 0, 0, 0, 0, 0, 0, 0, 0, 0, 0, 0, 0, 0, 0, 0, 0, 0, 0, 0, 0, 0, 0, 0, 0, 0, 0, 0, 0, 0, 0, 0, 0, 0, 0, 0, 0, 0, 0, 0, 0, 0, 0, 0, 0, 0, 0, 0, 0, 0, 0, 0, 0, 1, 0, 0, 0, 0, 0, 0, 0, 0, 0, 0, 0, 0, 0, 0, 0, 0, 0, 0, 0, 0, 0, 0, 0, 0, 0, 0, 0, 0, 0, 0, 0, 0, 0, 0, 0, 0, 0, 0, 0, 0, 0, 0, 0, 0, 0, 0, 0, 0, 0, 0, 0, 0, 0, 0, 0, 0, 0, 0, 0, 0, 0, 0, 0, 0, 0, 0, 0, 0, 0, 0, 0, 0, 0, 0, 0, 0, 0, 0, 0, 0, 0, 0, 0, 0, 0, 0, 0, 0, 0, 0, 0, 0, 0, 0, 0, 0, 0, 0, 0, 0, 0, 0, 0, 0, 0, 0, 0, 0, 0, 0, 0, 0, 0, 0, 0, 0, 0, 0, 0, 0, 0, 0, 0, 0, 0, 0, 0, 0, 0, 0, 0, 0, 0, 0, 0, 0, 0, 0, 0, 0, 0, 0, 0, 0, 0, 0, 0, 0, 0, 0, 0, 0, 0, 0, 0, 0, 0, 0, 0, 0, 0, 0, 0, 0, 0, 0, 0, 0, 0, 0, 0, 0, 0, 0, 0, 0, 0, 0, 0, 0, 0, 0, 0, 0, 0, 0, 0, 0, 0, 0, 0, 0, 0, 0, 0, 0, 0, 0, 0, 0, 0, 0, 0, 0, 0, 0, 0, 0, 0, 0, 0, 0, 0, 0, 0, 0, 0, 0, 0, 0, 0, 0, 0, 0, 0, 0, 0, 0, 0, 0, 0, 0, 0, 0, 0, 0, 0, 0, 0, 0, 0, 0, 0, 0, 0, 0, 0, 0, 0, 0, 0, 0, 0, 1, 0, 0, 0, 0, 0, 0, 0, 0, 0, 0, 0, 0, 0, 0, 0, 0, 0, 0, 0, 0, 0, 0, 0, 0, 0, 0, 0, 0, 0, 0, 0, 0, 0, 0, 0, 0, 0, 0, 0, 0, 0, 0, 0, 0, 0, 0, 0, 0, 0, 0, 0, 0, 0, 0, 0, 0, 0, 0, 0, 0, 0, 0, 0, 0, 0, 0, 0, 0, 0, 0, 0, 0, 0, 0, 0, 0, 0, 0, 0, 0, 0, 0, 0, 0, 0, 0, 1, 0, 0, 0, 0, 0, 0, 0, 0, 0, 0, 0, 0, 0, 0, 0, 0, 0, 0, 0, 0, 0, 0, 0, 0, 0, 0, 0, 0, 0, 0, 0, 0, 0, 0, 0, 0, 0, 0, 0, 0, 0, 0, 0, 0, 0, 0, 0, 0, 0, 0, 0, 0, 0, 0, 0, 0, 0, 0, 0, 0, 0, 0, 0, 0, 0, 0, 0, 0, 0, 0, 0, 0, 0, 0, 0, 0, 0, 0, 0, 0, 0, 0, 0, 0, 0, 0, 0, 0, 0, 0, 0, 0, 0, 0, 0, 0, 0, 0, 0, 0, 0, 0, 0, 0, 0, 0, 0, 0, 0, 0, 0, 0, 0, 0, 0, 0, 0, 0, 0, 0, 0, 0, 0, 0, 0, 0, 0, 0, 0, 0, 0, 0, 0, 0, 0, 0, 0, 0, 0, 0, 0, 0, 0, 0, 0, 0, 0, 0, 0, 0, 0, 0, 0, 0, 0, 0, 0, 0, 0, 0, 0, 0, 0, 0, 0, 0, 0, 0, 0, 0, 0, 0, 0, 0, 0, 0, 0, 0, 0, 0, 0, 0, 0, 0, 0, 0, 0, 0, 0, 0, 0, 0, 0, 0, 0, 0, 0, 0, 0, 0, 0, 0, 0, 0, 0, 0, 0, 0, 0, 0, 0, 0, 0, 0, 0, 0, 0, 0, 0, 0, 0, 0, 0, 0, 0, 0, 0, 0, 0, 0, 0, 0, 0, 0, 0, 0, 0, 0, 0, 0, 0, 0, 0, 0, 0, 0, 0, 0, 0, 0, 1, 0, 0, 0, 0, 0, 0, 0, 0, 0, 0, 0, 0, 0, 0, 0, 0, 0, 0, 0, 0, 0, 0, 0, 0, 0, 0, 0, 0, 0, 0, 0, 0, 0, 0, 0, 0, 0, 0, 0, 0, 0, 0, 0, 0, 0, 0, 0, 0, 0, 0, 0, 0, 0, 0, 0, 1, 0, 0, 0, 0, 0, 0, 0, 0, 0, 0, 0, 0, 0, 0, 0, 0, 0, 0, 0, 0, 0, 0, 0, 0, 0, 0, 0, 0, 0, 0, 0, 0, 0, 0, 0, 0, 0, 0, 0, 0, 0, 0, 0, 0, 0, 0, 0, 0, 0, 0, 0, 0, 0, 0, 0, 0, 0, 0, 0, 0, 0, 0, 0, 0, 0, 0, 0, 0, 0, 0, 0, 0, 0, 0, 0, 0, 0, 0, 0, 0, 0, 0, 0, 0, 0, 0, 0, 0, 0, 0, 0, 0, 0, 0, 0, 0, 0, 0, 0, 0, 0, 0, 0, 0, 0, 0, 0, 0, 0, 0, 0, 0, 0, 0, 0, 0, 0, 0, 0, 0, 0, 0, 0, 0, 0, 0, 0, 0, 0, 0, 0, 0, 0, 0, 0, 0, 0, 0, 0, 0, 0, 0, 0, 0, 0, 0, 0, 0, 0, 0, 0, 0, 0, 0, 0, 0, 0, 0, 0, 0, 0, 0, 0, 0, 0, 0, 0, 0, 0, 0, 0, 0, 0, 0, 0, 0, 0, 0, 0, 0, 0, 0, 0, 0, 0, 0, 0, 0, 0, 0, 0, 0, 0, 0, 0, 0, 0, 0, 0, 0, 0, 0, 0, 0, 0, 0, 0, 0, 0, 0, 0, 0, 0, 0, 0, 0, 0, 0, 0, 0, 0, 0, 0, 0, 0, 0, 0, 0, 0, 0, 0, 0, 0, 0, 0, 0, 0, 0, 0, 0, 0, 0, 0, 0, 0, 0, 0, 0, 0, 0, 0, 0, 0, 0, 0, 0, 0, 0, 0, 0, 0, 0, 0, 0, 0, 0, 0, 0, 0, 0, 0, 0, 0, 0, 0, 0, 0, 0, 0, 0, 0, 0, 0, 0, 0, 0, 0, 0, 0, 0, 0, 0, 0, 0, 0, 0, 0, 0, 0, 0, 0, 0, 0, 0, 0, 0, 0, 0, 0, 0, 0, 0, 0, 0, 0, 0, 0, 0, 0, 0, 0, 0, 0, 0, 0, 0, 0, 0, 0, 0, 0, 0, 0, 0, 0, 0, 0, 0, 0, 0, 0, 0, 0, 0, 0, 0, 0, 0, 0, 0, 0, 0, 0, 0, 0, 0, 0, 0, 0, 0, 0, 0, 0, 0, 0, 0, 0, 0, 0, 0, 0, 0, 0, 0, 0, 0, 0, 0, 0, 0, 0, 0, 0, 0, 0, 0, 0, 0, 0, 0, 0, 0, 0, 0, 0, 0, 0, 0, 0, 0, 0, 0, 0, 0, 0, 0, 0, 0, 0, 0, 0, 0, 0, 0, 0, 0, 0, 0, 0, 0, 0, 0, 0, 0, 0, 0, 0, 0, 0, 0, 0, 0, 0, 0, 0, 0, 0, 0, 0, 0, 0, 0, 0, 0, 0, 0, 0, 0, 0, 0, 0, 0, 0, 0, 0, 0, 0, 0, 0, 0, 0, 0, 0, 0, 0, 0, 0, 0, 0, 0, 0, 0, 0, 0, 0, 0, 0, 0, 0, 0, 0, 0, 0, 0, 0, 0, 0, 0, 0, 0, 0, 0, 0, 0, 0, 0, 0, 0, 0, 0, 0, 0, 0, 0, 0, 0, 0, 0, 0, 0, 0, 0, 0, 0, 0, 0, 0, 0, 0, 0, 0, 0, 0, 0, 0, 0, 0, 0, 0, 0, 0, 0, 0, 0, 0, 0, 0, 0, 0, 0, 0, 0, 0, 0, 0, 0, 0, 0, 0, 0, 0, 0, 0, 0, 0, 0, 0, 0, 0, 0, 0, 0, 0, 0, 0, 0, 0, 0, 0, 0, 0, 0, 0, 0, 0, 0, 0, 0, 0, 0, 0, 0, 0, 0, 0, 0, 0, 0, 0, 0, 0, 0, 0, 0, 0, 0, 0, 0, 0, 0, 0, 0, 0, 0, 0, 0, 0, 0, 0, 0, 0, 0, 0, 0, 0, 0, 0, 0, 0, 0, 0, 0, 0, 0, 0, 0, 0, 0, 0, 0, 0, 0, 0, 0, 0, 0, 0, 0, 0, 0, 0, 0, 0, 0, 0, 0, 0, 0, 0, 0, 0, 0, 0, 0, 0, 0, 0, 0, 0, 0, 0, 0, 0, 0, 0, 0, 0, 0, 0, 0, 0, 0, 0, 0, 0, 0, 0, 0, 0, 0, 0, 0, 1, 0, 0, 0, 0, 0, 0, 0, 0, 0, 0, 0, 0, 0, 0, 0, 0, 0, 0, 0, 0, 0, 0, 0, 0, 0, 0, 0, 0, 0, 0, 0, 0, 0, 0, 0, 0, 0, 0, 0, 0, 0, 0, 0, 0, 0, 0, 0, 0, 0, 0, 0, 0, 0, 0, 0, 0, 0, 0, 0, 0, 0, 0, 0, 0, 0, 0, 0, 0, 0, 0, 0, 0, 0, 0, 1, 0, 0, 0, 0, 0, 0, 0, 0, 0, 0, 0, 0, 0, 0, 0, 0, 0, 0, 0, 0, 1, 0, 0, 1, 0, 0, 0, 0, 0, 0, 0, 0, 0, 0, 0, 0, 0, 0, 0, 0, 0, 0, 0, 0, 0, 0, 0, 0, 0, 0, 0, 0, 0, 0, 0, 0, 0, 0, 0, 0, 0, 0, 0, 0, 0, 0, 0, 0, 0, 0, 0, 0, 0, 0, 0, 0, 0, 0, 0, 0, 0, 0, 0, 0, 0, 0, 0, 0, 0, 0, 0, 0, 0, 0, 0, 0, 0, 0, 0, 0, 0, 0, 0, 0, 0, 0, 0, 0, 0, 0, 0, 0, 0, 0, 0, 0, 0, 0, 0, 0, 0, 0, 0, 0, 0, 0, 0, 0, 0, 0, 0, 0, 0, 0, 0, 0, 0, 0, 0, 0, 0, 0, 0, 0, 0, 0, 0, 0, 0, 0, 0, 0, 0, 0, 0, 0, 0, 0, 0, 0, 0, 0, 0, 0, 0, 0, 0, 0, 0, 0, 0, 0, 0, 0, 0, 0, 0, 0, 0, 0, 0, 0, 0, 0, 0, 0, 0, 0, 0, 0, 0, 0, 0, 0, 0, 0, 0, 0, 0, 0, 0, 0, 0, 0, 0, 0, 0, 0, 0, 0, 0, 0, 0, 0, 0, 0, 0, 0, 0, 0, 0, 0, 0, 0, 0, 0, 0, 0, 0, 0, 0, 0, 0, 0, 0, 0, 0, 0, 0, 0, 0, 0, 0, 0, 0, 0, 0, 0, 0, 0, 0, 0, 0, 0, 0, 0, 0, 0, 0, 0, 0, 0, 0, 0, 0, 0, 0, 0, 0, 0, 0, 0, 0, 0, 0, 0, 0, 0, 0, 0, 0, 0, 0, 0, 0, 0, 0, 0, 0, 0, 0, 0, 0, 0, 0, 0, 0, 0, 0, 0, 0, 0, 0, 0, 0, 0, 0, 0, 0, 0, 0, 0, 0, 0, 0, 0, 0, 0, 0, 0, 0, 0, 0, 0, 0, 0, 0, 0, 0, 0, 0, 0, 0, 0, 0, 0, 0, 0, 0, 0, 0, 0, 0, 0, 0, 0, 0, 0, 0, 0, 0, 0, 0, 0, 0, 0, 0, 0, 0, 0, 0, 0, 0, 0, 0, 0, 0, 0, 0, 0, 0, 0, 0, 0, 0, 0, 0, 0, 0, 0, 0, 0, 0, 0, 0, 0, 0, 0, 0, 0, 0, 0, 0, 0, 0, 0, 0, 0, 0, 0, 0, 0, 0, 0, 0, 0, 0, 0, 0, 0, 0, 0, 0, 0, 0, 0, 0, 0, 0, 0, 0, 0, 0, 0, 0, 0, 0, 0, 0, 0, 0, 0, 0, 0, 0, 0, 0, 0, 0, 0, 0, 0, 0, 0, 0, 0, 0, 0, 0, 0, 0, 0, 0, 0, 0, 0, 0, 0, 0, 0, 0, 0, 0, 0, 0, 0, 0, 0, 0, 0, 0, 0, 0, 0, 0, 0, 0, 0, 0, 0, 0, 0, 0, 0, 0, 0, 0, 0, 0, 0, 1, 0, 0, 0, 0, 0, 0, 0, 0, 0, 0, 0, 0, 0, 0, 0, 0, 0, 0, 0, 0, 0, 0, 0, 0, 0, 0, 0, 0, 0, 0, 0, 0, 0, 0, 0, 0, 0, 0, 0, 0, 0, 0, 0, 0, 0, 0, 0, 0, 0, 0, 0, 0, 0, 0, 0, 0, 0, 0, 0, 0, 0, 0, 0, 0, 0, 0, 0, 0, 0, 0, 0, 0, 0, 0, 0, 0, 0, 0, 0, 0, 0, 0, 0, 0, 0, 0, 0, 0, 0, 0, 0, 0, 0, 0, 0, 0, 0, 0, 0, 0, 0, 0, 0, 0, 0, 0, 0, 0, 0, 0, 0, 0, 0, 0, 0, 0, 0, 0, 0, 0, 0, 0, 0, 0, 0, 0, 0, 0, 0, 0, 0, 0, 0, 0, 0, 0, 0, 0, 0, 0, 0, 0, 0, 0, 0, 0, 0, 0, 0, 0, 0, 0, 0, 0, 0, 0, 0, 0, 0, 0, 0, 0, 0, 0, 0, 0, 0, 0, 0, 0, 0, 0, 0, 0, 0, 0, 0, 0, 0, 0, 0, 0, 0, 0, 0, 0, 0, 0, 0, 0, 0, 0, 0, 0, 0, 0, 0, 0, 0, 0, 0, 0, 0, 0, 0, 0, 0, 0, 0, 0, 0, 0, 0, 0, 0, 0, 0, 0, 0, 0, 0, 0, 0, 0, 0, 0, 0, 0, 0, 0, 0, 0, 0, 0, 0, 0, 0, 0, 0, 0, 0, 0, 0, 0, 0, 0, 0, 0, 0, 0, 0, 0, 0, 0, 0, 0, 0, 0, 0, 0, 0, 0, 0, 0, 0, 0, 0, 0, 0, 0, 0, 0, 0, 0, 0, 0, 0, 0, 0, 0, 0, 0, 0, 0, 0, 0, 0, 0, 0, 0, 0, 0, 0, 0, 0, 0, 0, 0, 0, 0, 0, 0, 0, 0, 0, 0, 0, 0, 0, 0, 0, 0, 0, 0, 0, 0, 0, 0, 0, 0, 0, 0, 0, 0, 0, 0, 0, 0, 0, 0, 0, 0, 0, 0, 0, 0, 0, 0, 0, 0, 0, 0, 0, 0, 0, 0, 0, 0, 0, 0, 0, 0, 0, 0, 0, 0, 0, 0, 0, 0, 0, 0, 0, 0, 0, 0, 0, 0, 0, 0, 0, 0, 0, 0, 0, 0, 0, 0, 0, 0, 0, 0, 0, 0, 0, 0, 0, 0, 0, 0, 0, 0, 0, 0, 0, 0, 0, 0, 0, 0, 0, 0, 0, 0, 0, 0, 0, 0, 0, 0, 0, 0, 0, 0, 0, 0, 0, 0, 0, 0, 0, 0, 0, 0, 0, 0, 0, 0, 0, 0, 0, 0, 0, 0, 0, 0, 0, 0, 0, 0, 0, 0, 0, 0, 0, 0, 0, 0, 0, 0, 0, 0, 0, 0, 0, 0, 0, 0, 0, 0, 0, 0, 0, 0, 0, 0, 0, 0, 0, 0, 0, 0, 0, 0, 0, 0, 0, 0, 0, 0, 0, 0, 0, 0, 0, 0, 0, 0, 0, 0, 0, 0, 0, 0, 0, 0, 0, 0, 0, 0, 0, 0, 0, 0, 0, 0, 0, 0, 0, 0, 0, 0, 1, 0, 0, 0, 0, 0, 0, 0, 0, 0, 0, 0, 0, 0, 0, 0, 0, 0, 0, 0, 0, 0, 0, 0, 0, 0, 0, 0, 0, 0, 0, 0, 0, 0, 0, 0, 2, 0, 0, 0, 0, 0, 0, 0, 0, 0, 0, 0, 0, 0, 0, 0, 0, 0, 0, 0, 0, 0, 0, 0, 0, 0, 0, 0, 0, 0, 0, 0, 0, 0, 0, 0, 0, 0, 0, 0, 0, 1, 0, 0, 0, 0, 0, 0, 0, 0, 0, 0, 0, 0, 0, 0, 0, 0, 0, 0, 0, 0, 0, 0, 0, 0, 0, 0, 0, 0, 0, 0, 0, 0, 0, 0, 0, 0, 0, 0, 0, 0, 0, 0, 0, 0, 0, 0, 0, 0, 0, 0, 0, 0, 0, 0, 0, 0, 0, 0, 0, 0, 0, 0, 0, 0, 0, 0, 0, 0, 0, 0, 0, 0, 0, 0, 0, 0, 0, 0, 0, 0, 0, 0, 0, 0, 0, 0, 0, 0, 0, 0, 0, 0, 0, 0, 0, 0, 0, 0, 0, 0, 0, 0, 0, 0, 0, 0, 0, 0, 0, 0, 0, 0, 0, 0, 0, 0, 0, 0, 0, 0, 0, 0, 0, 0, 0, 0, 0, 0, 0, 0, 0, 0, 0, 0, 0, 0, 0, 0, 0, 0, 0, 0, 0, 0, 0, 0, 0, 0, 0, 0, 0, 0, 0, 0, 0, 0, 0, 0, 0, 0, 0, 0, 0, 0, 0, 0, 0, 0, 0, 0, 0, 0, 0, 0, 0, 0, 0, 0, 0, 0, 0, 0, 0, 0, 0, 0, 0, 0, 0, 0, 0, 0, 0, 0, 0, 0, 0, 0, 0, 0, 0, 0, 0, 0, 0, 0, 0, 0, 0, 0, 0, 0, 0, 0, 0, 0, 0, 0, 0, 0, 0, 0, 0, 0, 0, 0, 0, 0, 0, 0, 0, 0, 0, 0, 0, 0, 0, 0, 0, 0, 0, 0, 0, 0, 0, 0, 0, 0, 0, 0, 0, 0, 0, 0, 0, 0, 0, 0, 0, 0, 0, 0, 0, 0, 0, 0, 0, 0, 0, 0, 0, 0, 0, 0, 0, 0, 0, 0, 0, 0, 0, 0, 0, 0, 0, 0, 0, 0, 0, 0, 0, 0, 0, 0, 0, 0, 0, 0, 0, 0, 0, 0, 0, 0, 0, 0, 0, 0, 0, 0, 0, 0, 0, 0, 0, 0, 0, 0, 0, 0, 0, 0, 0, 0, 0, 0, 0, 0, 0, 0, 0, 0, 0, 0, 0, 0, 0, 0, 0, 0, 0, 0, 0, 0, 0, 0, 0, 0, 0, 0, 0, 0, 0, 0, 0, 0, 0, 0, 0, 0, 0, 0, 0, 0, 0, 0, 0, 0, 0, 0, 0, 0, 0, 0, 0, 0, 0, 0, 0, 0, 0, 0, 0, 0, 0, 0, 0, 0, 0, 0, 0, 0, 0, 0, 0, 0, 0, 0, 0, 0, 0, 0, 0, 0, 0, 0, 0, 0, 0, 0, 0, 0, 0, 0, 0, 0, 0, 0, 0, 0, 0, 0, 0, 0, 0, 0, 0, 0, 0, 0, 0, 0, 0, 0, 0, 0, 0, 0, 0, 0, 0, 0, 0, 0, 0, 0, 0, 0, 0, 0, 0, 0, 0, 0, 0, 0, 0, 0, 0, 0, 0, 0, 0, 0, 0, 0, 0, 0, 0, 0, 0, 0, 0, 0, 0, 0, 0, 0, 0, 0, 0, 0, 0, 0, 0, 0, 0, 0, 0, 0, 0, 0, 0, 0, 0, 0, 0, 0, 0, 0, 1, 0, 0, 0, 0, 0, 0, 0, 0, 0, 0, 0, 0, 0, 0, 0, 0, 0, 0, 0, 0, 0, 0, 0, 0, 0, 0, 0, 0, 0, 0, 0, 0, 0, 0, 0, 0, 0, 0, 0, 0, 0, 0, 0, 0, 0, 0, 0, 0, 0, 0, 0, 0, 0, 0, 0, 0, 0, 0, 0, 0, 0, 0, 0, 0, 0, 0, 0, 0, 0, 0, 0, 0, 0, 0, 0, 0, 0, 0, 0, 0, 0, 0, 0, 0, 0, 0, 0, 0, 0, 0, 0, 0, 0, 0, 0, 0, 0, 0, 0, 0, 0, 0, 0, 0, 0, 0, 0, 0, 0, 0, 2, 0, 0, 0, 0, 0, 0, 0, 0, 0, 0, 0, 0, 0, 0, 0, 0, 0, 0, 0, 0, 0, 0, 0, 0, 0, 0, 0, 0, 0, 0, 0, 0, 0, 0, 0, 0, 0, 0, 0, 0, 0, 0, 0, 0, 0, 0, 0, 0, 0, 0, 0, 0, 0, 0, 0, 0, 0, 0, 0, 0, 0, 0, 0, 0, 0, 0, 0, 0, 0, 0, 0, 0, 0, 0, 0, 0, 0, 0, 0, 0, 0, 0, 0, 0, 0, 0, 0, 0, 0, 0, 0, 0, 0, 0, 0, 0, 0, 0, 0, 0, 0, 0, 0, 0, 0, 0, 0, 0, 0, 0, 0, 0, 0, 0, 0, 0, 0, 0, 0, 0, 0, 0, 0, 0, 0, 0, 0, 0, 0, 0, 0, 0, 0, 0, 0, 0, 0, 0, 0, 0, 0, 0, 0, 0, 0, 0, 0, 0, 0, 0, 0, 0, 0, 0, 0, 0, 0, 0, 0, 0, 0, 0, 0, 0, 0, 0, 0, 0, 0, 0, 0, 0, 0, 0, 0, 0, 0, 0, 0, 0, 0, 0, 0, 0, 0, 0, 0, 0, 0, 0, 0, 0, 0, 0, 0, 0, 0, 0, 0, 0, 0, 0, 0, 0, 0, 0, 0, 0, 0, 0, 0, 0, 0, 0, 0, 0, 0, 0, 0, 0, 0, 0, 0, 0, 0, 0, 0, 0, 0, 0, 0, 0, 0, 0, 0, 0, 0, 0, 0, 0, 0, 0, 0, 0, 0, 0, 0, 0, 0, 0, 0, 0, 0, 0, 0, 0, 0, 0, 0, 0, 0, 0, 0, 0, 0, 0, 0, 0, 0, 0, 0, 0, 0, 0, 0, 0, 0, 0, 0, 0, 0, 0, 0, 0, 0, 0, 0, 0, 0, 0, 0, 0, 0, 0, 0, 0, 0, 0, 0, 0, 0, 0, 0, 0, 0, 0, 0, 0, 0, 0, 0, 0, 0, 0, 0, 0, 0, 0, 0, 0, 0, 0, 0, 0, 0, 0, 0, 0, 0, 0, 0, 0, 0, 0, 0, 0, 0, 0, 0, 0, 0, 0, 0, 0, 0, 0, 0, 0, 0, 0, 0, 0, 0, 0, 0, 0, 0, 0, 0, 0, 0, 0, 0, 0, 0, 0, 0, 0, 0, 0, 0, 0, 0, 0, 0, 0, 0, 0, 0, 0, 0, 0, 0, 0, 0, 0, 0, 0, 0, 0, 0, 0, 0, 0, 0, 0, 0, 0, 0, 0, 0, 0, 0, 0, 0, 0, 0, 0, 0, 0, 0, 0, 0, 0, 0, 0, 0, 0, 0, 0, 0, 0, 0, 0, 0, 0, 0, 0, 0, 0, 0, 0, 0, 0, 0, 0, 0, 0, 0, 0, 0, 0, 0, 0, 0, 0, 0, 0, 0, 0, 0, 0, 0, 0, 0, 0, 0, 0, 0, 0, 0, 0, 0, 0, 0, 0, 0, 0, 0, 0, 0, 0, 0, 0, 0, 0, 0, 0, 0, 0, 0, 0, 0, 0, 0, 0, 0, 0, 0, 0, 0, 0, 0, 0, 0, 0, 0, 0, 0, 0, 0, 0, 0, 0, 0, 0, 0, 0, 0, 0, 0, 0, 0, 0, 0, 0, 0, 0, 0, 0, 0, 0, 0, 0, 0, 0, 0, 0, 0, 0, 0, 0, 0, 0, 0, 0, 0, 0, 0, 0, 0, 0, 0, 0, 0, 0, 0, 0, 0, 0, 0, 0, 0, 0, 0, 0, 0, 0, 0, 0, 0, 0, 0, 0, 0, 0, 0, 0, 0, 0, 0, 0, 0, 0, 0, 0, 0, 0, 0, 0, 0, 0, 0, 0, 0, 0, 0, 0, 0, 0, 0, 0, 0, 0, 0, 0, 0, 0, 0, 0, 0, 0, 0, 0, 0, 0, 0, 0, 0, 0, 0, 0, 0, 0, 0, 0, 0, 0, 0, 0, 0, 0, 0, 0, 0, 0, 0, 0, 0, 0, 0, 0, 0, 0, 0, 0, 0, 0, 0, 0, 0, 0, 0, 0, 0, 0, 0, 0, 0, 0, 0, 0, 0, 0, 0, 0, 0, 0, 0, 0, 0, 0, 0, 0, 0, 0, 0, 0, 0, 0, 0, 0, 0, 0, 0, 0, 0, 0, 0, 0, 0, 0, 0, 0, 0, 0, 0, 0, 0, 1, 0, 0, 0, 0, 0, 0, 0, 0, 0, 0, 0, 0, 0, 0, 0, 0, 0, 0, 0, 0, 0, 0, 0, 0, 0, 0, 0, 0, 0, 0, 0, 0, 0, 0, 0, 0, 0, 0, 0, 0, 0, 0, 0, 0, 0, 0, 0, 0, 0, 0, 0, 0, 0, 0, 0, 0, 0, 0, 0, 0, 0, 0, 0, 0, 0, 0, 0, 0, 0, 0, 0, 0, 0, 0, 0, 0, 0, 0, 0, 0, 0, 0, 0, 0, 0, 0, 0, 0, 0, 0, 0, 0, 0, 0, 0, 0, 0, 0, 0, 0, 0, 0, 0, 0, 0, 0, 0, 1, 0, 0, 0, 0, 0, 0, 0, 0, 0, 0, 0, 0, 0, 0, 0, 0, 0, 0, 0, 0, 0, 0, 0, 0, 0, 0, 0, 0, 0, 0, 0, 0, 0, 0, 0, 0, 0, 0, 0, 0, 0, 0, 0, 0, 0, 0, 0, 0, 0, 0, 0, 0, 0, 0, 0, 0, 0, 0, 0, 0, 0, 0, 0, 0, 0, 0, 0, 0, 0, 0, 0, 0, 0, 0, 0, 0, 0, 0, 0, 0, 0, 0, 0, 0, 0, 0, 0, 0, 0, 0, 0, 0, 0, 0, 0, 0, 0, 0, 0, 0, 0, 0, 0, 0, 0, 0, 0, 0, 0, 0, 0, 0, 0, 0, 0, 0, 0, 0, 0, 0, 0, 0, 0, 0, 0, 0, 0, 0, 0, 0, 0, 0, 0, 0, 0, 0, 0, 0, 0, 0, 0, 0, 0, 0, 0, 0, 0, 0, 0, 0, 0, 0, 0, 0, 0, 0, 0, 0, 0, 0, 0, 0, 0, 0, 0, 0, 0, 0, 0, 0, 0, 0, 0, 0, 0, 0, 0, 0, 0, 0, 0, 0, 0, 0, 0, 0, 0, 0, 0, 0, 0, 0, 0, 0, 0, 0, 0, 0, 0, 0, 0, 0, 0, 0, 0, 0, 0, 0, 0, 0, 0, 0, 0, 0, 0, 0, 0, 0, 0, 0, 0, 0, 0, 0, 0, 0, 0, 0, 0, 0, 0, 0, 0, 0, 0, 0, 0, 0, 0, 0, 0, 0, 0, 0, 0, 0, 0, 0, 0, 0, 0, 0, 0, 0, 0, 0, 0, 0, 0, 0, 0, 0, 0, 0, 0, 0, 0, 0, 0, 0, 0, 0, 0, 0, 0, 0, 0, 0, 0, 0, 0, 0, 0, 0, 0, 0, 0, 0, 0, 0, 0, 0, 0, 0, 0, 0, 0, 0, 0, 0, 0, 0, 0, 0, 0, 0, 0, 0, 0, 0, 0, 0, 0, 0, 0, 0, 0, 0, 0, 0, 0, 0, 0, 0, 0, 0, 0, 0, 0, 0, 0, 0, 0, 0, 0, 0, 0, 0, 0, 0, 0, 0, 0, 0, 0, 0, 0, 0, 0, 0, 0, 0, 0, 0, 0, 0, 0, 0, 0, 0, 0, 0, 0, 0, 0, 0, 0, 0, 0, 0, 0, 0, 0, 0, 0, 0, 0, 0, 0, 0, 0, 0, 0, 0, 0, 0, 0, 0, 0, 0, 0, 0, 0, 0, 0, 0, 0, 0, 0, 0, 0, 0, 0, 0, 0, 0, 0, 0, 0, 0, 0, 0, 0, 0, 0, 0, 0, 0, 0, 0, 0, 0, 0, 0, 0, 0, 0, 0, 0, 0, 0, 0, 0, 0, 0, 0, 0, 0, 0, 0, 0, 0, 0, 0, 0, 0, 0, 0, 0, 0, 0, 0, 0, 0, 0, 0, 0, 0, 0, 0, 0, 0, 2, 0, 1, 0], type: <class 'list'>, valid types: <class 'bytes'>, <class 'bytearray'>, file-like object",
     "output_type": "error",
     "traceback": [
      "\u001b[0;31m---------------------------------------------------------------------------\u001b[0m",
      "\u001b[0;31mParamValidationError\u001b[0m                      Traceback (most recent call last)",
      "\u001b[0;32m<ipython-input-45-c9ab54ae3a48>\u001b[0m in \u001b[0;36m<module>\u001b[0;34m\u001b[0m\n\u001b[1;32m      1\u001b[0m response = runtime.invoke_endpoint(EndpointName = xgb_predictor.endpoint, # The name of the endpoint we created\n\u001b[1;32m      2\u001b[0m                                        \u001b[0mContentType\u001b[0m \u001b[0;34m=\u001b[0m \u001b[0;34m'text/csv'\u001b[0m\u001b[0;34m,\u001b[0m                     \u001b[0;31m# The data format that is expected\u001b[0m\u001b[0;34m\u001b[0m\u001b[0;34m\u001b[0m\u001b[0m\n\u001b[0;32m----> 3\u001b[0;31m                                        Body = test_bow)\n\u001b[0m",
      "\u001b[0;32m~/anaconda3/envs/python3/lib/python3.6/site-packages/botocore/client.py\u001b[0m in \u001b[0;36m_api_call\u001b[0;34m(self, *args, **kwargs)\u001b[0m\n\u001b[1;32m    335\u001b[0m                     \"%s() only accepts keyword arguments.\" % py_operation_name)\n\u001b[1;32m    336\u001b[0m             \u001b[0;31m# The \"self\" in this scope is referring to the BaseClient.\u001b[0m\u001b[0;34m\u001b[0m\u001b[0;34m\u001b[0m\u001b[0;34m\u001b[0m\u001b[0m\n\u001b[0;32m--> 337\u001b[0;31m             \u001b[0;32mreturn\u001b[0m \u001b[0mself\u001b[0m\u001b[0;34m.\u001b[0m\u001b[0m_make_api_call\u001b[0m\u001b[0;34m(\u001b[0m\u001b[0moperation_name\u001b[0m\u001b[0;34m,\u001b[0m \u001b[0mkwargs\u001b[0m\u001b[0;34m)\u001b[0m\u001b[0;34m\u001b[0m\u001b[0;34m\u001b[0m\u001b[0m\n\u001b[0m\u001b[1;32m    338\u001b[0m \u001b[0;34m\u001b[0m\u001b[0m\n\u001b[1;32m    339\u001b[0m         \u001b[0m_api_call\u001b[0m\u001b[0;34m.\u001b[0m\u001b[0m__name__\u001b[0m \u001b[0;34m=\u001b[0m \u001b[0mstr\u001b[0m\u001b[0;34m(\u001b[0m\u001b[0mpy_operation_name\u001b[0m\u001b[0;34m)\u001b[0m\u001b[0;34m\u001b[0m\u001b[0;34m\u001b[0m\u001b[0m\n",
      "\u001b[0;32m~/anaconda3/envs/python3/lib/python3.6/site-packages/botocore/client.py\u001b[0m in \u001b[0;36m_make_api_call\u001b[0;34m(self, operation_name, api_params)\u001b[0m\n\u001b[1;32m    627\u001b[0m         }\n\u001b[1;32m    628\u001b[0m         request_dict = self._convert_to_request_dict(\n\u001b[0;32m--> 629\u001b[0;31m             api_params, operation_model, context=request_context)\n\u001b[0m\u001b[1;32m    630\u001b[0m \u001b[0;34m\u001b[0m\u001b[0m\n\u001b[1;32m    631\u001b[0m         \u001b[0mservice_id\u001b[0m \u001b[0;34m=\u001b[0m \u001b[0mself\u001b[0m\u001b[0;34m.\u001b[0m\u001b[0m_service_model\u001b[0m\u001b[0;34m.\u001b[0m\u001b[0mservice_id\u001b[0m\u001b[0;34m.\u001b[0m\u001b[0mhyphenize\u001b[0m\u001b[0;34m(\u001b[0m\u001b[0;34m)\u001b[0m\u001b[0;34m\u001b[0m\u001b[0;34m\u001b[0m\u001b[0m\n",
      "\u001b[0;32m~/anaconda3/envs/python3/lib/python3.6/site-packages/botocore/client.py\u001b[0m in \u001b[0;36m_convert_to_request_dict\u001b[0;34m(self, api_params, operation_model, context)\u001b[0m\n\u001b[1;32m    675\u001b[0m             api_params, operation_model, context)\n\u001b[1;32m    676\u001b[0m         request_dict = self._serializer.serialize_to_request(\n\u001b[0;32m--> 677\u001b[0;31m             api_params, operation_model)\n\u001b[0m\u001b[1;32m    678\u001b[0m         \u001b[0;32mif\u001b[0m \u001b[0;32mnot\u001b[0m \u001b[0mself\u001b[0m\u001b[0;34m.\u001b[0m\u001b[0m_client_config\u001b[0m\u001b[0;34m.\u001b[0m\u001b[0minject_host_prefix\u001b[0m\u001b[0;34m:\u001b[0m\u001b[0;34m\u001b[0m\u001b[0;34m\u001b[0m\u001b[0m\n\u001b[1;32m    679\u001b[0m             \u001b[0mrequest_dict\u001b[0m\u001b[0;34m.\u001b[0m\u001b[0mpop\u001b[0m\u001b[0;34m(\u001b[0m\u001b[0;34m'host_prefix'\u001b[0m\u001b[0;34m,\u001b[0m \u001b[0;32mNone\u001b[0m\u001b[0;34m)\u001b[0m\u001b[0;34m\u001b[0m\u001b[0;34m\u001b[0m\u001b[0m\n",
      "\u001b[0;32m~/anaconda3/envs/python3/lib/python3.6/site-packages/botocore/validate.py\u001b[0m in \u001b[0;36mserialize_to_request\u001b[0;34m(self, parameters, operation_model)\u001b[0m\n\u001b[1;32m    295\u001b[0m                                                     operation_model.input_shape)\n\u001b[1;32m    296\u001b[0m             \u001b[0;32mif\u001b[0m \u001b[0mreport\u001b[0m\u001b[0;34m.\u001b[0m\u001b[0mhas_errors\u001b[0m\u001b[0;34m(\u001b[0m\u001b[0;34m)\u001b[0m\u001b[0;34m:\u001b[0m\u001b[0;34m\u001b[0m\u001b[0;34m\u001b[0m\u001b[0m\n\u001b[0;32m--> 297\u001b[0;31m                 \u001b[0;32mraise\u001b[0m \u001b[0mParamValidationError\u001b[0m\u001b[0;34m(\u001b[0m\u001b[0mreport\u001b[0m\u001b[0;34m=\u001b[0m\u001b[0mreport\u001b[0m\u001b[0;34m.\u001b[0m\u001b[0mgenerate_report\u001b[0m\u001b[0;34m(\u001b[0m\u001b[0;34m)\u001b[0m\u001b[0;34m)\u001b[0m\u001b[0;34m\u001b[0m\u001b[0;34m\u001b[0m\u001b[0m\n\u001b[0m\u001b[1;32m    298\u001b[0m         return self._serializer.serialize_to_request(parameters,\n\u001b[1;32m    299\u001b[0m                                                      operation_model)\n",
      "\u001b[0;31mParamValidationError\u001b[0m: Parameter validation failed:\nInvalid type for parameter Body, value: [0, 0, 0, 0, 0, 0, 0, 0, 0, 0, 0, 0, 0, 0, 0, 0, 0, 0, 0, 0, 0, 0, 0, 0, 0, 0, 0, 0, 0, 0, 0, 0, 0, 0, 0, 0, 0, 0, 0, 0, 0, 0, 0, 0, 0, 0, 0, 0, 0, 0, 0, 0, 0, 0, 0, 0, 0, 0, 0, 0, 0, 0, 0, 0, 0, 0, 0, 0, 0, 0, 0, 0, 0, 0, 0, 0, 0, 0, 0, 0, 0, 0, 0, 0, 0, 0, 0, 0, 0, 0, 0, 0, 0, 0, 0, 0, 0, 0, 0, 0, 0, 0, 0, 0, 0, 0, 0, 0, 0, 0, 0, 0, 0, 0, 0, 0, 0, 0, 0, 0, 0, 0, 0, 0, 0, 0, 0, 0, 0, 0, 0, 0, 0, 0, 0, 0, 0, 0, 0, 0, 0, 0, 0, 0, 0, 0, 0, 0, 0, 0, 0, 0, 0, 0, 0, 0, 0, 0, 0, 0, 0, 0, 0, 0, 0, 0, 0, 0, 0, 0, 0, 0, 0, 0, 0, 0, 0, 0, 0, 0, 0, 0, 0, 0, 0, 0, 0, 0, 0, 0, 0, 0, 0, 0, 0, 0, 0, 0, 0, 0, 0, 0, 0, 0, 0, 0, 0, 0, 0, 0, 0, 0, 0, 0, 0, 0, 0, 0, 0, 0, 0, 0, 0, 0, 0, 0, 1, 0, 0, 0, 0, 0, 0, 0, 0, 0, 0, 0, 0, 0, 0, 0, 0, 0, 0, 0, 0, 0, 0, 0, 0, 0, 0, 0, 0, 1, 0, 0, 0, 0, 0, 0, 0, 0, 0, 0, 0, 0, 0, 0, 0, 0, 0, 0, 0, 0, 0, 0, 0, 0, 0, 0, 0, 0, 0, 0, 0, 0, 0, 0, 0, 0, 0, 0, 0, 0, 0, 0, 0, 0, 0, 0, 0, 0, 0, 0, 0, 0, 0, 0, 0, 0, 0, 0, 0, 0, 0, 0, 0, 0, 0, 0, 0, 0, 0, 0, 0, 0, 0, 0, 0, 0, 0, 0, 0, 0, 0, 0, 0, 0, 0, 0, 0, 0, 0, 0, 0, 0, 0, 0, 0, 0, 0, 0, 0, 0, 0, 0, 0, 0, 0, 0, 0, 0, 0, 0, 0, 0, 0, 0, 0, 0, 0, 0, 0, 0, 0, 0, 0, 0, 0, 0, 0, 0, 0, 0, 0, 0, 0, 0, 0, 0, 0, 0, 0, 0, 0, 0, 0, 0, 0, 0, 0, 0, 0, 0, 0, 0, 0, 0, 0, 0, 0, 0, 0, 0, 0, 0, 0, 0, 0, 0, 0, 0, 0, 0, 0, 0, 0, 0, 0, 0, 0, 0, 0, 0, 0, 0, 0, 0, 0, 0, 0, 0, 0, 0, 0, 0, 0, 0, 0, 0, 0, 0, 0, 0, 0, 0, 0, 0, 0, 0, 0, 0, 0, 0, 0, 0, 0, 0, 0, 0, 0, 0, 0, 0, 0, 0, 0, 0, 0, 0, 0, 0, 0, 0, 0, 0, 0, 0, 0, 0, 0, 0, 0, 0, 0, 0, 0, 0, 0, 0, 0, 0, 0, 0, 0, 0, 0, 0, 0, 0, 0, 0, 0, 0, 0, 0, 0, 0, 0, 0, 0, 0, 0, 0, 0, 0, 0, 0, 0, 0, 0, 0, 0, 0, 0, 0, 0, 0, 0, 0, 0, 0, 0, 0, 0, 0, 0, 0, 0, 0, 0, 0, 0, 0, 0, 0, 0, 0, 0, 0, 0, 0, 0, 0, 0, 0, 0, 0, 0, 0, 0, 0, 0, 0, 0, 0, 0, 0, 0, 0, 0, 0, 0, 0, 0, 0, 0, 0, 0, 0, 0, 0, 0, 0, 0, 0, 0, 0, 0, 0, 0, 0, 0, 0, 0, 0, 0, 0, 0, 0, 0, 0, 0, 0, 0, 0, 0, 0, 0, 0, 0, 0, 0, 0, 0, 0, 0, 0, 0, 0, 0, 0, 0, 0, 1, 0, 0, 0, 0, 0, 0, 0, 0, 0, 0, 0, 0, 0, 0, 0, 0, 0, 0, 0, 0, 0, 0, 0, 0, 0, 0, 0, 0, 0, 0, 0, 0, 0, 0, 0, 0, 0, 0, 0, 0, 0, 0, 0, 0, 0, 0, 0, 0, 0, 0, 0, 0, 0, 0, 0, 0, 0, 0, 0, 0, 0, 0, 0, 0, 0, 0, 0, 0, 0, 0, 0, 0, 0, 0, 0, 0, 0, 0, 0, 0, 0, 0, 0, 0, 0, 0, 0, 0, 0, 0, 0, 0, 0, 0, 0, 0, 0, 0, 0, 0, 0, 0, 0, 0, 0, 0, 0, 0, 0, 0, 0, 0, 0, 0, 0, 0, 0, 0, 0, 0, 0, 0, 0, 0, 0, 0, 0, 0, 0, 0, 0, 0, 0, 0, 0, 0, 0, 0, 0, 0, 0, 0, 0, 0, 0, 0, 0, 0, 0, 0, 0, 0, 0, 0, 0, 0, 0, 0, 0, 0, 0, 0, 0, 0, 0, 0, 0, 0, 0, 0, 0, 0, 0, 0, 0, 0, 0, 0, 0, 0, 0, 0, 0, 0, 0, 0, 0, 0, 0, 0, 0, 0, 0, 0, 0, 0, 0, 0, 0, 0, 0, 0, 0, 0, 0, 0, 0, 0, 0, 0, 0, 0, 0, 0, 0, 0, 0, 0, 0, 0, 0, 0, 0, 0, 0, 0, 0, 0, 0, 0, 0, 0, 0, 0, 0, 0, 0, 0, 0, 0, 0, 0, 0, 0, 0, 0, 0, 0, 0, 0, 0, 0, 0, 1, 0, 0, 0, 0, 0, 0, 0, 0, 0, 0, 0, 0, 0, 0, 0, 0, 0, 0, 0, 0, 0, 0, 0, 0, 0, 0, 0, 0, 0, 0, 0, 0, 0, 0, 0, 0, 0, 0, 0, 0, 0, 0, 0, 0, 0, 0, 0, 0, 0, 0, 0, 0, 0, 0, 0, 0, 0, 0, 0, 0, 0, 0, 0, 0, 0, 0, 0, 0, 0, 0, 0, 0, 0, 0, 0, 0, 0, 0, 0, 0, 0, 0, 0, 0, 0, 0, 1, 0, 0, 0, 0, 0, 0, 0, 0, 0, 0, 0, 0, 0, 0, 0, 0, 0, 0, 0, 0, 0, 0, 0, 0, 0, 0, 0, 0, 0, 0, 0, 0, 0, 0, 0, 0, 0, 0, 0, 0, 0, 0, 0, 0, 0, 0, 0, 0, 0, 0, 0, 0, 0, 0, 0, 0, 0, 0, 0, 0, 0, 0, 0, 0, 0, 0, 0, 0, 0, 0, 0, 0, 0, 0, 0, 0, 0, 0, 0, 0, 0, 0, 0, 0, 0, 0, 0, 0, 0, 0, 0, 0, 0, 0, 0, 0, 0, 0, 0, 0, 0, 0, 0, 0, 0, 0, 0, 0, 0, 0, 0, 0, 0, 0, 0, 0, 0, 0, 0, 0, 0, 0, 0, 0, 0, 0, 0, 0, 0, 0, 0, 0, 0, 0, 0, 0, 0, 0, 0, 0, 0, 0, 0, 0, 0, 0, 0, 0, 0, 0, 0, 0, 0, 0, 0, 0, 0, 0, 0, 0, 0, 0, 0, 0, 0, 0, 0, 0, 0, 0, 0, 0, 0, 0, 0, 0, 0, 0, 0, 0, 0, 0, 0, 0, 0, 0, 0, 0, 0, 0, 0, 0, 0, 0, 0, 0, 0, 0, 0, 0, 0, 0, 0, 0, 0, 0, 0, 0, 0, 0, 0, 0, 0, 0, 0, 0, 0, 0, 0, 0, 0, 0, 0, 0, 0, 0, 0, 0, 0, 0, 0, 0, 0, 0, 0, 0, 0, 0, 0, 0, 0, 0, 0, 0, 0, 0, 0, 0, 0, 0, 1, 0, 0, 0, 0, 0, 0, 0, 0, 0, 0, 0, 0, 0, 0, 0, 0, 0, 0, 0, 0, 0, 0, 0, 0, 0, 0, 0, 0, 0, 0, 0, 0, 0, 0, 0, 0, 0, 0, 0, 0, 0, 0, 0, 0, 0, 0, 0, 0, 0, 0, 0, 0, 0, 0, 0, 1, 0, 0, 0, 0, 0, 0, 0, 0, 0, 0, 0, 0, 0, 0, 0, 0, 0, 0, 0, 0, 0, 0, 0, 0, 0, 0, 0, 0, 0, 0, 0, 0, 0, 0, 0, 0, 0, 0, 0, 0, 0, 0, 0, 0, 0, 0, 0, 0, 0, 0, 0, 0, 0, 0, 0, 0, 0, 0, 0, 0, 0, 0, 0, 0, 0, 0, 0, 0, 0, 0, 0, 0, 0, 0, 0, 0, 0, 0, 0, 0, 0, 0, 0, 0, 0, 0, 0, 0, 0, 0, 0, 0, 0, 0, 0, 0, 0, 0, 0, 0, 0, 0, 0, 0, 0, 0, 0, 0, 0, 0, 0, 0, 0, 0, 0, 0, 0, 0, 0, 0, 0, 0, 0, 0, 0, 0, 0, 0, 0, 0, 0, 0, 0, 0, 0, 0, 0, 0, 0, 0, 0, 0, 0, 0, 0, 0, 0, 0, 0, 0, 0, 0, 0, 0, 0, 0, 0, 0, 0, 0, 0, 0, 0, 0, 0, 0, 0, 0, 0, 0, 0, 0, 0, 0, 0, 0, 0, 0, 0, 0, 0, 0, 0, 0, 0, 0, 0, 0, 0, 0, 0, 0, 0, 0, 0, 0, 0, 0, 0, 0, 0, 0, 0, 0, 0, 0, 0, 0, 0, 0, 0, 0, 0, 0, 0, 0, 0, 0, 0, 0, 0, 0, 0, 0, 0, 0, 0, 0, 0, 0, 0, 0, 0, 0, 0, 0, 0, 0, 0, 0, 0, 0, 0, 0, 0, 0, 0, 0, 0, 0, 0, 0, 0, 0, 0, 0, 0, 0, 0, 0, 0, 0, 0, 0, 0, 0, 0, 0, 0, 0, 0, 0, 0, 0, 0, 0, 0, 0, 0, 0, 0, 0, 0, 0, 0, 0, 0, 0, 0, 0, 0, 0, 0, 0, 0, 0, 0, 0, 0, 0, 0, 0, 0, 0, 0, 0, 0, 0, 0, 0, 0, 0, 0, 0, 0, 0, 0, 0, 0, 0, 0, 0, 0, 0, 0, 0, 0, 0, 0, 0, 0, 0, 0, 0, 0, 0, 0, 0, 0, 0, 0, 0, 0, 0, 0, 0, 0, 0, 0, 0, 0, 0, 0, 0, 0, 0, 0, 0, 0, 0, 0, 0, 0, 0, 0, 0, 0, 0, 0, 0, 0, 0, 0, 0, 0, 0, 0, 0, 0, 0, 0, 0, 0, 0, 0, 0, 0, 0, 0, 0, 0, 0, 0, 0, 0, 0, 0, 0, 0, 0, 0, 0, 0, 0, 0, 0, 0, 0, 0, 0, 0, 0, 0, 0, 0, 0, 0, 0, 0, 0, 0, 0, 0, 0, 0, 0, 0, 0, 0, 0, 0, 0, 0, 0, 0, 0, 0, 0, 0, 0, 0, 0, 0, 0, 0, 0, 0, 0, 0, 0, 0, 0, 0, 0, 0, 0, 0, 0, 0, 0, 0, 0, 0, 0, 0, 0, 0, 0, 0, 0, 0, 0, 0, 0, 0, 0, 0, 0, 0, 0, 0, 0, 0, 0, 0, 0, 0, 0, 0, 0, 0, 0, 0, 0, 0, 0, 0, 0, 0, 0, 0, 0, 0, 0, 0, 0, 0, 0, 0, 0, 0, 0, 0, 0, 0, 0, 0, 0, 0, 0, 0, 0, 0, 0, 0, 0, 0, 0, 0, 0, 0, 0, 0, 0, 0, 0, 0, 0, 0, 0, 0, 0, 0, 0, 0, 0, 0, 0, 0, 0, 0, 0, 0, 0, 0, 0, 0, 0, 0, 0, 0, 0, 0, 0, 0, 0, 0, 0, 0, 0, 0, 0, 0, 0, 0, 0, 0, 0, 0, 0, 0, 0, 0, 0, 0, 0, 0, 0, 0, 0, 0, 0, 0, 0, 0, 0, 0, 0, 0, 0, 0, 0, 0, 0, 0, 0, 0, 0, 0, 0, 0, 0, 0, 0, 0, 0, 0, 0, 0, 0, 0, 0, 0, 0, 0, 0, 0, 0, 0, 0, 0, 0, 0, 0, 0, 0, 0, 0, 0, 0, 0, 0, 0, 0, 0, 0, 0, 0, 0, 0, 0, 0, 0, 0, 0, 0, 0, 0, 0, 0, 0, 0, 0, 0, 0, 0, 0, 0, 0, 0, 0, 0, 0, 0, 0, 0, 0, 0, 0, 0, 0, 0, 1, 0, 0, 0, 0, 0, 0, 0, 0, 0, 0, 0, 0, 0, 0, 0, 0, 0, 0, 0, 0, 0, 0, 0, 0, 0, 0, 0, 0, 0, 0, 0, 0, 0, 0, 0, 0, 0, 0, 0, 0, 0, 0, 0, 0, 0, 0, 0, 0, 0, 0, 0, 0, 0, 0, 0, 0, 0, 0, 0, 0, 0, 0, 0, 0, 0, 0, 0, 0, 0, 0, 0, 0, 0, 0, 1, 0, 0, 0, 0, 0, 0, 0, 0, 0, 0, 0, 0, 0, 0, 0, 0, 0, 0, 0, 0, 1, 0, 0, 1, 0, 0, 0, 0, 0, 0, 0, 0, 0, 0, 0, 0, 0, 0, 0, 0, 0, 0, 0, 0, 0, 0, 0, 0, 0, 0, 0, 0, 0, 0, 0, 0, 0, 0, 0, 0, 0, 0, 0, 0, 0, 0, 0, 0, 0, 0, 0, 0, 0, 0, 0, 0, 0, 0, 0, 0, 0, 0, 0, 0, 0, 0, 0, 0, 0, 0, 0, 0, 0, 0, 0, 0, 0, 0, 0, 0, 0, 0, 0, 0, 0, 0, 0, 0, 0, 0, 0, 0, 0, 0, 0, 0, 0, 0, 0, 0, 0, 0, 0, 0, 0, 0, 0, 0, 0, 0, 0, 0, 0, 0, 0, 0, 0, 0, 0, 0, 0, 0, 0, 0, 0, 0, 0, 0, 0, 0, 0, 0, 0, 0, 0, 0, 0, 0, 0, 0, 0, 0, 0, 0, 0, 0, 0, 0, 0, 0, 0, 0, 0, 0, 0, 0, 0, 0, 0, 0, 0, 0, 0, 0, 0, 0, 0, 0, 0, 0, 0, 0, 0, 0, 0, 0, 0, 0, 0, 0, 0, 0, 0, 0, 0, 0, 0, 0, 0, 0, 0, 0, 0, 0, 0, 0, 0, 0, 0, 0, 0, 0, 0, 0, 0, 0, 0, 0, 0, 0, 0, 0, 0, 0, 0, 0, 0, 0, 0, 0, 0, 0, 0, 0, 0, 0, 0, 0, 0, 0, 0, 0, 0, 0, 0, 0, 0, 0, 0, 0, 0, 0, 0, 0, 0, 0, 0, 0, 0, 0, 0, 0, 0, 0, 0, 0, 0, 0, 0, 0, 0, 0, 0, 0, 0, 0, 0, 0, 0, 0, 0, 0, 0, 0, 0, 0, 0, 0, 0, 0, 0, 0, 0, 0, 0, 0, 0, 0, 0, 0, 0, 0, 0, 0, 0, 0, 0, 0, 0, 0, 0, 0, 0, 0, 0, 0, 0, 0, 0, 0, 0, 0, 0, 0, 0, 0, 0, 0, 0, 0, 0, 0, 0, 0, 0, 0, 0, 0, 0, 0, 0, 0, 0, 0, 0, 0, 0, 0, 0, 0, 0, 0, 0, 0, 0, 0, 0, 0, 0, 0, 0, 0, 0, 0, 0, 0, 0, 0, 0, 0, 0, 0, 0, 0, 0, 0, 0, 0, 0, 0, 0, 0, 0, 0, 0, 0, 0, 0, 0, 0, 0, 0, 0, 0, 0, 0, 0, 0, 0, 0, 0, 0, 0, 0, 0, 0, 0, 0, 0, 0, 0, 0, 0, 0, 0, 0, 0, 0, 0, 0, 0, 0, 0, 0, 0, 0, 0, 0, 0, 0, 0, 0, 0, 0, 0, 0, 0, 0, 0, 0, 0, 0, 0, 0, 0, 0, 0, 0, 0, 0, 0, 0, 0, 0, 0, 0, 0, 0, 0, 0, 0, 0, 0, 0, 0, 0, 0, 0, 0, 0, 0, 0, 0, 0, 0, 0, 0, 0, 0, 0, 1, 0, 0, 0, 0, 0, 0, 0, 0, 0, 0, 0, 0, 0, 0, 0, 0, 0, 0, 0, 0, 0, 0, 0, 0, 0, 0, 0, 0, 0, 0, 0, 0, 0, 0, 0, 0, 0, 0, 0, 0, 0, 0, 0, 0, 0, 0, 0, 0, 0, 0, 0, 0, 0, 0, 0, 0, 0, 0, 0, 0, 0, 0, 0, 0, 0, 0, 0, 0, 0, 0, 0, 0, 0, 0, 0, 0, 0, 0, 0, 0, 0, 0, 0, 0, 0, 0, 0, 0, 0, 0, 0, 0, 0, 0, 0, 0, 0, 0, 0, 0, 0, 0, 0, 0, 0, 0, 0, 0, 0, 0, 0, 0, 0, 0, 0, 0, 0, 0, 0, 0, 0, 0, 0, 0, 0, 0, 0, 0, 0, 0, 0, 0, 0, 0, 0, 0, 0, 0, 0, 0, 0, 0, 0, 0, 0, 0, 0, 0, 0, 0, 0, 0, 0, 0, 0, 0, 0, 0, 0, 0, 0, 0, 0, 0, 0, 0, 0, 0, 0, 0, 0, 0, 0, 0, 0, 0, 0, 0, 0, 0, 0, 0, 0, 0, 0, 0, 0, 0, 0, 0, 0, 0, 0, 0, 0, 0, 0, 0, 0, 0, 0, 0, 0, 0, 0, 0, 0, 0, 0, 0, 0, 0, 0, 0, 0, 0, 0, 0, 0, 0, 0, 0, 0, 0, 0, 0, 0, 0, 0, 0, 0, 0, 0, 0, 0, 0, 0, 0, 0, 0, 0, 0, 0, 0, 0, 0, 0, 0, 0, 0, 0, 0, 0, 0, 0, 0, 0, 0, 0, 0, 0, 0, 0, 0, 0, 0, 0, 0, 0, 0, 0, 0, 0, 0, 0, 0, 0, 0, 0, 0, 0, 0, 0, 0, 0, 0, 0, 0, 0, 0, 0, 0, 0, 0, 0, 0, 0, 0, 0, 0, 0, 0, 0, 0, 0, 0, 0, 0, 0, 0, 0, 0, 0, 0, 0, 0, 0, 0, 0, 0, 0, 0, 0, 0, 0, 0, 0, 0, 0, 0, 0, 0, 0, 0, 0, 0, 0, 0, 0, 0, 0, 0, 0, 0, 0, 0, 0, 0, 0, 0, 0, 0, 0, 0, 0, 0, 0, 0, 0, 0, 0, 0, 0, 0, 0, 0, 0, 0, 0, 0, 0, 0, 0, 0, 0, 0, 0, 0, 0, 0, 0, 0, 0, 0, 0, 0, 0, 0, 0, 0, 0, 0, 0, 0, 0, 0, 0, 0, 0, 0, 0, 0, 0, 0, 0, 0, 0, 0, 0, 0, 0, 0, 0, 0, 0, 0, 0, 0, 0, 0, 0, 0, 0, 0, 0, 0, 0, 0, 0, 0, 0, 0, 0, 0, 0, 0, 0, 0, 0, 0, 0, 0, 0, 0, 0, 0, 0, 0, 0, 0, 0, 0, 0, 0, 0, 0, 0, 0, 0, 0, 0, 0, 0, 0, 0, 0, 0, 0, 0, 0, 0, 0, 0, 0, 0, 0, 0, 0, 0, 0, 0, 0, 0, 0, 0, 0, 0, 0, 0, 0, 0, 0, 0, 0, 0, 0, 0, 0, 0, 0, 0, 0, 0, 0, 0, 0, 0, 0, 0, 0, 0, 0, 1, 0, 0, 0, 0, 0, 0, 0, 0, 0, 0, 0, 0, 0, 0, 0, 0, 0, 0, 0, 0, 0, 0, 0, 0, 0, 0, 0, 0, 0, 0, 0, 0, 0, 0, 0, 2, 0, 0, 0, 0, 0, 0, 0, 0, 0, 0, 0, 0, 0, 0, 0, 0, 0, 0, 0, 0, 0, 0, 0, 0, 0, 0, 0, 0, 0, 0, 0, 0, 0, 0, 0, 0, 0, 0, 0, 0, 1, 0, 0, 0, 0, 0, 0, 0, 0, 0, 0, 0, 0, 0, 0, 0, 0, 0, 0, 0, 0, 0, 0, 0, 0, 0, 0, 0, 0, 0, 0, 0, 0, 0, 0, 0, 0, 0, 0, 0, 0, 0, 0, 0, 0, 0, 0, 0, 0, 0, 0, 0, 0, 0, 0, 0, 0, 0, 0, 0, 0, 0, 0, 0, 0, 0, 0, 0, 0, 0, 0, 0, 0, 0, 0, 0, 0, 0, 0, 0, 0, 0, 0, 0, 0, 0, 0, 0, 0, 0, 0, 0, 0, 0, 0, 0, 0, 0, 0, 0, 0, 0, 0, 0, 0, 0, 0, 0, 0, 0, 0, 0, 0, 0, 0, 0, 0, 0, 0, 0, 0, 0, 0, 0, 0, 0, 0, 0, 0, 0, 0, 0, 0, 0, 0, 0, 0, 0, 0, 0, 0, 0, 0, 0, 0, 0, 0, 0, 0, 0, 0, 0, 0, 0, 0, 0, 0, 0, 0, 0, 0, 0, 0, 0, 0, 0, 0, 0, 0, 0, 0, 0, 0, 0, 0, 0, 0, 0, 0, 0, 0, 0, 0, 0, 0, 0, 0, 0, 0, 0, 0, 0, 0, 0, 0, 0, 0, 0, 0, 0, 0, 0, 0, 0, 0, 0, 0, 0, 0, 0, 0, 0, 0, 0, 0, 0, 0, 0, 0, 0, 0, 0, 0, 0, 0, 0, 0, 0, 0, 0, 0, 0, 0, 0, 0, 0, 0, 0, 0, 0, 0, 0, 0, 0, 0, 0, 0, 0, 0, 0, 0, 0, 0, 0, 0, 0, 0, 0, 0, 0, 0, 0, 0, 0, 0, 0, 0, 0, 0, 0, 0, 0, 0, 0, 0, 0, 0, 0, 0, 0, 0, 0, 0, 0, 0, 0, 0, 0, 0, 0, 0, 0, 0, 0, 0, 0, 0, 0, 0, 0, 0, 0, 0, 0, 0, 0, 0, 0, 0, 0, 0, 0, 0, 0, 0, 0, 0, 0, 0, 0, 0, 0, 0, 0, 0, 0, 0, 0, 0, 0, 0, 0, 0, 0, 0, 0, 0, 0, 0, 0, 0, 0, 0, 0, 0, 0, 0, 0, 0, 0, 0, 0, 0, 0, 0, 0, 0, 0, 0, 0, 0, 0, 0, 0, 0, 0, 0, 0, 0, 0, 0, 0, 0, 0, 0, 0, 0, 0, 0, 0, 0, 0, 0, 0, 0, 0, 0, 0, 0, 0, 0, 0, 0, 0, 0, 0, 0, 0, 0, 0, 0, 0, 0, 0, 0, 0, 0, 0, 0, 0, 0, 0, 0, 0, 0, 0, 0, 0, 0, 0, 0, 0, 0, 0, 0, 0, 0, 0, 0, 0, 0, 0, 0, 0, 0, 0, 0, 0, 0, 0, 0, 0, 0, 0, 0, 0, 0, 0, 0, 0, 0, 0, 0, 0, 0, 0, 0, 0, 0, 0, 0, 0, 0, 0, 0, 0, 0, 0, 0, 0, 0, 0, 0, 0, 0, 0, 0, 0, 0, 0, 0, 0, 0, 0, 0, 0, 0, 0, 0, 0, 0, 0, 0, 0, 0, 0, 0, 0, 0, 0, 0, 1, 0, 0, 0, 0, 0, 0, 0, 0, 0, 0, 0, 0, 0, 0, 0, 0, 0, 0, 0, 0, 0, 0, 0, 0, 0, 0, 0, 0, 0, 0, 0, 0, 0, 0, 0, 0, 0, 0, 0, 0, 0, 0, 0, 0, 0, 0, 0, 0, 0, 0, 0, 0, 0, 0, 0, 0, 0, 0, 0, 0, 0, 0, 0, 0, 0, 0, 0, 0, 0, 0, 0, 0, 0, 0, 0, 0, 0, 0, 0, 0, 0, 0, 0, 0, 0, 0, 0, 0, 0, 0, 0, 0, 0, 0, 0, 0, 0, 0, 0, 0, 0, 0, 0, 0, 0, 0, 0, 0, 0, 0, 2, 0, 0, 0, 0, 0, 0, 0, 0, 0, 0, 0, 0, 0, 0, 0, 0, 0, 0, 0, 0, 0, 0, 0, 0, 0, 0, 0, 0, 0, 0, 0, 0, 0, 0, 0, 0, 0, 0, 0, 0, 0, 0, 0, 0, 0, 0, 0, 0, 0, 0, 0, 0, 0, 0, 0, 0, 0, 0, 0, 0, 0, 0, 0, 0, 0, 0, 0, 0, 0, 0, 0, 0, 0, 0, 0, 0, 0, 0, 0, 0, 0, 0, 0, 0, 0, 0, 0, 0, 0, 0, 0, 0, 0, 0, 0, 0, 0, 0, 0, 0, 0, 0, 0, 0, 0, 0, 0, 0, 0, 0, 0, 0, 0, 0, 0, 0, 0, 0, 0, 0, 0, 0, 0, 0, 0, 0, 0, 0, 0, 0, 0, 0, 0, 0, 0, 0, 0, 0, 0, 0, 0, 0, 0, 0, 0, 0, 0, 0, 0, 0, 0, 0, 0, 0, 0, 0, 0, 0, 0, 0, 0, 0, 0, 0, 0, 0, 0, 0, 0, 0, 0, 0, 0, 0, 0, 0, 0, 0, 0, 0, 0, 0, 0, 0, 0, 0, 0, 0, 0, 0, 0, 0, 0, 0, 0, 0, 0, 0, 0, 0, 0, 0, 0, 0, 0, 0, 0, 0, 0, 0, 0, 0, 0, 0, 0, 0, 0, 0, 0, 0, 0, 0, 0, 0, 0, 0, 0, 0, 0, 0, 0, 0, 0, 0, 0, 0, 0, 0, 0, 0, 0, 0, 0, 0, 0, 0, 0, 0, 0, 0, 0, 0, 0, 0, 0, 0, 0, 0, 0, 0, 0, 0, 0, 0, 0, 0, 0, 0, 0, 0, 0, 0, 0, 0, 0, 0, 0, 0, 0, 0, 0, 0, 0, 0, 0, 0, 0, 0, 0, 0, 0, 0, 0, 0, 0, 0, 0, 0, 0, 0, 0, 0, 0, 0, 0, 0, 0, 0, 0, 0, 0, 0, 0, 0, 0, 0, 0, 0, 0, 0, 0, 0, 0, 0, 0, 0, 0, 0, 0, 0, 0, 0, 0, 0, 0, 0, 0, 0, 0, 0, 0, 0, 0, 0, 0, 0, 0, 0, 0, 0, 0, 0, 0, 0, 0, 0, 0, 0, 0, 0, 0, 0, 0, 0, 0, 0, 0, 0, 0, 0, 0, 0, 0, 0, 0, 0, 0, 0, 0, 0, 0, 0, 0, 0, 0, 0, 0, 0, 0, 0, 0, 0, 0, 0, 0, 0, 0, 0, 0, 0, 0, 0, 0, 0, 0, 0, 0, 0, 0, 0, 0, 0, 0, 0, 0, 0, 0, 0, 0, 0, 0, 0, 0, 0, 0, 0, 0, 0, 0, 0, 0, 0, 0, 0, 0, 0, 0, 0, 0, 0, 0, 0, 0, 0, 0, 0, 0, 0, 0, 0, 0, 0, 0, 0, 0, 0, 0, 0, 0, 0, 0, 0, 0, 0, 0, 0, 0, 0, 0, 0, 0, 0, 0, 0, 0, 0, 0, 0, 0, 0, 0, 0, 0, 0, 0, 0, 0, 0, 0, 0, 0, 0, 0, 0, 0, 0, 0, 0, 0, 0, 0, 0, 0, 0, 0, 0, 0, 0, 0, 0, 0, 0, 0, 0, 0, 0, 0, 0, 0, 0, 0, 0, 0, 0, 0, 0, 0, 0, 0, 0, 0, 0, 0, 0, 0, 0, 0, 0, 0, 0, 0, 0, 0, 0, 0, 0, 0, 0, 0, 0, 0, 0, 0, 0, 0, 0, 0, 0, 0, 0, 0, 0, 0, 0, 0, 0, 0, 0, 0, 0, 0, 0, 0, 0, 0, 0, 0, 0, 0, 0, 0, 0, 0, 0, 0, 0, 0, 0, 0, 0, 0, 0, 0, 0, 0, 0, 0, 0, 0, 0, 0, 0, 0, 0, 0, 0, 0, 0, 0, 0, 0, 0, 0, 0, 0, 0, 0, 0, 0, 0, 0, 0, 0, 0, 0, 0, 0, 0, 0, 0, 0, 0, 0, 0, 0, 0, 0, 0, 0, 0, 0, 0, 0, 0, 0, 0, 0, 0, 0, 0, 0, 0, 0, 0, 0, 0, 0, 0, 0, 0, 0, 0, 0, 0, 0, 0, 0, 0, 0, 0, 0, 0, 0, 0, 0, 0, 0, 0, 0, 0, 0, 0, 0, 0, 0, 0, 0, 0, 0, 1, 0, 0, 0, 0, 0, 0, 0, 0, 0, 0, 0, 0, 0, 0, 0, 0, 0, 0, 0, 0, 0, 0, 0, 0, 0, 0, 0, 0, 0, 0, 0, 0, 0, 0, 0, 0, 0, 0, 0, 0, 0, 0, 0, 0, 0, 0, 0, 0, 0, 0, 0, 0, 0, 0, 0, 0, 0, 0, 0, 0, 0, 0, 0, 0, 0, 0, 0, 0, 0, 0, 0, 0, 0, 0, 0, 0, 0, 0, 0, 0, 0, 0, 0, 0, 0, 0, 0, 0, 0, 0, 0, 0, 0, 0, 0, 0, 0, 0, 0, 0, 0, 0, 0, 0, 0, 0, 0, 1, 0, 0, 0, 0, 0, 0, 0, 0, 0, 0, 0, 0, 0, 0, 0, 0, 0, 0, 0, 0, 0, 0, 0, 0, 0, 0, 0, 0, 0, 0, 0, 0, 0, 0, 0, 0, 0, 0, 0, 0, 0, 0, 0, 0, 0, 0, 0, 0, 0, 0, 0, 0, 0, 0, 0, 0, 0, 0, 0, 0, 0, 0, 0, 0, 0, 0, 0, 0, 0, 0, 0, 0, 0, 0, 0, 0, 0, 0, 0, 0, 0, 0, 0, 0, 0, 0, 0, 0, 0, 0, 0, 0, 0, 0, 0, 0, 0, 0, 0, 0, 0, 0, 0, 0, 0, 0, 0, 0, 0, 0, 0, 0, 0, 0, 0, 0, 0, 0, 0, 0, 0, 0, 0, 0, 0, 0, 0, 0, 0, 0, 0, 0, 0, 0, 0, 0, 0, 0, 0, 0, 0, 0, 0, 0, 0, 0, 0, 0, 0, 0, 0, 0, 0, 0, 0, 0, 0, 0, 0, 0, 0, 0, 0, 0, 0, 0, 0, 0, 0, 0, 0, 0, 0, 0, 0, 0, 0, 0, 0, 0, 0, 0, 0, 0, 0, 0, 0, 0, 0, 0, 0, 0, 0, 0, 0, 0, 0, 0, 0, 0, 0, 0, 0, 0, 0, 0, 0, 0, 0, 0, 0, 0, 0, 0, 0, 0, 0, 0, 0, 0, 0, 0, 0, 0, 0, 0, 0, 0, 0, 0, 0, 0, 0, 0, 0, 0, 0, 0, 0, 0, 0, 0, 0, 0, 0, 0, 0, 0, 0, 0, 0, 0, 0, 0, 0, 0, 0, 0, 0, 0, 0, 0, 0, 0, 0, 0, 0, 0, 0, 0, 0, 0, 0, 0, 0, 0, 0, 0, 0, 0, 0, 0, 0, 0, 0, 0, 0, 0, 0, 0, 0, 0, 0, 0, 0, 0, 0, 0, 0, 0, 0, 0, 0, 0, 0, 0, 0, 0, 0, 0, 0, 0, 0, 0, 0, 0, 0, 0, 0, 0, 0, 0, 0, 0, 0, 0, 0, 0, 0, 0, 0, 0, 0, 0, 0, 0, 0, 0, 0, 0, 0, 0, 0, 0, 0, 0, 0, 0, 0, 0, 0, 0, 0, 0, 0, 0, 0, 0, 0, 0, 0, 0, 0, 0, 0, 0, 0, 0, 0, 0, 0, 0, 0, 0, 0, 0, 0, 0, 0, 0, 0, 0, 0, 0, 0, 0, 0, 0, 0, 0, 0, 0, 0, 0, 0, 0, 0, 0, 0, 0, 0, 0, 0, 0, 0, 0, 0, 0, 0, 0, 0, 0, 0, 0, 0, 0, 0, 0, 0, 0, 0, 0, 0, 0, 0, 0, 0, 0, 0, 0, 0, 0, 0, 0, 0, 0, 0, 0, 0, 0, 0, 0, 0, 0, 0, 0, 0, 0, 0, 0, 0, 0, 0, 0, 0, 0, 0, 0, 0, 0, 0, 0, 2, 0, 1, 0], type: <class 'list'>, valid types: <class 'bytes'>, <class 'bytearray'>, file-like object"
     ]
    }
   ],
   "source": [
    "response = runtime.invoke_endpoint(EndpointName = xgb_predictor.endpoint, # The name of the endpoint we created\n",
    "                                       ContentType = 'text/csv',                     # The data format that is expected\n",
    "                                       Body = test_bow)"
   ]
  },
  {
   "cell_type": "markdown",
   "metadata": {},
   "source": [
    "So why did we get an error?\n",
    "\n",
    "Because we tried to send the endpoint a list of integers but it expected us to send data of type `text/csv`. So, we need to convert it."
   ]
  },
  {
   "cell_type": "code",
   "execution_count": 46,
   "metadata": {},
   "outputs": [],
   "source": [
    "response = runtime.invoke_endpoint(EndpointName = xgb_predictor.endpoint, # The name of the endpoint we created\n",
    "                                       ContentType = 'text/csv',                     # The data format that is expected\n",
    "                                       Body = ','.join([str(val) for val in test_bow]).encode('utf-8'))"
   ]
  },
  {
   "cell_type": "code",
   "execution_count": 47,
   "metadata": {},
   "outputs": [
    {
     "name": "stdout",
     "output_type": "stream",
     "text": [
      "{'ResponseMetadata': {'RequestId': '8a2e3b4e-c8f2-462a-8c12-6f72a73593e2', 'HTTPStatusCode': 200, 'HTTPHeaders': {'x-amzn-requestid': '8a2e3b4e-c8f2-462a-8c12-6f72a73593e2', 'x-amzn-invoked-production-variant': 'AllTraffic', 'date': 'Sun, 13 Sep 2020 19:13:24 GMT', 'content-type': 'text/csv; charset=utf-8', 'content-length': '14'}, 'RetryAttempts': 0}, 'ContentType': 'text/csv; charset=utf-8', 'InvokedProductionVariant': 'AllTraffic', 'Body': <botocore.response.StreamingBody object at 0x7f650d76e6a0>}\n"
     ]
    }
   ],
   "source": [
    "print(response)"
   ]
  },
  {
   "cell_type": "markdown",
   "metadata": {},
   "source": [
    "As we can see, the response from our model is a somewhat complicated looking dict that contains a bunch of information. The bit that we are most interested in is `'Body'` object which is a streaming object that we need to `read` in order to make use of."
   ]
  },
  {
   "cell_type": "code",
   "execution_count": 48,
   "metadata": {},
   "outputs": [
    {
     "name": "stdout",
     "output_type": "stream",
     "text": [
      "0.487506598234\n"
     ]
    }
   ],
   "source": [
    "response = response['Body'].read().decode('utf-8')\n",
    "print(response)"
   ]
  },
  {
   "cell_type": "markdown",
   "metadata": {},
   "source": [
    "Now that we know how to process the incoming user data we can start setting up the infrastructure to make our simple web app work. To do this we will make use of two different services. Amazon's Lambda and API Gateway services.\n",
    "\n",
    "Lambda is a service which allows someone to write some relatively simple code and have it executed whenever a chosen trigger occurs. For example, you may want to update a database whenever new data is uploaded to a folder stored on S3.\n",
    "\n",
    "API Gateway is a service that allows you to create HTTP endpoints (url addresses) which are connected to other AWS services. One of the benefits to this is that you get to decide what credentials, if any, are required to access these endpoints.\n",
    "\n",
    "In our case we are going to set up an HTTP endpoint through API Gateway which is open to the public. Then, whenever anyone sends data to our public endpoint we will trigger a Lambda function which will send the input (in our case a review) to our model's endpoint and then return the result."
   ]
  },
  {
   "cell_type": "markdown",
   "metadata": {},
   "source": [
    "### Setting up a Lambda function\n",
    "\n",
    "The first thing we are going to do is set up a Lambda function. This Lambda function will be executed whenever our public API has data sent to it. When it is executed it will receive the data, perform any sort of processing that is required, send the data (the review) to the SageMaker endpoint we've created and then return the result.\n",
    "\n",
    "#### Part A: Create an IAM Role for the Lambda function\n",
    "\n",
    "Since we want the Lambda function to call a SageMaker endpoint, we need to make sure that it has permission to do so. To do this, we will construct a role that we can later give the Lambda function.\n",
    "\n",
    "Using the AWS Console, navigate to the **IAM** page and click on **Roles**. Then, click on **Create role**. Make sure that the **AWS service** is the type of trusted entity selected and choose **Lambda** as the service that will use this role, then click **Next: Permissions**.\n",
    "\n",
    "In the search box type `sagemaker` and select the check box next to the **AmazonSageMakerFullAccess** policy. Then, click on **Next: Review**.\n",
    "\n",
    "Lastly, give this role a name. Make sure you use a name that you will remember later on, for example `LambdaSageMakerRole`. Then, click on **Create role**."
   ]
  },
  {
   "cell_type": "markdown",
   "metadata": {},
   "source": [
    "#### Part B: Create a Lambda function\n",
    "\n",
    "Now it is time to actually create the Lambda function. Remember from earlier that in order to process the user provided input and send it to our endpoint we need to gather two pieces of information:\n",
    "\n",
    " - The name of the endpoint, and\n",
    " - the vocabulary object.\n",
    "\n",
    "We will copy these pieces of information to our Lambda function after we create it.\n",
    "\n",
    "To start, using the AWS Console, navigate to the AWS Lambda page and click on **Create a function**. When you get to the next page, make sure that **Author from scratch** is selected. Now, name your Lambda function, using a name that you will remember later on, for example `sentiment_analysis_xgboost_func`. Make sure that the **Python 3.6** runtime is selected and then choose the role that you created in the previous part. Then, click on **Create Function**.\n",
    "\n",
    "On the next page you will see some information about the Lambda function you've just created. If you scroll down you should see an editor in which you can write the code that will be executed when your Lambda function is triggered. Collecting the code we wrote above to process a single review and adding it to the provided example `lambda_handler` we arrive at the following.\n",
    "\n",
    "```python\n",
    "# We need to use the low-level library to interact with SageMaker since the SageMaker API\n",
    "# is not available natively through Lambda.\n",
    "import boto3\n",
    "\n",
    "# And we need the regular expression library to do some of the data processing\n",
    "import re\n",
    "\n",
    "REPLACE_NO_SPACE = re.compile(\"(\\.)|(\\;)|(\\:)|(\\!)|(\\')|(\\?)|(\\,)|(\\\")|(\\()|(\\))|(\\[)|(\\])\")\n",
    "REPLACE_WITH_SPACE = re.compile(\"(<br\\s*/><br\\s*/>)|(\\-)|(\\/)\")\n",
    "\n",
    "def review_to_words(review):\n",
    "    words = REPLACE_NO_SPACE.sub(\"\", review.lower())\n",
    "    words = REPLACE_WITH_SPACE.sub(\" \", words)\n",
    "    return words\n",
    "    \n",
    "def bow_encoding(words, vocabulary):\n",
    "    bow = [0] * len(vocabulary) # Start by setting the count for each word in the vocabulary to zero.\n",
    "    for word in words.split():  # For each word in the string\n",
    "        if word in vocabulary:  # If the word is one that occurs in the vocabulary, increase its count.\n",
    "            bow[vocabulary[word]] += 1\n",
    "    return bow\n",
    "\n",
    "\n",
    "def lambda_handler(event, context):\n",
    "    \n",
    "    vocab = \"*** ACTUAL VOCABULARY GOES HERE ***\"\n",
    "    \n",
    "    words = review_to_words(event['body'])\n",
    "    bow = bow_encoding(words, vocab)\n",
    "\n",
    "    # The SageMaker runtime is what allows us to invoke the endpoint that we've created.\n",
    "    runtime = boto3.Session().client('sagemaker-runtime')\n",
    "\n",
    "    # Now we use the SageMaker runtime to invoke our endpoint, sending the review we were given\n",
    "    response = runtime.invoke_endpoint(EndpointName = '***ENDPOINT NAME HERE***',# The name of the endpoint we created\n",
    "                                       ContentType = 'text/csv',                 # The data format that is expected\n",
    "                                       Body = ','.join([str(val) for val in bow]).encode('utf-8')) # The actual review\n",
    "\n",
    "    # The response is an HTTP response whose body contains the result of our inference\n",
    "    result = response['Body'].read().decode('utf-8')\n",
    "    \n",
    "    # Round the result so that our web app only gets '1' or '0' as a response.\n",
    "    result = round(float(result))\n",
    "\n",
    "    return {\n",
    "        'statusCode' : 200,\n",
    "        'headers' : { 'Content-Type' : 'text/plain', 'Access-Control-Allow-Origin' : '*' },\n",
    "        'body' : str(result)\n",
    "    }\n",
    "```"
   ]
  },
  {
   "cell_type": "markdown",
   "metadata": {},
   "source": [
    "Once you have copy and pasted the code above into the Lambda code editor, replace the `**ENDPOINT NAME HERE**` portion with the name of the endpoint that we deployed earlier. You can determine the name of the endpoint using the code cell below."
   ]
  },
  {
   "cell_type": "code",
   "execution_count": 49,
   "metadata": {},
   "outputs": [
    {
     "data": {
      "text/plain": [
       "'xgboost-2020-09-13-18-50-06-638'"
      ]
     },
     "execution_count": 49,
     "metadata": {},
     "output_type": "execute_result"
    }
   ],
   "source": [
    "xgb_predictor.endpoint"
   ]
  },
  {
   "cell_type": "markdown",
   "metadata": {},
   "source": [
    "In addition, you will need to copy the vocabulary dict to the appropriate place in the code at the beginning of the `lambda_handler` method. The cell below prints out the vocabulary dict in a way that is easy to copy and paste."
   ]
  },
  {
   "cell_type": "code",
   "execution_count": 50,
   "metadata": {},
   "outputs": [
    {
     "name": "stdout",
     "output_type": "stream",
     "text": [
      "{'there': 4439, 'are': 284, 'no': 3019, 'people': 3222, 'like': 2598, 'show': 3954, 'davies': 1125, 'as': 310, 'and': 226, 'william': 4887, 'billy': 481, 'my': 2950, 'introduction': 2338, 'to': 4508, 'ms': 2930, 'was': 4804, 'clip': 851, 'from': 1839, 'this': 4458, 'film': 1715, 'the': 4427, 'one': 3106, 'in': 2256, 'which': 4866, 'she': 3924, 'reveal': 3672, 'different': 1246, 'emotions': 1460, 'mr': 2928, 'viewing': 4739, 'though': 4462, 'its': 2369, 'possible': 3351, 'ive': 2371, 'seen': 3866, 'him': 2109, 'less': 2574, 'memorable': 2801, 'role': 3728, 'makes': 2715, 'an': 223, 'incredible': 2268, 'impression': 2251, 'when': 4861, 'he': 2055, 'for': 1783, 'his': 2117, 'hat': 2044, 'into': 2331, 'ring': 3700, 'with': 4911, 'some': 4062, 'wonderful': 4928, 'bits': 490, 'at': 330, 'table': 4347, 'indeed': 2270, 'deliver': 1168, 'great': 1963, 'comic': 893, 'performances': 3230, 'story': 4208, 'starts': 4160, 'off': 3083, 'colonel': 876, 'driving': 1366, 'daughter': 1121, 'hollywood': 2136, 'certain': 737, 'will': 4886, 'become': 432, 'already': 197, 'arrived': 300, 'comedy': 890, 'stars': 4156, 'but': 636, 'true': 4595, 'drama': 1344, 'queen': 3486, 'leaves': 2555, 'up': 4682, 'dramatic': 1346, 'paul': 3215, 'audiences': 352, 'prefer': 3369, 'more': 2903, 'roles': 3729, 'perhaps': 3236, 'director': 1262, 'king': 2478, 'is': 2359, 'offering': 3088, 'case': 707, 'art': 303, 'life': 2591, 'full': 1845, 'of': 3082, 'location': 2634, 'footage': 1781, 'both': 547, 'on': 3104, 'set': 3899, 'cameos': 658, 'studio': 4241, 'sits': 4007, 'between': 474, 'douglas': 1332, 'hart': 2040, 'best': 468, 'bit': 488, 'player': 3299, 'however': 2182, 'charlie': 765, 'chaplin': 756, 'who': 4870, 'has': 2042, 'enough': 1490, 'ask': 315, 'her': 2084, 'while': 4867, 'fun': 1847, 'they': 4443, 'sequences': 3889, 'do': 1300, 'help': 2078, 'important': 2246, 'historical': 2118, '11': 2, 'first': 1735, 'saw': 3799, 'breaking': 570, 'glass': 1916, 'it': 2365, 'released': 3605, 'england': 1481, 'loved': 2669, 'then': 4437, 'having': 2053, 'just': 2436, 'caught': 722, '2005': 35, 'canadian': 667, 'station': 4165, 'still': 4189, 'only': 3109, 'thing': 4451, 'regret': 3593, 'cant': 671, 'find': 1725, 'sound': 4082, 'track': 4545, 'or': 3123, 'dvd': 1389, 'care': 684, 'shed': 3925, 'light': 2594, 'must': 2949, 'order': 3125, 'over': 3148, 'internet': 2326, 'company': 910, 'getting': 1900, 'back': 377, 'music': 2945, 'stands': 4148, 'test': 4417, 'time': 4496, 'kate': 2445, 'had': 2002, 'something': 4067, 'say': 3800, 'about': 67, '80s': 59, 'same': 3779, 'decade': 1144, 'moved': 2921, 'canada': 666, 'reasons': 3562, 'being': 447, 'what': 4857, 'doing': 1310, 'country': 1014, 'please': 3305, 'if': 2221, 'you': 4986, 'get': 1898, 'chance': 747, 'watch': 4810, 'movie': 2925, 'wont': 4932, 'be': 417, 'sorry': 4077, 'their': 4432, 'right': 3698, 'mind': 2848, 'plays': 3302, 'song': 4072, 'portraying': 3344, 'emotional': 1458, 'scene': 3810, 'two': 4619, 'wife': 4884, 'dressing': 1357, 'room': 3737, 'content': 966, 'loud': 2663, 'dialog': 1230, 'so': 4047, 'can': 665, 'hear': 2060, 'neither': 2995, 'any': 255, 'impact': 2243, 'may': 2774, 'have': 2051, 'scenes': 3812, 'beaten': 423, 'by': 642, 'father': 1665, 'absurd': 73, 'entire': 1501, 'cartoon': 704, 'against': 147, 'literally': 2621, 'discussion': 1282, 'black': 493, 'women': 4923, 'after': 143, 'finds': 1727, 'out': 3141, 'cheated': 775, 'white': 4869, 'woman': 4921, 'were': 4847, 'team': 4379, 'ridiculous': 3695, 'racism': 3503, 'might': 2834, 'endure': 1474, 'soundtrack': 4086, 'during': 1385, 'too': 4523, 'much': 2933, 'technically': 4383, 'poorly': 3330, 'made': 2696, 'understanding': 4644, 'basic': 405, 'craft': 1028, 'making': 2717, 'editing': 1420, 'desperate': 1206, 'attempt': 339, 'actors': 104, 'trying': 4600, 'keep': 2448, 'actually': 109, 'felt': 1691, 'anthony': 252, 'wondering': 4930, 'why': 4878, 'accepted': 82, 'flick': 1753, 'appearance': 273, 'painful': 3171, 'last': 2520, 'days': 1130, 'glory': 1921, 'utter': 4700, 'rubbish': 3749, 'acting': 99, 'awful': 371, 'far': 1652, 'not': 3039, 'always': 203, 'would': 4957, 'field': 1703, 'day': 1129, 'does': 1306, 'few': 1699, 'good': 1936, 'moments': 2886, 'interest': 2322, 'because': 431, 'long': 2643, 'rating': 3531, 'lowest': 2677, 'score': 3823, 'star': 4151, 'thats': 4426, 'shame': 3919, 'really': 3558, 'im': 2231, 'going': 1930, 'imdb': 2239, 'zero': 4996, 'give': 1911, 'even': 1532, 'single': 3997, 'giving': 1914, 'way': 4819, 'am': 204, 'noticed': 3048, 'head': 2056, 'should': 3952, 'lack': 2501, 'apparently': 269, 'talent': 4355, 'wasnt': 4806, 'factor': 1621, 'casting': 711, 'came': 656, 'town': 4542, 'little': 2623, 'sisters': 4003, 'school': 3814, 'provides': 3451, 'greater': 1964, 'range': 3518, 'depth': 1188, 'emotion': 1457, 'those': 4461, 'fake': 1634, 'irish': 2352, 'accents': 79, 'board': 522, 'that': 4425, 'could': 1007, 'worse': 4951, 'wait': 4769, 'bad': 381, 'kinds': 2477, 'characters': 760, 'try': 4599, 'own': 3158, 'self': 3870, 'commit': 904, 'every': 1538, 'sin': 3989, 'telling': 4397, 'themselves': 4436, 'everyone': 1541, 'else': 1447, 'heroes': 2088, 'everyones': 1542, 'hope': 2154, 'than': 4421, 'other': 3135, 'unfortunately': 4653, 'shows': 3961, 'such': 4269, 'typical': 4622, 'genre': 1887, 'fiction': 1701, 'come': 886, 'top': 4526, 'again': 146, 'all': 187, 'excellent': 1554, 'camera': 659, 'work': 4940, 'lead': 2544, 'superb': 4297, 'see': 3856, 'wish': 4904, 'scenario': 3809, 'gratuitous': 1960, 'violence': 4746, 'rape': 3523, 'lies': 2590, 'hero': 2087, 'drags': 1343, 'down': 1333, 'failed': 1625, 'scheme': 3813, 'warner': 4798, 'character': 758, 'anyone': 258, 'support': 4304, 'crimes': 1056, 'looking': 2647, 'supporting': 4305, 'surviving': 4324, 'bring': 585, 'justice': 2437, 'your': 4991, 'ears': 1400, 'another': 249, 'cop': 991, 'wrong': 4973, 'hes': 2092, 'someone': 4065, 'gets': 1899, 'hurt': 2201, 'actions': 101, 'suspicious': 4333, 'regardless': 3592, 'fact': 1620, 'elaborate': 1438, 'doomed': 1325, 'plans': 3293, 'cause': 723, '24': 39, 'relies': 3608, 'drag': 1340, 'season': 3844, 'boring': 543, 'unbelievable': 4633, 'term': 4406, 'stories': 4206, 'storyline': 4209, 'provide': 3449, 'hang': 2021, 'bloody': 513, 'meat': 2786, 'corrupt': 1001, 'acts': 107, 'inevitable': 2281, 'cover': 1022, 'ups': 4685, 'most': 2908, 'disappointing': 1272, 'writers': 4969, 'change': 749, 'viewers': 4738, 'forth': 1803, 'away': 368, 'form': 1797, 'sometimes': 4068, 'want': 4787, 'us': 4689, 'enemy': 1476, 'poor': 3329, 'soul': 4080, 'dangerous': 1110, 'sexual': 3909, 'guy': 1999, 'heart': 2063, 'gold': 1931, 'low': 2675, 'think': 4453, 'sitting': 4008, 'talking': 4361, 'dreams': 1353, 'we': 4822, 'sympathetic': 4343, 'tragic': 4552, 'none': 3027, 'adequate': 120, 'once': 3105, 'theyve': 4447, 'shown': 3960, 'these': 4442, 'ruin': 3751, 'peoples': 3223, 'lives': 2627, 'ends': 1473, 'nonsense': 3029, 'also': 199, 'produce': 3414, 'seven': 3904, 'seasons': 3845, 'bumbling': 622, 'drawing': 1348, 'super': 4296, 'model': 2879, 'existence': 1570, 'running': 3757, 'crime': 1055, 'police': 3323, 'under': 4638, 'pure': 3472, 'reality': 3553, 'beautiful': 427, 'amazing': 209, 'represented': 3640, 'spain': 4092, '2002': 32, 'compared': 912, 'shouldnt': 3953, 'problem': 3409, 'where': 4863, 'start': 4157, 'been': 437, 'dark': 1115, 'me': 2777, 'free': 1826, 'buck': 605, 'spare': 4094, 'price': 3390, 'paid': 3169, 'got': 1943, 'meant': 2783, 'thriller': 4473, 'thrill': 4472, 'watching': 4814, 'lousy': 2666, 'rendition': 3627, 'anne': 245, 'misery': 2864, 'area': 285, 'laugh': 2528, 'friday': 1833, 'night': 3012, 'friends': 1836, 'highly': 2104, 'recommend': 3573, 'least': 2553, 'half': 2006, 'decent': 1146, 'dont': 1322, 'bother': 548, 'enjoy': 1483, 'crappy': 1032, 'films': 1720, 'better': 471, 'cases': 708, 'wow': 4962, 'person': 3239, 'didnt': 1240, 'boy': 557, 'played': 3298, 'vincent': 4745, 'reason': 3559, 'gave': 1874, 'brilliant': 583, 'actor': 103, 'al': 170, 'pacino': 3164, 'completely': 922, 'revolution': 3682, 'method': 2823, 'approach': 281, 'totally': 4533, 'ill': 2227, 'suited': 4287, 'american': 213, 'war': 4791, 'blame': 499, 'hugh': 2185, 'hudson': 2183, 'yes': 4982, 'man': 2720, 'fire': 1733, 'couple': 1016, 'years': 4979, 'earlier': 1397, 'talk': 4359, 'many': 2731, 'jobs': 2405, 'believable': 452, 'them': 4433, 'allowed': 190, 'run': 3756, 'without': 4913, 'asking': 317, 'kind': 2475, 'career': 686, 'performance': 3229, 'numerous': 3061, 'flaws': 1751, 'said': 3775, 'later': 2524, 'tom': 4515, 'north': 3035, 'eastern': 1406, 'america': 212, 'son': 4071, 'ned': 2985, 'sid': 3965, 'leads': 2547, 'simple': 3984, 'living': 2628, 'land': 2510, 'raising': 3510, 'elements': 1442, 'english': 1482, 'eight': 1435, 'year': 4978, 'period': 3237, 'takes': 4352, 'place': 3283, 'british': 589, 'independent': 2271, 'nation': 2968, 'born': 544, 'events': 1535, 'boat': 523, 'army': 294, 'barely': 398, 'understand': 4642, 'fighting': 1708, 'freedom': 1827, 'falls': 1639, 'love': 2668, 'forbidden': 1784, 'larger': 2518, 'context': 968, 'key': 2457, 'miscast': 2861, 'donald': 1319, 'sutherland': 4334, 'lost': 2659, 'ruthless': 3765, 'soldier': 4054, 'accent': 78, 'robert': 3715, 'script': 3835, 'attempts': 342, 'massive': 2755, 'personal': 3241, 'level': 2583, 'point': 3317, 'seem': 3862, 'decided': 1148, 'whether': 4865, 'intimate': 2330, 'study': 4243, 'backdrop': 378, 'epic': 1505, 'handful': 2016, 'drawn': 1349, 'used': 4692, 'carry': 700, 'along': 195, 'result': 3662, 'narrative': 2965, 'mans': 2729, 'grand': 1952, 'small': 4034, 'john': 2408, 'quite': 3496, 'proceedings': 3411, 'thought': 4463, 'nor': 3031, 'subtlety': 4262, 'direction': 1259, 'clumsy': 866, 'throughout': 4479, 'decision': 1150, 'use': 4691, 'action': 100, 'idea': 2212, 'hand': 2014, 'held': 2073, 'create': 1036, 'feeling': 1684, 'confusion': 943, 'battle': 413, 'things': 4452, 'doesnt': 1307, 'department': 1181, 'detail': 1215, 'costumes': 1006, 'sets': 3900, 'look': 2645, 'consistently': 954, 'accurate': 90, 'youre': 4992, 'interested': 2323, 'trip': 4587, 'museum': 2944, 'spend': 4106, 'cinematic': 818, 'experience': 1579, 'begin': 441, 'make': 2712, 'grade': 1950, 'nothing': 3046, 'bomb': 531, 'industry': 2279, 'afford': 138, 'mid': 2831, '1980s': 21, 'realizing': 3557, 'around': 296, 'news': 3004, 'our': 3139, 'whole': 4872, 'new': 3002, 'world': 4946, 'remembered': 3619, 'how': 2180, 'obsessed': 3068, 'week': 4836, 'started': 4158, 'series': 3891, 'ago': 154, 'luck': 2680, 'till': 4494, 'moment': 2885, 'shocked': 3940, 'read': 3545, 'believe': 453, 'stopped': 4203, 'ahead': 159, 'hidden': 2095, 'message': 2818, 'terrifying': 4411, 'now': 3053, 'remember': 3618, 'episodes': 1507, 'dollar': 1312, 'eye': 1610, 'tape': 4366, 'morning': 2905, 'waiting': 4771, 'ironic': 2354, 'mostly': 2909, 'wanted': 4788, 'title': 4505, 'ended': 1469, 'through': 4478, 'hour': 2175, 'wonderfully': 4929, 'writing': 4971, 'whos': 4876, '50s': 52, 'parker': 3192, 'michael': 2828, 'miles': 2842, 'particularly': 3196, 'old': 3099, 'giant': 1904, 'mention': 2809, 'joan': 2403, 'players': 3300, 'charming': 768, 'charismatic': 763, 'science': 3817, 'well': 4842, 'classic': 835, 'ever': 1537, 'tries': 4584, 'remake': 3614, 'go': 1923, 'forward': 1807, '60s': 54, 'did': 1239, 'need': 2986, 'past': 3208, 'part': 3194, 'future': 1855, 'mix': 2875, 'gary': 1872, 'deserve': 1197, 'nominated': 3024, 'win': 4892, 'mini': 2853, 'times': 4498, 'thanks': 4424, 'mess': 2817, 'cast': 710, '1933': 12, 'dust': 1386, 'anyway': 260, 'village': 4742, 'bodies': 526, 'turning': 4607, 'local': 2633, 'vampires': 4711, 'each': 1393, 'body': 527, 'sheriff': 3930, 'whatever': 4858, 'awesome': 370, 'tell': 4396, 'mentions': 2812, 'dead': 1132, 'large': 2516, 'hole': 2131, 'side': 3966, 'holes': 2132, 'close': 853, 'together': 4512, 'simply': 3987, 'vampire': 4710, 'exist': 1568, 'human': 2187, 'killings': 2472, 'bothered': 549, 'either': 1437, 'spends': 4108, 'seemed': 3863, 'further': 1852, 'catching': 716, 'drinking': 1360, 'doctor': 1302, 'seemingly': 3864, 'solve': 4061, 'cardboard': 682, 'big': 477, 'names': 2962, 'pile': 3276, 'terrible': 4408, 'alternate': 200, 'blood': 512, 'dull': 1382, 'silly': 3977, 'high': 2099, 'offer': 3086, 'strange': 4212, 'deaths': 1142, 'special': 4098, 'effect': 1427, 'required': 3643, 'youll': 4988, 'let': 2578, 'bela': 449, 'lugosi': 2685, 'lot': 2660, 'pictures': 3271, 'interesting': 2324, 'feel': 1683, 'miserably': 2863, '1930s': 11, 'horror': 2167, 'put': 3481, 'string': 4228, 'solid': 4058, 'wwii': 4975, 'propaganda': 3436, 'pieces': 3274, 'flynn': 1764, 'hold': 2128, 'box': 555, 'office': 3090, 'spite': 4118, 'looks': 2648, 'name': 2959, 'adventures': 131, 'don': 1318, 'proved': 3447, 'budget': 610, 'starring': 4155, 'vehicle': 4717, 'rest': 3659, 'sword': 4341, 'spent': 4109, 'wandering': 4784, 'europe': 1528, 'kim': 2474, 'master': 2756, 'france': 1815, 'captain': 674, 'italy': 2367, 'ways': 4821, 'albeit': 173, 'universal': 4664, 'picture': 3270, 'rather': 3530, 'brothers': 599, 'production': 3420, 'glorious': 1920, 'cinematography': 820, 'screen': 3830, 'here': 2085, 'older': 3100, 'shadow': 3913, 'former': 1799, 'red': 3578, 'headed': 2057, 'leading': 2546, 'lady': 2506, 'leader': 2545, 'deep': 1153, 'romance': 3734, 'wants': 4790, 'treated': 4572, 'typically': 4623, 'attacks': 338, 'childhood': 790, 'constant': 957, 'tv': 4609, 'movies': 2926, 'italian': 2366, 'channels': 754, 'know': 2488, 'very': 4722, 'cringe': 1059, 'today': 4509, 'generation': 1882, 'supposedly': 4308, 'believing': 456, 'trilogy': 4585, 'finest': 1729, 'brought': 600, 'example': 1552, 'nowadays': 3054, 'child': 789, 'indian': 2273, 'princess': 3398, 'alice': 182, 'towards': 4541, 'strike': 4225, 'awfully': 372, 'despite': 1209, 'clearly': 840, 'heights': 2072, 'sea': 3839, 'paced': 3162, 'reasonably': 3561, 'engaging': 1480, 'worth': 4953, 'success': 4266, 'modern': 2881, 'franchise': 1816, 'probably': 3408, 'studios': 4242, 'titles': 4507, 'release': 3604, 'matter': 2768, 'itself': 2370, 'gem': 1876, 'golden': 1933, 'age': 148, 'collection': 874, 'obscure': 3067, 'girl': 1908, 'de': 1131, 'jeff': 2389, 'value': 4708, 'money': 2887, 'mood': 2897, 'strikes': 4226, 'lay': 2541, 'hands': 2019, 'similar': 3979, 'edward': 1425, 'mentioned': 2810, 'episode': 1506, 'judging': 2424, 'book': 535, 'reading': 3546, 'pages': 3168, 'huge': 2184, 'fan': 1647, 'sci': 3816, 'fi': 1700, 'air': 164, 'end': 1467, 'move': 2920, 'liked': 2599, 'plan': 3288, 'raised': 3509, 'questions': 3490, 'disappointed': 1271, 'hoping': 2159, 'pleased': 3306, 'personally': 3244, 'found': 1810, 'exciting': 1562, 'space': 4091, 'battles': 414, 'explosions': 1596, 'effects': 1430, 'stuff': 4244, 'eric': 1513, 'until': 4679, 'next': 3006, '30': 42, 'minutes': 2858, 'finger': 1730, 'remote': 3624, 'premise': 3371, 'bin': 482, 'mildly': 2839, 'amusing': 221, 'painfully': 3172, 'bland': 500, 'joe': 2406, 'deal': 1135, 'park': 3191, 'offered': 3087, 'added': 116, 'presence': 3374, 'above': 68, 'beyond': 475, 'welcome': 4841, 'candy': 668, 'ultimately': 4627, 'obvious': 3070, 'shot': 3950, 'pace': 3161, 'slapstick': 4020, 'favourite': 1672, 'deals': 1137, 'guys': 2000, 'dream': 1352, 'save': 3795, 'cult': 1077, 'laughed': 2531, 'involving': 2348, 'particular': 3195, 'terribly': 4409, 'clichéd': 845, 'funny': 1851, 'rich': 3687, 'house': 2177, 'final': 1721, 'stage': 4140, 'play': 3297, 'makers': 2714, 'celluloid': 731, 'liners': 2610, 'expectations': 1575, 'degree': 1163, 'anything': 259, 'unless': 4668, 'stuck': 4238, 'coffee': 870, 'pick': 3266, 'bargain': 399, 'gerard': 1894, 'answer': 250, 'jungle': 2433, 'moral': 2901, 'relevant': 3606, 'feature': 1677, 'fine': 1728, 'notable': 3040, 'david': 1124, 'stanley': 4149, 'baker': 384, 'peter': 3248, 'assigned': 324, 'juvenile': 2440, 'catch': 714, 'kids': 2466, 'early': 1398, 'responsible': 3658, 'adults': 126, 'include': 2260, 'fred': 1824, 'brother': 598, 'sister': 4002, 'real': 3549, 'web': 4832, 'latest': 2525, 'violent': 4747, 'features': 1679, 'gun': 1995, 'unlikely': 4670, 'following': 1773, 'lived': 2625, 'fond': 1775, 'memories': 2802, 'recently': 3569, 'documentary': 1305, 'includes': 2262, 'uk': 4625, 'henry': 2083, 'keeping': 2449, 'memory': 2803, 'alive': 186, 'portrayed': 3343, 'helped': 2079, 'seek': 3859, 'oh': 3095, 'glad': 1915, 'cinema': 816, 'fantasy': 1651, 'etc': 1526, 'meaningless': 2781, 'figure': 1710, 'purpose': 3475, 'creating': 1039, 'absolutely': 72, 'senseless': 3879, 'taken': 4351, 'second': 3847, 'store': 4205, 'generally': 1880, 'definitely': 1161, 'favorite': 1670, 'supposed': 4307, 'plot': 3310, 'exercise': 1567, 'visual': 4756, 'cut': 1089, 'happens': 2028, 'leaving': 2556, 'visuals': 4758, 'easier': 1403, 'cgi': 740, 'hills': 2108, 'eyes': 1612, 'instead': 2306, 'shocking': 3941, 'although': 201, 'sure': 4309, 'porn': 3337, 'tried': 4583, 'marry': 2744, 'since': 3991, 'suck': 4270, 'wouldnt': 4958, 'able': 66, 'pull': 3462, 'disturbing': 1298, 'actresses': 106, 'everything': 1543, 'overall': 3150, 'sucks': 4272, 'thinking': 4454, 'aspect': 320, 'especially': 1519, '17': 9, 'ability': 65, 'tame': 4364, 'sucked': 4271, 'death': 1141, 'accident': 84, 'forget': 1792, 'stand': 4144, 'crap': 1031, 'says': 3802, 'saying': 3801, 'mario': 2737, 'graphics': 1958, 'outrageous': 3145, 'uncomfortable': 4636, 'unlike': 4669, 'antics': 254, 'minimum': 2855, 'offensive': 3085, 'lines': 2611, 'dreadful': 1351, 'combination': 883, 'combined': 885, 'window': 4894, 'fails': 1627, 'higher': 2100, 'knows': 2492, 'guilty': 1994, 'turned': 4605, 'blatant': 502, 'showing': 3959, 'susan': 4327, 'outfit': 3144, 'path': 3210, 'triumph': 4589, 'evil': 1547, 'appreciate': 278, 'worst': 4952, 'taste': 4370, 'almost': 193, 'directed': 1257, 'happy': 2031, 'arthur': 304, 'johnson': 2410, 'leonard': 2571, 'discovers': 1279, 'lovers': 2672, 'decides': 1149, 'horrific': 2165, 'edgar': 1415, 'allen': 188, 'type': 4620, 'revenge': 3677, 'difficult': 1247, 'quiet': 3493, 'staged': 4141, 'okay': 3098, 'easy': 1408, 'follow': 1771, 'circumstances': 822, 'counter': 1011, 'culture': 1079, 'movement': 2922, 'late': 2522, '70s': 56, 'young': 4989, 'separate': 3884, 'slowly': 4033, 'los': 2652, 'angeles': 232, 'tired': 4502, 'endless': 1472, 'pseudo': 3455, 'revolutionary': 3683, 'take': 4350, 'job': 2404, 'directors': 1264, 'confused': 941, 'youth': 4994, 'mean': 2778, 'dress': 1355, 'march': 2733, 'fly': 1762, 'advance': 127, 'notice': 3047, 'arrival': 298, 'yourself': 4993, 'business': 633, 'group': 1979, 'piece': 3273, 'somewhat': 4069, 'surreal': 4318, 'blow': 514, 'presents': 3378, 'cultural': 1078, 'involved': 2345, 'needed': 2987, 'becomes': 433, 'powerful': 3361, 'frightening': 1838, 'planned': 3291, 'write': 4967, 'explaining': 1587, 'honestly': 2146, 'watched': 4812, 'three': 4470, 'usually': 4699, 'sign': 3971, 'stinker': 4192, 'incredibly': 2269, 'bored': 541, 'detective': 1218, 'wore': 4939, 'quick': 3491, 'act': 97, 'note': 3043, 'kill': 2467, 'handled': 2018, 'suspense': 4331, 'spot': 4132, 'killer': 2469, 'five': 1742, 'killers': 2470, 'identity': 2216, 'international': 2325, 'length': 2568, 'directorial': 1263, 'debut': 1143, 'veteran': 4723, 'dutch': 1387, 'actress': 105, 'van': 4712, 'based': 403, 'hate': 2045, 'implausible': 2244, 'picking': 3268, 'apart': 263, 'practically': 3363, 'immediately': 2241, 'begins': 443, 'photographer': 3260, 'girlfriend': 1909, 'works': 4945, 'aid': 160, 'drive': 1361, 'mountains': 2917, 'conversation': 980, 'rocket': 3723, 'stops': 4204, 'truck': 4594, 'front': 1840, 'machine': 2692, 'guns': 1997, 'bob': 524, 'taking': 4353, 'kills': 2473, 'throwing': 4481, 'distance': 1292, '50': 51, 'yet': 4984, 'somehow': 4064, 'blown': 516, 'wins': 4899, 'prize': 3406, 'photo': 3258, 'situation': 4009, 'opening': 3113, 'himself': 2110, 'national': 2969, 'resort': 3652, 'island': 2360, 'meets': 2794, 'drug': 1371, 'avoid': 362, '40': 48, '10': 0, 'challenging': 744, 'entertaining': 1498, 'sadly': 3770, 'quotes': 3498, 'ones': 3107, 'disappear': 1268, 'hide': 2096, 'criminal': 1057, 'subtitles': 4260, 'opinion': 3117, 'relationships': 3600, 'others': 3136, 'truth': 4598, 'knowing': 2489, 'experiences': 1581, 'common': 906, 'interpretation': 2327, 'mere': 2813, 'possibility': 3350, 'convincing': 985, 'manner': 2728, 'failure': 1628, 'men': 2804, 'overcome': 3151, 'before': 439, 'realistic': 3552, 'worthwhile': 4955, 'vs': 4766, 'zombies': 4998, 'disease': 1283, 'across': 96, 'teenage': 4390, 'listen': 2618, 'radio': 3505, 'isolated': 2362, 'escape': 1516, 'runs': 3758, 'assume': 327, 'zombie': 4997, 'slightly': 4030, 'road': 3711, 'julia': 2426, 'stevens': 4184, 'third': 4456, 'named': 2960, 'car': 680, 'bound': 553, 'agrees': 157, 'complete': 921, 'stranger': 4214, 'drives': 1365, 'seems': 3865, 'nice': 3007, 'turns': 4608, 'likes': 2601, 'bite': 489, 'turn': 4604, 'shes': 3931, 'continue': 969, 'travel': 4566, 'calls': 654, 'general': 1879, 'appears': 277, 'sort': 4078, 'hurts': 2202, 'co': 867, 'edited': 1419, 'executive': 1566, 'produced': 3415, 'written': 4972, 'therefore': 4440, 'le': 2543, 'sue': 4275, 'absolute': 71, 'logic': 2637, 'hell': 2076, 'slightest': 4029, 'whats': 4859, 'mental': 2807, 'ward': 4792, 'confusing': 942, 'unnecessary': 4671, 'viewer': 4737, 'blind': 506, 'sense': 3878, 'concept': 930, 'never': 3000, 'explained': 1586, 'properly': 3438, 'plus': 3312, 'positive': 3347, 'happen': 2025, 'called': 652, 'served': 3895, 'incompetent': 2265, 'badly': 382, 'redeeming': 3579, 'qualities': 3484, 'praise': 3365, 'gore': 1940, 'water': 4815, 'cheap': 774, 'climax': 849, 'fairly': 1630, 'gory': 1942, 'cars': 702, 'isnt': 2361, 'left': 2560, 'easily': 1404, 'main': 2706, 'page': 3167, 'went': 4846, 'straight': 4211, 'video': 4732, 'deserves': 1199, 'waste': 4807, 'extremely': 1609, 'screenplay': 3832, 'dialogues': 1233, 'means': 2782, 'initially': 2290, 'reviews': 3681, 'funnier': 1849, 'props': 3440, 'gag': 1860, 'minute': 2857, 'ben': 462, 'stiller': 4190, 'jack': 2372, 'christopher': 811, 'walken': 4776, 'blacks': 494, 'dog': 1308, 'product': 3419, 'ass': 322, 'id': 2211, 'lesser': 2575, 'upset': 4686, 'abc': 63, 'winner': 4897, 'actual': 108, 'original': 3128, 'spectacular': 4102, 'talented': 4356, 'cool': 989, 'share': 3921, 'steven': 4183, 'laura': 2535, 'honest': 2145, 'connected': 945, 'given': 1912, 'truly': 4596, 'showed': 3957, 'promise': 3431, 'join': 2411, 'worked': 4941, '13': 4, 'send': 3876, 'online': 3108, 'six': 4011, 'stupid': 4248, 'decisions': 1151, 'writer': 4968, 'amount': 219, 'exaggerated': 1551, 'pretty': 3385, 'style': 4250, 'filmed': 1716, 'slow': 4032, 'fast': 1660, 'uses': 4696, 'smooth': 4042, 'theres': 4441, 'tracks': 4546, 'dialogs': 1231, 'myself': 2952, 'enjoyed': 1485, 'consider': 949, 'adaptation': 113, 'jane': 2379, 'novel': 3051, 'problems': 3410, 'acted': 98, 'credits': 1050, 'ending': 1470, 'puts': 3482, 'worthy': 4956, 'paltrow': 3179, 'entirely': 1502, 'effort': 1431, 'perfect': 3225, 'emma': 1456, 'saved': 3796, 'centered': 733, 'terrific': 4410, 'comedic': 888, 'duo': 1384, 'pat': 3209, 'japan': 2380, 'secrets': 3853, 'thief': 4449, 'stolen': 4196, 'goes': 1929, 'united': 4663, 'states': 4164, 'jay': 2385, 'cross': 1066, 'meet': 2792, 'develop': 1220, 'cold': 872, 'city': 825, 'boss': 546, 'closing': 859, 'working': 4944, 'wear': 4829, 'extended': 1603, 'vacation': 4703, 'manage': 2721, 'rated': 3529, 'near': 2978, 'ages': 152, 'elderly': 1439, 'muslim': 2948, 'similarly': 3981, 'holy': 2139, 'dies': 1243, 'religious': 3610, 'religion': 3609, 'hed': 2071, 'non': 3026, 'device': 1225, 'often': 3094, 'upon': 4683, 'asked': 316, 'directions': 1260, 'points': 3320, 'word': 4937, 'map': 2732, 'speak': 4095, 'french': 1829, 'commentary': 899, 'occasional': 3073, 'humor': 2191, 'eating': 1411, 'fortunately': 1804, 'perform': 3228, 'eventually': 1536, 'equivalent': 1511, 'scale': 3803, 'bizarre': 492, 'fascinating': 1657, 'sophisticated': 4076, 'expected': 1576, 'dawn': 1127, 'freddy': 1825, 'jason': 2382, 'forgettable': 1793, 'ok': 3097, 'expect': 1574, 'cheesy': 781, 'done': 1320, 'tap': 4365, 'sad': 3768, 'bunch': 623, 'producers': 3417, 'artists': 308, 'comes': 891, 'gene': 1878, 'simmons': 3982, 'entertainment': 1499, 'toilet': 4513, 'routine': 3744, 'rocks': 3724, 'pain': 3170, 'hilarious': 2105, 'damon': 1101, 'errors': 1515, 'jokes': 2414, '70': 55, '20': 29, 'allows': 192, 'audience': 351, 'classics': 837, 'jim': 2401, 'carrey': 696, 'growing': 1982, 'laid': 2507, 'putting': 3483, 'category': 718, 'ellen': 1445, 'eddie': 1414, 'god': 1925, 'columbo': 881, 'murder': 2938, 'formula': 1801, 'falk': 1635, 'imagine': 2237, 'hitler': 2123, 'speech': 4103, 'nobody': 3021, 'followed': 1772, 'history': 2120, 'pity': 3282, 'believed': 454, 'ideas': 2214, 'loser': 2654, 'mixture': 2877, 'mtv': 2932, 'urban': 4687, 'persons': 3245, 'century': 736, '90': 60, 'wonder': 4926, 'heavy': 2069, 'psychiatrist': 3456, 'keaton': 2447, 'claims': 830, 'cure': 1081, 'accidentally': 85, 'escapes': 1518, 'chased': 770, 'cute': 1090, 'finally': 1723, 'staff': 4139, 'chasing': 772, 'apparent': 268, 'crazy': 1035, 'soon': 4075, 'sexy': 3912, 'dr': 1338, 'biggest': 479, 'mentally': 2808, 'laughs': 2533, 'energy': 1477, 'chase': 769, 'wonders': 4931, 'race': 3500, 'odds': 3081, 'shortly': 3948, 'post': 3353, 'number': 3059, 'painted': 3174, 'shirt': 3938, 'regular': 3594, 'appeared': 275, 'mistake': 2870, 'realized': 3555, 'mirror': 2860, 'image': 2232, 'clichés': 846, 'realise': 3550, 'became': 430, 'widely': 4881, 'words': 4938, 'joy': 2421, 'broad': 590, 'predictable': 3368, 'youve': 4995, 'nevertheless': 3001, 'contains': 964, 'twists': 4618, 'surprise': 4313, 'dialogue': 1232, 'pacing': 3163, 'stewart': 4185, 'shines': 3933, 'alone': 194, 'delivering': 1170, 'remarkably': 3616, 'thoughtful': 4464, 'witty': 4917, 'minor': 2856, 'realism': 3551, 'underrated': 4641, 'interview': 2328, 'background': 379, 'christian': 808, 'stephen': 4177, 'frank': 1820, 'turner': 4606, 'walker': 4777, 'uwe': 4702, 'boll': 529, 'game': 1863, 'packed': 3166, 'nail': 2956, 'succeed': 4263, 'celebrity': 729, 'lacks': 2504, 'necessary': 2983, 'needs': 2989, 'line': 2609, 'creative': 1041, 'control': 977, 'monsters': 2892, 'lame': 2509, 'various': 4714, 'angles': 236, 'nature': 2974, 'live': 2624, 'visually': 4757, 'satisfying': 3792, 'hot': 2173, 'andrews': 229, 'hamlet': 2012, 'melodrama': 2796, 'gives': 1913, 'weight': 4839, 'tragedy': 4551, 'attractive': 350, 'villain': 4743, 'natural': 2972, 'warmth': 4795, 'providing': 3452, 'contrast': 975, 'smiling': 4038, 'emotionally': 1459, 'open': 3111, 'opposed': 3121, 'wound': 4960, 'major': 2710, 'surprises': 4315, 'concerned': 932, 'reunion': 3671, 'sorts': 4079, 'passing': 3205, 'brand': 565, 'lets': 2579, 'strong': 4230, 'view': 4735, 'cat': 713, 'mouse': 2918, 'contain': 962, 'elizabeth': 1444, 'weakest': 4824, 'law': 2537, 'texas': 4419, 'amateurish': 207, 'unrealistic': 4676, 'intense': 2315, 'mother': 2910, 'kidnapped': 2465, 'missing': 2868, 'manages': 2724, 'vaguely': 4705, 'annoyed': 247, 'thick': 4448, 'imitation': 2240, 'southern': 4089, 'whenever': 4862, 'television': 4395, 'lovely': 2670, 'warm': 4793, 'sentimental': 3883, 'romantic': 3735, 'rarely': 3526, 'movements': 2923, 'ryan': 3766, 'mary': 2750, 'adorable': 124, 'sleeping': 4026, 'harry': 2038, 'met': 2821, 'sally': 3777, 'married': 2743, 'appeal': 270, 'hanks': 2024, 'fox': 1813, 'superbly': 4298, 'eg': 1433, 'executed': 1564, 'perfection': 3226, 'falling': 1638, 'loves': 2673, 'loss': 2658, 'desire': 1203, 'connection': 946, 'delivered': 1169, 'heaven': 2067, 'york': 4985, 'state': 4161, 'audio': 353, 'raise': 3508, 'overwhelming': 3157, 'orson': 3132, 'welles': 4843, 'usual': 4698, 'keeps': 2450, 'voice': 4760, 'closed': 854, 'witches': 4910, 'represent': 3639, 'naked': 2958, 'doll': 1311, 'husband': 2203, 'toy': 4543, 'factory': 1622, 'occasionally': 3074, 'causes': 725, 'arrive': 299, 'fell': 1689, 'dolls': 1314, 'caused': 724, 'realize': 3554, 'aware': 367, 'images': 2234, 'doubt': 1330, 'largely': 2517, 'due': 1380, 're': 3537, 'addition': 118, 'version': 4719, 'according': 88, 'magic': 2702, 'versions': 4720, 'disc': 1276, 'rushed': 3761, 'home': 2141, 'rock': 3722, 'setting': 3901, 'mighty': 2835, 'pilot': 3277, 'flying': 1763, 'crack': 1027, 'achieved': 93, 'wind': 4893, 'owner': 3159, 'hunting': 2200, 'companion': 909, 'took': 4524, 'wing': 4896, 'james': 2377, 'dean': 1139, 'bacall': 376, 'secretary': 3851, 'advertising': 132, 'oil': 3096, 'millions': 2847, 'dorothy': 1328, 'aint': 163, 'wild': 4885, 'heroine': 2090, 'landing': 2511, 'award': 365, 'deserved': 1198, 'soap': 4048, 'opera': 3115, 'presentation': 3376, 'miss': 2865, 'sullivan': 4289, 'jimmy': 2402, 'greatly': 1966, 'basically': 406, 'calm': 655, 'chemistry': 782, 'enjoyable': 1484, 'sweet': 4337, 'personality': 3243, 'magical': 2703, 'warming': 4794, 'marvelous': 2749, 'generations': 1883, 'network': 2999, 'cable': 644, 'month': 2895, 'check': 777, 'scary': 3808, 'laughing': 2532, 'compare': 911, 'looked': 2646, 'corny': 997, 'fetched': 1697, 'charles': 764, 'brady': 561, 'feed': 1682, 'force': 1785, 'virgin': 4748, 'humans': 2189, 'powers': 3362, 'cats': 721, 'whose': 4877, 'capable': 672, 'severe': 3907, 'fatal': 1663, 'maintain': 2709, 'relationship': 3599, 'class': 833, 'suspect': 4328, 'fallen': 1637, 'date': 1118, 'nearby': 2979, 'kissing': 2483, 'andy': 230, 'simpson': 3988, 'occasion': 3072, 'nearly': 2980, 'face': 1615, 'chest': 784, 'wounded': 4961, 'seeks': 3861, 'vengeance': 4718, 'family': 1644, 'sum': 4290, 'cheese': 780, 'cliché': 844, 'vote': 4765, 'female': 1692, 'gotta': 1945, 'shoots': 3945, 'cameo': 657, 'mindless': 2850, 'tarzan': 4368, 'ape': 265, 'animals': 239, 'african': 142, 'four': 1811, 'forty': 1806, 'crocodile': 1065, 'rolling': 3732, 'jaws': 2384, 'knife': 2486, 'wearing': 4830, 'friendly': 1835, 'costume': 1005, 'attached': 335, 'heads': 2058, 'elephant': 1443, 'course': 1019, 'returns': 3670, 'everybody': 1539, 'boys': 559, 'die': 1241, 'code': 869, 'clothes': 860, 'nude': 3057, 'appealing': 271, 'swim': 4338, 'moves': 2924, 'wears': 4831, 'splendid': 4120, 'glimpse': 1918, 'hip': 2113, 'sleep': 4025, 'stay': 4167, 'cities': 823, 'theyre': 4446, 'suffers': 4279, 'burning': 627, '13th': 5, 'return': 3667, 'event': 1534, 'sends': 3877, 'ten': 4400, 'murdered': 2939, 'gruesome': 1985, 'known': 2491, 'survive': 4322, 'roger': 3726, 'arrogant': 302, 'critics': 1064, 'originally': 3130, '1996': 26, 'theatre': 4430, 'impressed': 2250, 'feelings': 1685, 'havent': 2052, 'changed': 750, 'infamous': 2283, 'wood': 4933, 'jr': 2422, 'interviews': 2329, 'knew': 2485, 'mixed': 2876, 'clips': 852, 'woods': 4935, 'mediocre': 2790, 'maker': 2713, 'hated': 2046, 'clear': 839, 'ignore': 2223, 'adult': 125, '1960s': 15, 'tears': 4381, 'joke': 2413, 'sex': 3908, 'lots': 2661, 'scientists': 3820, 'soldiers': 4055, 'scientist': 3819, 'flaw': 1748, 'kevin': 2456, 'lab': 2500, 'animated': 240, 'walk': 4774, 'extent': 1604, 'outside': 3146, 'possibly': 3352, 'anywhere': 262, 'terms': 4407, 'project': 3428, 'insulting': 2309, 'mad': 2695, 'genius': 1886, 'hollow': 2134, 'build': 614, 'substance': 4259, 'husbands': 2204, 'thinks': 4455, 'wealth': 4825, 'material': 2765, 'available': 360, 'famous': 1646, 'dealt': 1138, 'bottom': 551, 'originality': 3129, 'suspects': 4329, 'returned': 3668, 'terry': 4416, 'thomas': 4459, 'patrick': 3214, 'herself': 2091, 'committed': 905, 'unable': 4630, 'locations': 2635, 'channel': 753, 'prime': 3396, 'exotic': 1573, 'phony': 3257, 'contest': 967, 'proceeds': 3412, 'hook': 2151, 'beat': 422, 'situations': 4010, 'interaction': 2321, 'format': 1798, 'motion': 2912, 'versus': 4721, 'several': 3906, 'types': 4621, 'successful': 4267, 'hardly': 2035, 'hooked': 2152, 'cup': 1080, 'tea': 4374, 'drivel': 1362, 'hiding': 2098, 'behind': 446, '2000': 30, 'slick': 4027, 'green': 1970, 'professional': 3422, 'intelligence': 2312, 'short': 3947, 'inspired': 2300, 'madness': 2697, 'cartoons': 705, 'multiple': 2935, 'fired': 1734, 'fight': 1706, 'beginning': 442, 'present': 3375, '15': 7, 'odd': 3079, 'ball': 387, 'musical': 2946, 'below': 461, 'surely': 4310, 'follows': 1774, 'club': 863, 'atmosphere': 332, 'seriously': 3893, 'suddenly': 4274, 'elsewhere': 1448, 'worlds': 4947, 'timothy': 4500, 'obviously': 3071, 'wells': 4844, 'succeeds': 4265, 'appreciated': 279, 'standard': 4145, 'fare': 1654, 'spielberg': 4111, 'cruise': 1071, 'resemblance': 3647, 'amateur': 206, 'rate': 3528, 'entertained': 1497, 'agree': 155, 'faithful': 1633, 'overlook': 3153, 'hard': 2032, 'genres': 1888, 'standards': 4146, 'accept': 80, 'record': 3575, 'messages': 2819, 'aimed': 162, 'specifically': 4101, 'kid': 2463, 'singer': 3994, 'icon': 2210, 'motivation': 2913, 'variety': 4713, 'door': 1326, 'sees': 3867, 'hill': 2107, 'shining': 3934, 'grace': 1949, 'anger': 234, 'middle': 2832, 'children': 792, 'regarding': 3591, 'gangster': 1867, 'rap': 3522, 'sons': 4074, 'wrote': 4974, 'atrocious': 334, 'society': 4051, 'tells': 4398, 'teacher': 4376, 'worker': 4942, 'schools': 3815, 'respect': 3654, 'east': 1405, 'west': 4851, 'gang': 1866, 'fully': 1846, 'prevent': 3386, 'horrible': 2162, 'models': 2880, 'singers': 3995, 'foul': 1809, 'community': 908, 'fat': 1662, 'thin': 4450, 'comparison': 914, 'streets': 4218, 'monster': 2891, 'quality': 3485, 'associated': 326, 'soft': 4052, 'core': 995, 'serves': 3896, 'serial': 3890, 'couldnt': 1008, 'search': 3842, 'futuristic': 1856, 'nurse': 3062, 'ii': 2225, 'entertain': 1496, '90s': 61, 'la': 2499, 'add': 115, 'tag': 4349, 'ann': 243, 'festival': 1696, 'student': 4239, 'temple': 4399, 'anti': 253, 'christ': 807, 'admit': 122, 'obsession': 3069, 'killing': 2471, 'rights': 3699, 'stated': 4162, 'exploitation': 1591, 'previous': 3388, 'finding': 1726, 'rental': 3629, 'copy': 994, 'alex': 179, 'theme': 4434, 'told': 4514, 'cinderella': 815, 'disney': 1287, 'animation': 241, 'childish': 791, 'fashioned': 1659, 'charm': 767, 'computer': 927, 'generated': 1881, 'forgotten': 1796, 'essence': 1520, 'thankfully': 4423, 'introduced': 2336, 'vhs': 4724, 'government': 1947, 'jaw': 2383, 'likable': 2597, 'proves': 3448, 'dimensional': 1251, 'par': 3185, 'fate': 1664, 'greatest': 1965, 'sounds': 4085, 'potentially': 3357, 'promising': 3434, 'uninteresting': 4659, 'research': 3646, 'wooden': 4934, 'affair': 135, 'intriguing': 2334, 'attraction': 349, 'existent': 1571, 'faced': 1616, 'slaughter': 4022, 'fair': 1629, 'hearing': 2062, 'goofy': 1938, 'childrens': 793, 'gadget': 1859, 'brain': 562, 'reduced': 3581, 'fancy': 1648, 'horrors': 2168, 'security': 3855, 'guard': 1987, 'brown': 601, 'inspector': 2298, 'disneys': 1288, 'introduce': 2335, 'brenda': 575, 'opposite': 3122, 'nowhere': 3055, 'guessed': 1989, 'sake': 3776, 'insult': 2308, 'relief': 3607, 'clever': 841, 'gags': 1861, 'paper': 3184, 'replaced': 3636, 'wise': 4903, 'total': 4532, '12': 3, 'months': 2896, 'repeat': 3632, 'friend': 1834, 'seeing': 3858, 'jackson': 2374, 'bought': 552, 'bay': 415, 'unique': 4661, 'sounded': 4083, 'trust': 4597, 'lighting': 2595, 'shots': 3951, 'frame': 1814, 'stayed': 4168, 'focus': 1765, 'average': 361, 'dragged': 1341, 'attack': 336, 'removed': 3626, 'stick': 4186, 'allow': 189, 'kept': 2455, 'references': 3585, 'coming': 896, 'mst3k': 2931, 'devoted': 1229, 'subject': 4254, 'deaf': 1134, 'songs': 4073, 'watchable': 4811, 'weak': 4823, 'bobby': 525, 'trick': 4581, 'gotten': 1946, 'iron': 2353, 'reflect': 3586, 'creativity': 1042, 'appear': 272, 'food': 1777, 'ingredients': 2288, 'handle': 2017, 'quote': 3497, 'fall': 1636, 'drunk': 1373, 'restaurant': 3660, 'sequence': 3888, 'imagined': 2238, 'sir': 4001, 'equally': 1509, 'spoiled': 4123, 'bath': 410, 'chosen': 805, 'folks': 1770, 'shock': 3939, 'dressed': 1356, 'ie': 2220, 'warriors': 4802, 'arent': 287, 'sold': 4053, 'asian': 313, 'colors': 879, 'africa': 141, 'chinese': 796, 'shooting': 3944, 'significant': 3973, 'mission': 2869, 'dude': 1379, '100': 1, 'neighborhood': 2992, 'depiction': 1183, 'hood': 2150, 'couldve': 1009, 'lee': 2558, '2001': 31, 'considered': 951, 'cuts': 1091, 'taxi': 4372, 'driver': 1364, 'brings': 587, 'bridge': 578, 'killed': 2468, 'suicide': 4284, 'plain': 3287, 'boyfriend': 558, 'sit': 4004, 'rare': 3525, 'random': 3515, 'decide': 1147, 'parts': 3200, 'knock': 2487, 'liberal': 2587, 'awards': 366, 'pleasant': 3303, 'hopefully': 2156, 'christians': 809, 'besides': 467, 'kudos': 2496, 'correct': 1000, 'hearted': 2064, 'learn': 2549, 'oscar': 3133, 'hysterical': 2207, 'adventure': 130, 'likely': 2600, 'journey': 2420, 'enjoyment': 1487, 'forced': 1786, 'bonus': 534, 'illogical': 2230, 'suffering': 4278, 'push': 3478, 'perspective': 3246, 'hey': 2094, 'worry': 4950, 'importance': 2245, '1983': 22, 'wars': 4803, 'theater': 4428, 'hbo': 2054, 'hadnt': 2003, 'empire': 1463, 'critical': 1062, 'rebel': 3563, 'hundreds': 2195, 'viewings': 4740, 'iii': 2226, '1980': 20, 'mine': 2852, 'hit': 2121, 'gorgeous': 1941, 'bus': 631, 'refuses': 3589, 'steal': 4171, 'relation': 3597, 'jealous': 2387, 'superhero': 4300, 'secret': 3850, 'grow': 1981, 'masterpiece': 2758, 'fest': 1695, 'thus': 4487, 'broken': 594, 'hearts': 2065, 'received': 3566, 'earth': 1401, 'slave': 4023, 'marriage': 2742, 'fantastic': 1650, 'ancient': 225, 'died': 1242, 'expression': 1601, 'maybe': 2775, 'twice': 4612, 'subtle': 4261, 'suppose': 4306, 'annoying': 248, 'exception': 1556, 'twins': 4615, 'lesson': 2576, 'learned': 2550, 'sappy': 3785, 'sudden': 4273, 'goodness': 1937, 'behavior': 445, 'yelling': 4980, 'jeffrey': 2390, 'train': 4555, 'tricks': 4582, 'focused': 1766, 'rented': 3630, 'purely': 3473, 'began': 440, 'shoot': 3943, 'inappropriate': 2258, 'faces': 1617, 'scare': 3804, 'physical': 3263, 'finish': 1731, 'breath': 573, 'wasted': 4808, 'embarrassment': 1454, 'haunted': 2049, 'disappointment': 1273, 'terror': 4413, 'fears': 1676, 'timeless': 4497, 'moving': 2927, 'portrayal': 3342, 'genuine': 1890, 'covered': 1023, 'views': 4741, 'daniel': 1111, 'closest': 857, 'doubts': 1331, 'artist': 306, 'ray': 3535, 'countless': 1012, 'covers': 1024, 'fail': 1624, 'capture': 676, 'folk': 1769, 'figures': 1712, 'singing': 3996, 'letters': 2581, 'development': 1223, 'afraid': 140, 'ugly': 4624, 'hunt': 2197, 'partner': 3199, 'jail': 2375, 'guess': 1988, '20th': 38, 'insane': 2295, 'bar': 395, 'dancing': 1107, 'bond': 532, 'sleazy': 4024, 'dumb': 1383, 'flawed': 1749, 'weird': 4840, 'heard': 2061, 'among': 217, 'mitchell': 2874, 'gone': 1934, 'snl': 4045, 'recent': 3568, '80': 58, 'faith': 1632, 'transition': 4560, 'silver': 3978, 'fear': 1675, 'tim': 4495, 'remains': 3613, 'fresh': 1832, 'harder': 2034, 'bell': 457, 'fame': 1641, 'williams': 4888, '45': 50, 'touch': 4534, 'certainly': 738, 'daughters': 1122, 'nick': 3011, 'humorous': 2192, 'innocent': 2293, 'girls': 1910, '1st': 28, 'comment': 898, 'block': 508, 'purchased': 3471, 'thrown': 4482, 'twenty': 4611, 'idiot': 2217, 'abysmal': 76, 'worthless': 4954, 'directing': 1258, 'twelve': 4610, 'someones': 4066, 'garbage': 1869, 'costs': 1004, 'mill': 2844, 'thousand': 4466, 'innovative': 2294, 'million': 2846, 'attention': 344, 'explain': 1585, 'awkward': 373, 'call': 651, 'using': 4697, 'surprised': 4314, 'unaware': 4631, 'focuses': 1767, 'won': 4925, 'enormous': 1489, 'charisma': 762, 'sympathy': 4344, 'playing': 3301, 'rush': 3760, 'per': 3224, 'impressive': 2252, 'provoking': 3453, 'cruel': 1070, 'receive': 3565, 'credit': 1049, 'speaking': 4096, 'remind': 3620, 'effective': 1428, 'tension': 4405, 'unexpected': 4649, 'poetic': 3314, 'happened': 2026, 'forever': 1791, 'dozen': 1336, 'official': 3093, 'site': 4006, 'jerry': 2395, 'broadway': 592, 'sing': 3993, 'dance': 1103, 'sincere': 3992, 'danny': 1112, 'tone': 4518, 'gas': 1873, 'popcorn': 3332, '3d': 46, 'sick': 3964, 'ps': 3454, 'greek': 1969, 'nose': 3036, 'impossible': 2248, 'becoming': 434, 'sunday': 4294, 'afternoon': 144, 'ladies': 2505, 'unfortunate': 4652, 'renting': 3631, 'students': 4240, 'technical': 4382, 'college': 875, 'public': 3461, 'access': 83, 'masterful': 2757, 'treatment': 4573, 'rings': 3701, 'primarily': 3394, 'torn': 4529, 'negative': 2990, 'destroyed': 1212, 'print': 3400, 'neo': 2997, 'handsome': 2020, 'revealed': 3673, 'breasts': 572, 'unusual': 4680, 'pay': 3217, 'pays': 3219, 'directly': 1261, 'featuring': 1680, 'recommended': 3574, 'fury': 1854, 'mark': 2738, 'francisco': 1818, 'tunes': 4602, 'devil': 1226, 'thrills': 4476, 'surprising': 4316, 'thrilling': 4475, 'thrillers': 4474, 'dramas': 1345, 'strongly': 4232, 'werewolf': 4849, 'london': 2640, 'wolf': 4920, 'frankenstein': 1821, 'curse': 1086, 'bullet': 620, 'moon': 2899, '2003': 33, '2004': 34, 'devils': 1227, 'ashamed': 311, 'nasty': 2967, 'alfred': 181, 'hitchcock': 2122, 'empty': 1464, 'established': 1523, 'cage': 645, 'broke': 593, 'dire': 1255, 'mistaken': 2871, 'warn': 4796, 'offers': 3089, 'leave': 2554, 'whilst': 4868, 'hits': 2124, 'complicated': 925, 'logical': 2638, 'flow': 1761, 'hired': 2116, 'murderous': 2941, 'trio': 4586, 'tribute': 4580, 'tense': 4404, 'exceptionally': 1558, 'round': 3743, 'somewhere': 4070, 'plenty': 3308, 'individual': 2276, 'presented': 3377, 'current': 1084, 'restored': 3661, 'power': 3360, 'claim': 828, 'topic': 4527, 'naive': 2957, 'timing': 4499, 'wanna': 4785, 'german': 1895, 'oliver': 3101, 'games': 1864, 'experiment': 1582, 'photography': 3261, 'gift': 1905, 'legendary': 2564, 'carried': 698, 'floor': 1758, 'bag': 383, 'beer': 438, 'university': 4666, 'review': 3678, 'represents': 3641, 'winters': 4901, 'winter': 4900, 'snow': 4046, 'pretend': 3382, 'solo': 4059, 'dad': 1095, 'built': 618, 'kick': 2459, 'tree': 4575, 'cave': 727, 'lord': 2651, 'trek': 4577, 'fans': 1649, 'george': 1892, 'defend': 1157, 'soccer': 4049, 'broadcast': 591, 'generous': 1885, 'dedicated': 1152, 'reach': 3538, 'todays': 4510, 'inferior': 2284, 'matches': 2763, 'environment': 1504, 'central': 735, 'explicit': 1590, 'regard': 3590, 'reached': 3539, 'closer': 856, 'germany': 1897, 'brazil': 568, 'mexico': 2826, 'stress': 4221, 'aspects': 321, 'competition': 918, 'progress': 3426, 'cost': 1003, 'comments': 901, 'account': 89, 'mistakes': 2872, 'rules': 3755, 'influence': 2285, 'sequel': 3886, '1990': 24, 'source': 4087, 'bitter': 491, 'whereas': 4864, 'distant': 1293, 'reads': 3547, 'jamie': 2378, 'kennedy': 2453, 'darker': 1116, 'agreed': 156, 'outstanding': 3147, 'waters': 4816, 'underground': 4639, 'trash': 4564, 'cry': 1073, 'baby': 375, 'slight': 4028, 'humble': 2190, 'pop': 3331, 'created': 1037, 'ease': 1402, 'contained': 963, 'alongside': 196, 'stilted': 4191, 'values': 4709, 'journalist': 2419, 'conservative': 948, 'unpredictable': 4674, 'donna': 1321, '1984': 23, 'reed': 3582, 'described': 1193, 'mgm': 2827, 'talents': 4357, 'competent': 917, 'wit': 4908, 'conventional': 979, 'pre': 3366, 'fit': 1739, 'louis': 2664, 'safe': 3772, 'zone': 4999, 'developing': 1222, 'judge': 2423, 'beloved': 460, 'scores': 3824, 'wouldve': 4959, 'kinda': 2476, 'smith': 4039, 'mike': 2837, 'familiar': 1642, 'boxing': 556, 'roll': 3730, 'sun': 4293, 'hoped': 2155, 'technique': 4384, 'match': 2761, 'hitting': 2125, 'notorious': 3050, 'japanese': 2381, 'european': 1529, 'nazi': 2976, 'camp': 662, 'section': 3854, 'granted': 1956, 'scope': 3822, 'ridiculously': 3696, 'admittedly': 123, 'aired': 165, '2006': 36, 'genuinely': 1891, 'stock': 4194, 'busy': 635, 'descent': 1191, 'ourselves': 3140, 'statement': 4163, 'issues': 2364, 'bigger': 478, 'difference': 1244, 'reference': 3584, 'portray': 3341, 'godfather': 1926, 'moore': 2900, 'aka': 168, 'sheer': 3926, 'skill': 4014, 'enthusiasm': 1500, 'frankly': 1822, 'cannot': 670, 'pal': 3177, 'racist': 3504, 'cops': 993, 'bed': 435, 'highlights': 2103, 'continuity': 972, 'suit': 4285, 'changing': 752, 'admire': 121, 'jumping': 2430, 'cliff': 847, 'orders': 3126, 'dig': 1248, 'grave': 1961, 'kung': 2497, 'fu': 1843, 'climactic': 848, 'speed': 4104, 'teeth': 4394, 'matrix': 2766, 'precious': 3367, 'warned': 4797, 'trailer': 4553, 'blows': 517, 'plague': 3286, 'unfolds': 4650, 'unfunny': 4654, 'direct': 1256, 'root': 3739, 'dan': 1102, 'makeup': 2716, 'anymore': 257, 'noise': 3023, 'ego': 1434, 'sounding': 4084, 'protagonist': 3442, 'tie': 4489, 'examples': 1553, 'merit': 2815, 'robbins': 3714, 'urge': 4688, 'baseball': 402, 'bat': 409, 'sell': 3872, 'contrived': 976, 'including': 2263, 'needless': 2988, 'focusing': 1768, 'lose': 2653, 'essentially': 1522, 'angry': 237, 'transformation': 4559, 'social': 4050, 'satisfied': 3790, 'throat': 4477, 'hours': 2176, 'pass': 3202, 'quickly': 3492, 'inventive': 2340, 'command': 897, 'appreciation': 280, 'castle': 712, 'damn': 1100, 'funniest': 1850, 'majority': 2711, 'break': 569, 'psycho': 3458, 'buff': 611, 'pulled': 3463, 'virtually': 4750, 'unknown': 4667, 'ghost': 1901, 'lover': 2671, 'leslie': 2573, 'buy': 640, 'worn': 4948, 'system': 4346, 'mom': 2884, 'appropriate': 282, 'topless': 4528, 'continued': 970, 'yeah': 4977, 'werent': 4848, 'grown': 1983, 'crew': 1053, 'brief': 579, 'passionate': 3207, 'private': 3405, 'merely': 2814, 'delivers': 1171, 'beauty': 429, 'minimal': 2854, 'extra': 1605, 'hall': 2008, 'concert': 935, 'sinatra': 3990, 'portrays': 3345, 'trapped': 4563, 'ice': 2209, 'kirk': 2481, 'pair': 3176, 'era': 1512, 'grasp': 1959, 'kelly': 2451, 'installment': 2302, 'ian': 2208, 'sidney': 3969, 'lumet': 2687, 'garbo': 1870, 'talks': 4362, 'quest': 3487, 'ron': 3736, 'eccentric': 1412, 'scenery': 3811, 'artificial': 305, 'striking': 4227, 'false': 1640, 'flat': 1747, 'attempted': 340, 'dating': 1120, 'lisa': 2615, 'carrie': 697, 'fisher': 1738, 'catherine': 719, 'captivating': 675, 'guest': 1991, 'harvey': 2041, 'gay': 1875, 'halfway': 2007, 'viewed': 4736, 'misses': 2867, 'hasnt': 2043, '25': 40, 'spirited': 4115, 'giallo': 1903, 'convoluted': 987, 'finale': 1722, 'instinct': 2307, 'everywhere': 1544, 'dropped': 1368, 'stone': 4198, 'extreme': 1608, 'dated': 1119, 'adapted': 114, 'pointless': 3319, 'storytelling': 4210, 'numbers': 3060, 'clean': 838, 'weve': 4855, 'expecting': 1577, 'academy': 77, 'loose': 2649, 'shall': 3917, 'enjoying': 1486, 'primary': 3395, 'spell': 4105, 'rage': 3506, 'drugs': 1372, 'erotic': 1514, 'ensues': 1492, 'briefly': 580, 'notch': 3042, '14': 6, 'popular': 3334, 'winning': 4898, 'comics': 895, 'daily': 1097, 'report': 3637, 'sarah': 3786, 'caliber': 649, 'weeks': 4838, 'figured': 1711, 'risk': 3706, 'guessing': 1990, 'spoiler': 4124, 'alert': 178, 'insight': 2297, 'explored': 1594, 'dry': 1375, 'whatsoever': 4860, 'comical': 894, 'nervous': 2998, 'maria': 2735, 'attitude': 345, 'pushed': 3479, 'credibility': 1047, 'matters': 2769, 'lesbian': 2572, 'parents': 3189, 'touching': 4537, 'aside': 314, 'prove': 3446, 'fits': 1740, 'potential': 3356, 'oddly': 3080, 'spoken': 4127, 'spending': 4107, 'ticket': 4488, 'lucas': 2679, 'prequel': 3373, 'books': 536, 'closely': 855, 'remarkable': 3615, 'destroy': 1211, 'ralph': 3511, 'bakshi': 385, 'thank': 4422, 'scott': 3825, 'usa': 4690, 'bill': 480, 'cook': 988, 'victor': 4730, 'loses': 2656, 'arm': 291, 'retired': 3666, 'westerns': 4853, 'listed': 2617, 'roy': 3746, 'rogers': 3727, 'downright': 1335, 'ride': 3694, 'captured': 677, 'indians': 2274, 'taught': 4371, 'kicks': 2462, 'allowing': 191, 'furthermore': 1853, 'lessons': 2577, 'western': 4852, 'swedish': 4336, 'bullets': 621, 'strip': 4229, 'laughable': 2529, 'reactions': 3544, 'legend': 2563, 'sequels': 3887, 'hunters': 2199, 'stop': 4202, 'storm': 4207, 'designs': 1202, 'mexican': 2825, 'santa': 3784, 'intent': 2317, 'dubbing': 1378, 'language': 2515, 'voices': 4762, 'dubbed': 1377, 'pretending': 3383, 'tends': 4403, 'demons': 1177, 'ballet': 388, 'learns': 2552, 'everyday': 1540, 'unintentional': 4657, 'constantly': 958, 'bruce': 602, 'lees': 2559, 'recognize': 3571, 'imagination': 2235, 'india': 2272, 'intelligent': 2313, 'visible': 4752, 'themes': 4435, 'bollywood': 530, 'depicted': 1182, 'meaningful': 2780, 'haunting': 2050, 'perfectly': 3227, 'intellectual': 2311, 'describe': 1192, 'monkeys': 2890, 'pulling': 3464, 'holds': 2130, 'gothic': 1944, 'willis': 4890, 'sent': 3881, 'pulls': 3465, 'civilization': 827, 'brad': 560, 'pitt': 3281, 'element': 1441, 'psychotic': 3460, 'plight': 3309, 'stereotype': 4179, 'information': 2287, 'drop': 1367, 'drops': 1370, 'reminiscent': 3623, 'paint': 3173, 'within': 4912, 'mainstream': 2708, 'st': 4138, 'relate': 3595, 'screening': 3831, 'nuclear': 3056, 'plant': 3294, 'nuts': 3063, 'efforts': 1432, 'intended': 2314, 'overacting': 3149, 'compelling': 916, 'strangely': 4213, 'catchy': 717, 'throw': 4480, 'feels': 1686, 'fault': 1667, 'downhill': 1334, 'serious': 3892, 'innocence': 2292, 'spoke': 4126, 'filmmakers': 1719, 'parody': 3193, 'edge': 1416, 'fairy': 1631, 'tales': 4358, 'naturally': 2973, 'requires': 3644, 'magnificent': 2704, 'filmmaker': 1718, 'filming': 1717, 'richards': 3689, 'somebody': 4063, 'manhattan': 2725, 'irritating': 2358, 'inside': 2296, 'bore': 540, 'relative': 3601, 'craig': 1030, 'cabin': 643, 'weekend': 4837, 'todd': 4511, 'rotten': 3741, 'slasher': 4021, 'ultra': 4628, 'holiday': 2133, 'excuse': 1563, 'teen': 4389, 'teens': 4393, 'moronic': 2906, 'tough': 4538, 'twist': 4616, 'paying': 3218, 'spoil': 4122, 'argue': 289, 'process': 3413, 'bathroom': 411, 'pitch': 3280, 'ground': 1978, 'bright': 581, 'party': 3201, 'walks': 4779, 'carrying': 701, 'appalling': 267, 'distracting': 1295, 'blowing': 515, 'utterly': 4701, 'marty': 2748, 'simon': 3983, 'sexually': 3911, 'explosion': 1595, 'acid': 95, 'locked': 2636, 'murders': 2942, 'creepy': 1052, 'atmospheric': 333, 'considering': 952, 'nudity': 3058, 'wanting': 4789, 'effectively': 1429, 'otherwise': 3137, '30s': 44, 'hal': 2005, 'highlight': 2102, 'laurel': 2536, 'hardy': 2036, 'walter': 4783, 'subplots': 4257, 'shallow': 3918, 'suggest': 4281, 'blew': 505, 'execution': 1565, 'poverty': 3358, 'intrigued': 2333, 'bbc': 416, 'hence': 2082, 'tedious': 4388, 'stooges': 4201, 'lifetime': 2593, 'rural': 3759, 'virginia': 4749, 'specific': 4100, 'cary': 706, 'grant': 1955, 'ford': 1788, 'et': 1525, 'whom': 4874, 'younger': 4990, 'menacing': 2806, 'street': 4217, 'meeting': 2793, 'sub': 4253, 'anna': 244, 'checking': 778, 'describes': 1194, 'performers': 3233, 'citizen': 824, 'kane': 2441, 'bare': 397, 'equal': 1508, 'results': 3664, 'mail': 2705, 'lit': 2620, 'beating': 424, 'airplane': 166, 'crash': 1033, 'wreck': 4965, 'warning': 4799, 'eat': 1409, 'beautifully': 428, 'highest': 2101, 'reminded': 3621, 'comedian': 887, 'wannabe': 4786, 'thugs': 4485, 'entry': 1503, 'lacking': 2503, 'wedding': 4835, 'darkness': 1117, 'leo': 2570, 'holmes': 2138, 'flicks': 1754, 'featured': 1678, 'pregnant': 3370, 'teenager': 4391, 'row': 3745, 'reaction': 3543, 'double': 1329, 'thumbs': 4486, 'alexander': 180, 'curiosity': 1082, 'dollars': 1313, 'disaster': 1274, 'displays': 1291, 'vivid': 4759, 'enters': 1495, 'longer': 2644, 'criminals': 1058, 'encounter': 1465, 'terrorists': 4415, 'picks': 3269, 'plastic': 3295, 'sight': 3970, 'rolled': 3731, 'skip': 4017, 'pride': 3392, 'question': 3488, 'scooby': 3821, 'doo': 1323, 'walking': 4778, 'angle': 235, 'grew': 1971, 'proper': 3437, 'thoroughly': 4460, 'landscapes': 2513, 'imagery': 2233, 'dynamic': 1392, 'poignant': 3316, 'amazingly': 210, 'list': 2616, 'target': 4367, 'bear': 419, 'richard': 3688, 'ted': 4387, 'peace': 3220, 'rain': 3507, 'happening': 2027, 'beings': 448, 'mysterious': 2954, 'trouble': 4591, 'mystery': 2955, 'missed': 2866, 'unreal': 4675, 'rob': 3712, 'joined': 2412, 'tiger': 4492, 'dragon': 1342, 'victim': 4728, 'assault': 323, 'swimming': 4339, 'pool': 3328, 'overly': 3155, 'contemporary': 965, 'sharp': 3923, 'fellow': 1690, 'divorce': 1299, 'slap': 4019, 'soviet': 4090, 'chris': 806, 'draw': 1347, 'basis': 407, 'react': 3542, 'lie': 2589, 'rose': 3740, 'matthau': 2770, 'waited': 4770, 'diane': 1236, 'hundred': 2194, 'ha': 2001, 'snake': 4043, 'limited': 2605, 'styles': 4251, 'display': 1289, 'conflicts': 940, 'survivors': 4326, 'wes': 4850, 'currently': 1085, 'belongs': 459, 'except': 1555, 'honesty': 2147, 'taylor': 4373, 'switch': 4340, 'ignored': 2224, 'eve': 1531, 'affect': 136, 'commercials': 903, 'dentist': 1179, 'rent': 3628, 'summer': 4292, 'skin': 4016, 'intensity': 2316, 'miller': 2845, 'native': 2971, 'foster': 1808, 'crush': 1072, 'watches': 4813, 'sloppy': 4031, 'remaining': 3612, 'pit': 3279, 'stomach': 4197, 'pie': 3272, 'houses': 2179, 'developed': 1221, 'laughter': 2534, 'paranoia': 3187, 'instantly': 2305, 'gangsters': 1868, 'struggling': 4237, 'touched': 4535, 'niro': 3018, 'brando': 566, 'carl': 692, 'dickens': 1238, 'shop': 3946, 'bergman': 465, 'poem': 3313, 'caring': 691, 'exactly': 1550, 'embarrassing': 1453, 'kenneth': 2454, 'branagh': 564, 'beach': 418, 'ships': 3936, 'comfortable': 892, 'offended': 3084, 'delightful': 1167, 'miracle': 2859, 'writes': 4970, 'identify': 2215, 'scripts': 3837, 'ex': 1548, 'hamilton': 2011, 'preview': 3387, 'stunning': 4245, 'curious': 1083, 'blockbuster': 509, 'witnessed': 4915, 'tony': 4522, 'listening': 2619, 'buying': 641, 'household': 2178, 'denzel': 1180, 'washington': 4805, 'minded': 2849, 'forces': 1787, 'pursuit': 3477, 'agent': 150, 'trade': 4548, 'resist': 3650, 'creatures': 1046, 'species': 4099, 'doc': 1301, 'universe': 4665, 'domestic': 1316, 'sport': 4130, 'cares': 690, 'plots': 3311, 'details': 1217, 'uncle': 4635, 'matt': 2767, 'segments': 3869, 'masters': 2760, 'guide': 1992, 'philosophy': 3255, 'critic': 1061, 'analysis': 224, 'necessarily': 2982, 'scream': 3827, 'evening': 1533, 'knowledge': 2490, 'helps': 2081, 'loosely': 2650, 'reveals': 3675, 'birds': 485, 'alien': 183, 'planet': 3290, 'lynch': 2690, 'disgusting': 1284, 'elvis': 1450, 'criticism': 1063, 'ultimate': 4626, 'concerns': 934, 'involves': 2347, 'choices': 798, 'montage': 2893, 'fields': 1704, 'indie': 2275, 'apartment': 264, 'neighbors': 2993, 'building': 615, 'neat': 2981, 'roman': 3733, 'catholic': 720, 'church': 813, 'conspiracy': 956, 'host': 2172, 'martin': 2747, 'carradine': 695, 'priest': 3393, 'ham': 2010, 'demented': 1175, 'bird': 484, 'psychological': 3459, 'chilling': 794, 'mickey': 2830, 'overrated': 3156, 'tracy': 4547, 'clown': 862, 'scared': 3806, 'forest': 1790, 'throws': 4483, 'included': 2261, 'favorites': 1671, 'smaller': 4035, 'service': 3897, 'jon': 2415, 'seventies': 3905, 'novels': 3052, 'masterpieces': 2759, 'recorded': 3576, 'managed': 2722, 'sat': 3787, 'ship': 3935, 'theatrical': 4431, 'carries': 699, 'ensemble': 1491, 'pretentious': 3384, 'nostalgic': 3038, 'market': 2739, 'depression': 1187, 'ruined': 3752, 'cagney': 646, 'theaters': 4429, 'dancer': 1104, 'musicals': 2947, 'wished': 4905, 'palace': 3178, 'dick': 1237, 'powell': 3359, 'ah': 158, 'hotel': 2174, 'ruby': 3750, 'sings': 3998, 'dances': 1106, 'blonde': 511, 'brains': 563, 'chorus': 803, 'producer': 3416, 'wayne': 4820, 'assistant': 325, 'heck': 2070, 'influenced': 2286, 'crafted': 1029, 'maggie': 2701, 'speaks': 4097, 'signs': 3974, 'sixties': 4012, 'arrives': 301, 'heavily': 2068, 'melodramatic': 2797, 'structure': 4234, 'design': 1200, 'exact': 1549, 'rank': 3520, 'drink': 1359, 'ordinary': 3127, 'pro': 3407, 'gonna': 1935, 'filled': 1714, 'joseph': 2418, 'contract': 973, 'hire': 2115, 'performing': 3234, 'claimed': 829, 'evidence': 1545, 'stealing': 4172, 'cash': 709, 'alas': 172, 'decades': 1145, 'professor': 3423, 'receives': 3567, 'letter': 2580, 'phone': 3256, 'bank': 393, 'increasingly': 2267, 'horse': 2169, 'behave': 444, 'lawyer': 2540, 'response': 3656, 'angel': 231, 'spoilers': 4125, 'piano': 3265, 'shake': 3915, 'tune': 4601, 'settle': 3903, 'cliche': 843, 'opportunities': 3119, 'driven': 1363, '1950s': 14, 'tall': 4363, 'latin': 2526, 'sports': 4131, 'deliberately': 1165, 'blond': 510, 'jewish': 2400, 'eighties': 1436, 'military': 2843, 'jonathan': 2416, 'cia': 814, 'chief': 788, 'president': 3379, 'racial': 3502, 'male': 2718, 'population': 3336, 'madonna': 2698, 'pleasure': 3307, 'politically': 3326, 'hair': 2004, 'lasted': 2521, 'author': 358, 'incident': 2259, 'biography': 483, 'surface': 4311, 'dvds': 1390, 'extras': 1607, 'color': 877, 'shape': 3920, 'ramones': 3513, 'serve': 3894, 'nostalgia': 3037, 'teenagers': 4392, 'principal': 3399, 'punk': 3469, 'mild': 2838, 'nonetheless': 3028, 'changes': 751, 'aged': 149, 'adam': 111, 'politics': 3327, 'political': 3325, 'concern': 931, 'marie': 2736, 'burns': 628, 'selling': 3874, 'womens': 4924, 'mayor': 2776, 'lake': 2508, 'draws': 1350, 'bedroom': 436, 'karen': 2443, 'pleasantly': 3304, 'useless': 4694, 'remotely': 3625, 'nelson': 2996, 'mentioning': 2811, 'center': 732, 'anybody': 256, 'onto': 3110, 'excitement': 1561, 'normal': 3032, 'chain': 741, 'basement': 404, 'avoided': 363, 'quit': 3495, 'alright': 198, 'commented': 900, 'humour': 2193, 'australia': 355, 'levels': 2584, 'corruption': 1002, 'choice': 797, 'captures': 678, 'attitudes': 346, 'secretly': 3852, 'alike': 185, 'comparing': 913, 'vietnam': 4734, 'led': 2557, 'americas': 215, 'turkey': 4603, 'matthew': 2771, 'stretch': 4222, 'parallel': 3186, 'rise': 3704, 'rule': 3754, 'loyal': 2678, 'suggests': 4283, 'ed': 1413, 'sam': 3778, 'dinner': 1252, 'standing': 4147, 'upper': 4684, 'complexity': 924, 'struck': 4233, 'ran': 3514, 'invasion': 2339, 'complex': 923, 'shakespeare': 3916, 'passion': 3206, 'prostitute': 3441, 'likewise': 2602, 'sole': 4056, 'surprisingly': 4317, 'asleep': 319, 'wacky': 4768, 'tradition': 4549, 'catches': 715, 'shoes': 3942, 'lazy': 2542, 'hopes': 2158, 'pan': 3181, 'lol': 2639, 'wasting': 4809, 'morgan': 2904, 'freeman': 1828, 'starred': 4154, 'manager': 2723, 'introduces': 2337, 'visit': 4754, 'paulie': 3216, 'successfully': 4268, 'russian': 3763, 'treat': 4571, 'buddy': 609, 'bugs': 613, 'spanish': 4093, 'wendy': 4845, 'parent': 3188, 'conflict': 939, 'stereotypical': 4181, 'babe': 374, 'sensitive': 3880, 'depressing': 1186, 'disturbed': 1297, 'raped': 3524, 'enjoys': 1488, 'ethan': 1527, 'brian': 576, 'struggle': 4235, 'reputation': 3642, 'latter': 2527, 'bleak': 503, 'rip': 3702, '1970s': 17, 'tender': 4402, 'belief': 450, 'members': 2800, 'improved': 2254, 'bette': 470, 'davis': 1126, 'mildred': 2840, 'struggles': 4236, 'philip': 3253, 'toward': 4540, 'mouth': 2919, 'howard': 2181, 'alan': 171, 'conceived': 929, 'gifted': 1906, 'russell': 3762, 'ad': 110, 'matched': 2762, 'popularity': 3335, 'sellers': 3873, 'instance': 2303, 'leg': 2561, 'teaching': 4378, 'planning': 3292, 'jones': 2417, 'spoof': 4128, 'unforgettable': 4651, 'spike': 4112, 'barry': 400, 'failing': 1626, 'derek': 1190, 'intention': 2318, 'passed': 3203, 'raymond': 3536, 'testament': 4418, 'bible': 476, 'causing': 726, 'shower': 3958, 'bush': 632, 'vulnerable': 4767, 'pushing': 3480, 'max': 2773, 'inducing': 2278, 'mrs': 2929, 'prison': 3402, 'flashbacks': 1746, 'voight': 4763, 'blake': 498, 'groups': 1980, 'familys': 1645, 'reaching': 3541, 'streep': 4216, 'accused': 91, 'defense': 1158, 'angels': 233, 'titled': 4506, 'australian': 356, 'witch': 4909, 'card': 681, 'media': 2788, 'strength': 4220, 'blank': 501, 'creates': 1038, 'stood': 4200, 'despair': 1205, 'theyll': 4445, 'jessica': 2397, 'margaret': 2734, 'finished': 1732, 'punch': 3467, 'suffer': 4276, 'cried': 1054, 'elm': 1446, 'nightmare': 3013, 'amanda': 205, 'wave': 4817, 'luckily': 2681, 'exposed': 1597, 'mainly': 2707, 'edie': 1418, 'narration': 2964, 'portrait': 3340, 'fights': 1709, 'inner': 2291, 'deeply': 1155, 'artistic': 307, 'skills': 4015, 'asks': 318, 'vague': 4704, 'solely': 4057, 'unintentionally': 4658, 'chicks': 787, 'position': 3346, 'campbell': 663, 'june': 2432, 'smile': 4037, 'proof': 3435, 'translation': 4561, 'pants': 3183, 'fooled': 1779, 'symbolism': 4342, 'deeper': 1154, 'meaning': 2779, 'recall': 3564, 'greed': 1967, 'thru': 4484, 'lovable': 2667, 'delivery': 1172, 'cutting': 1092, 'wide': 4880, 'campy': 664, 'formulaic': 1802, 'realizes': 3556, 'scares': 3807, 'olivier': 3102, 'funeral': 1848, 'gritty': 1976, 'chuck': 812, 'mel': 2795, 'convey': 982, 'concerning': 933, 'pot': 3355, 'brooklyn': 595, 'troops': 4590, 'california': 650, 'cell': 730, 'spread': 4134, 'technology': 4386, 'via': 4725, 'educational': 1424, 'essential': 1521, 'fascinated': 1656, 'stupidity': 4249, 'lawrence': 2538, 'farce': 1653, '1968': 16, 'communist': 907, 'spiritual': 4117, 'compelled': 915, 'prisoner': 3403, 'meanwhile': 2784, 'china': 795, 'workers': 4943, 'worried': 4949, 'demands': 1174, 'sacrifice': 3767, 'saves': 3797, 'oscars': 3134, 'plausible': 3296, 'americans': 214, 'raw': 3534, 'foot': 1780, 'integrity': 2310, 'crowd': 1067, 'basketball': 408, 'anyways': 261, 'anime': 242, 'graphic': 1957, 'guts': 1998, 'swear': 4335, 'loving': 2674, 'spots': 4133, 'thoughts': 4465, 'overlooked': 3154, 'techniques': 4385, 'program': 3425, 'animal': 238, 'families': 1643, 'whale': 4856, 'chapter': 757, 'fish': 1737, 'accompanied': 86, 'opened': 3112, 'brutal': 603, 'hunter': 2198, 'newly': 3003, 'yesterday': 4983, 'gross': 1977, 'mile': 2841, 'eerie': 1426, 'normally': 3033, 'directs': 1265, 'lifestyle': 2592, 'parties': 3197, 'exposure': 1598, 'vice': 4726, 'newspaper': 3005, 'reporter': 3638, 'rooms': 3738, 'pearl': 3221, 'editor': 1422, 'homosexual': 2144, 'choreographed': 801, 'brave': 567, 'banned': 394, 'countries': 1013, 'controversial': 978, 'documentaries': 1304, 'fourth': 1812, 'wall': 4780, 'ya': 4976, 'villains': 4744, 'whoever': 4871, 'determined': 1219, 'traditional': 4550, 'mansion': 2730, 'remain': 3611, 'hatred': 2048, 'steve': 4182, 'claire': 831, 'step': 4176, 'answers': 251, 'placed': 3284, 'responsibility': 3657, 'reminds': 3622, 'base': 401, 'balance': 386, 'spirit': 4114, 'firstly': 1736, 'nonsensical': 3030, 'mass': 2752, 'couples': 1017, 'civil': 826, 'holding': 2129, 'priceless': 3391, 'pops': 3333, 'instant': 2304, 'selfish': 3871, 'amitabh': 216, 'stole': 4195, 'expressions': 1602, 'express': 1599, 'excited': 1560, 'tale': 4354, 'tooth': 4525, 'peters': 3249, 'cole': 873, 'shell': 3928, 'seconds': 3849, 'steals': 4173, 'idiotic': 2218, 'inspiration': 2299, 'burn': 625, 'previously': 3389, 'smart': 4036, 'seat': 3846, 'eva': 1530, 'psychic': 3457, 'bringing': 586, 'abilities': 64, 'task': 4369, 'titanic': 4504, 'projects': 3429, 'vast': 4715, 'amounts': 220, 'breaks': 571, 'surrounded': 4319, 'hank': 2023, 'hoffman': 2127, 'joey': 2407, 'earl': 1396, 'investigation': 2342, 'officer': 3091, 'lemmon': 2566, 'chaos': 755, 'mistress': 2873, 'performer': 3232, 'julie': 2427, 'smoking': 4041, 'provided': 3450, 'advice': 133, 'saving': 3798, 'frustration': 1842, 'practice': 3364, 'generic': 1884, 'beats': 425, 'rocky': 3725, 'distinct': 1294, 'honor': 2149, 'dolph': 1315, 'fifteen': 1705, 'sidekick': 3967, 'fill': 1713, 'murphy': 2943, 'chicago': 785, 'jennifer': 2391, 'facial': 1618, 'dare': 1113, 'kiss': 2482, 'ready': 3548, 'argument': 290, 'relations': 3598, 'wisdom': 4902, 'dying': 1391, 'elegant': 1440, 'legs': 2565, 'kicking': 2461, 'sunshine': 4295, 'screenwriter': 3834, 'expensive': 1578, 'theory': 4438, 'martial': 2746, 'arts': 309, 'warrior': 4801, 'elvira': 1449, 'lengthy': 2569, 'grab': 1948, 'valley': 4706, 'evident': 1546, 'persona': 3240, 'experienced': 1580, 'connect': 944, 'ideal': 2213, 'showcase': 3955, 'disbelief': 1275, 'medical': 2789, 'homeless': 2142, 'businessman': 634, 'discovered': 1278, 'subsequent': 4258, 'appearing': 276, 'wishes': 4906, 'presumably': 3381, 'dinosaurs': 1254, 'dinosaur': 1253, 'stretched': 4223, 'noir': 3022, 'cheating': 776, 'teachers': 4377, 'attend': 343, 'brilliance': 582, 'mothers': 2911, 'shut': 3962, 'corpse': 999, 'reviewers': 3680, 'terrorist': 4414, 'virus': 4751, 'helicopter': 2075, 'flesh': 1752, 'victims': 4729, 'fulci': 1844, 'explains': 1588, 'undoubtedly': 4647, 'court': 1020, 'omen': 3103, 'seed': 3857, 'fay': 1673, 'francis': 1817, 'wet': 4854, 'trees': 4576, 'letting': 2582, 'fortune': 1805, 'blue': 518, 'pet': 3247, 'talked': 4360, 'twin': 4614, 'buried': 624, 'deadly': 1133, 'destroying': 1213, 'belong': 458, 'chair': 742, 'exists': 1572, 'spring': 4135, 'florida': 1760, 'witness': 4914, 'stereotypes': 4180, 'homage': 2140, 'notes': 3045, 'marketing': 2740, 'ruins': 3753, 'thousands': 4467, 'adds': 119, 'mall': 2719, 'crucial': 1068, 'balls': 389, 'jump': 2428, 'kicked': 2460, 'destruction': 1214, 'rex': 3685, 'whoopi': 4875, 'goldberg': 1932, 'batman': 412, 'awake': 364, 'unbearable': 4632, 'butt': 638, 'occur': 3075, 'rabbit': 3499, 'lloyd': 2629, 'pg': 3251, 'crude': 1069, 'caine': 647, 'junk': 2435, 'definite': 1160, 'differences': 1245, 'nyc': 3064, 'unsettling': 4678, 'education': 1423, 'desperation': 1208, 'scottish': 3826, 'dealing': 1136, 'individuals': 2277, 'tend': 4401, 'protect': 3444, 'rough': 3742, 'purchase': 3470, 'improve': 2253, 'noble': 3020, 'fathers': 1666, 'cox': 1026, 'challenge': 743, 'dignity': 1250, 'duke': 1381, 'chick': 786, 'sadness': 3771, '60': 53, 'con': 928, 'superficial': 4299, 'tons': 4521, 'spin': 4113, 'walls': 4782, 'tight': 4493, 'valuable': 4707, 'object': 3065, 'band': 390, 'mountain': 2916, 'wake': 4773, 'conclusion': 936, 'creep': 1051, 'enter': 1493, 'unseen': 4677, 'hype': 2206, 'grandmother': 1954, 'convince': 983, 'demon': 1176, 'continues': 971, 'jerk': 2394, 'abandoned': 62, 'pig': 3275, 'wrap': 4963, 'remarks': 3617, 'blah': 496, 'harris': 2037, 'ridden': 3693, 'bucks': 606, 'shorts': 3949, 'possibilities': 3349, 'vegas': 4716, 'flash': 1744, 'randomly': 3516, 'johnny': 2409, 'river': 3709, 'breathtaking': 574, 'horses': 2170, 'attempting': 341, 'nicholas': 3009, 'surrounding': 4320, 'authentic': 357, 'victoria': 4731, 'reel': 3583, 'landscape': 2512, 'amongst': 218, 'fabulous': 1614, 'riding': 3697, 'altogether': 202, 'heres': 2086, 'wed': 4834, 'farm': 1655, 'murderer': 2940, 'member': 2799, 'macy': 2694, 'adding': 117, 'chances': 748, 'shine': 3932, 'endearing': 1468, 'issue': 2363, 'sandler': 3782, 'magazine': 2700, 'fashion': 1658, 'satire': 3789, 'defined': 1159, 'simplistic': 3986, 'morality': 2902, 'definition': 1162, 'fed': 1681, 'tiresome': 4503, 'womans': 4922, 'daddy': 1096, 'embarrassed': 1452, 'contrary': 974, 'resident': 3649, 'notably': 3041, 'gordon': 1939, 'superior': 4301, 'ashley': 312, 'saga': 3774, 'eager': 1394, 'un': 4629, 'text': 4420, 'disagree': 1267, 'amy': 222, 'birth': 486, 'forgot': 1795, 'ought': 3138, 'absence': 69, 'performed': 3231, 'explanation': 1589, 'investigate': 2341, 'purposes': 3476, 'patient': 3212, 'sinister': 3999, 'discover': 1277, '2007': 37, 'suggested': 4282, 'reflection': 3587, 'thirty': 4457, 'notion': 3049, 'relatives': 3603, 'ironically': 2355, 'torture': 4530, 'capital': 673, 'passes': 3204, 'merits': 2816, 'dear': 1140, 'jesse': 2396, 'strangers': 4215, 'gripping': 1975, 'splatter': 4119, 'suits': 4288, 'bang': 392, 'hospital': 2171, 'chases': 771, 'cameras': 660, 'huh': 2186, 'sean': 3841, 'annie': 246, 'physically': 3264, 'freak': 1823, 'outer': 3143, 'lower': 2676, 'robot': 3719, 'corner': 996, 'shark': 3922, 'september': 3885, 'global': 1919, 'training': 4557, 'plane': 3289, 'traveling': 4567, 'smoke': 4040, 'rescue': 3645, 'steel': 4174, 'safety': 3773, 'wishing': 4907, 'drew': 1358, 'hanging': 2022, 'seagal': 3840, 'faults': 1668, 'flight': 1756, 'lips': 2614, 'fighter': 1707, 'careers': 687, 'blend': 504, 'dropping': 1369, 'fool': 1778, 'grim': 1973, 'mature': 2772, 'harsh': 2039, 'ignorant': 2222, 'lively': 2626, 'spy': 4136, 'tongue': 4519, 'cheek': 779, 'circle': 821, 'lights': 2596, 'overdone': 3152, 'laughably': 2530, 'expert': 1584, 'obnoxious': 3066, 'youd': 4987, 'unpleasant': 4673, 'choose': 799, 'modesty': 2882, 'similarities': 3980, 'junior': 2434, 'superman': 4302, 'places': 3285, 'theyd': 4444, 'stylish': 4252, 'ranks': 3521, 'troubled': 4592, 'brutally': 604, 'builds': 617, 'nancy': 2963, 'calling': 653, 'stargate': 4152, 'medium': 2791, 'suitable': 4286, 'suspend': 4330, 'exploration': 1592, 'threat': 4468, 'losing': 2657, 'bold': 528, 'nicely': 3008, 'returning': 3669, 'arrested': 297, 'silent': 3976, 'burton': 630, 'attorney': 347, 'doom': 1324, 'nightmares': 3014, 'complain': 919, 'narrator': 2966, 'portion': 3339, 'twisted': 4617, 'prior': 3401, 'displayed': 1290, 'fbi': 1674, 'grandfather': 1953, 'da': 1094, 'cowboy': 1025, 'bet': 469, 'dancers': 1105, 'charge': 761, 'metal': 2822, 'hollywoods': 2137, 'hideous': 2097, 'ludicrous': 2684, 'scientific': 3818, 'aunt': 354, 'dracula': 1339, 'consists': 955, 'encounters': 1466, 'comedies': 889, 'underlying': 4640, 'protagonists': 3443, 'guilt': 1993, 'simplicity': 3985, 'abusive': 75, 'questionable': 3489, 'gradually': 1951, 'happiness': 2030, 'understood': 4646, 'commercial': 902, 'cd': 728, 'abuse': 74, 'advantage': 129, 'activities': 102, 'composed': 926, 'diamond': 1234, 'pamela': 3180, 'clothing': 861, '16': 8, 'methods': 2824, 'lily': 2604, 'stanwyck': 4150, 'carter': 703, 'historically': 2119, 'union': 4660, 'summary': 4291, 'helping': 2080, 'armed': 292, 'facts': 1623, 'warren': 4800, 'homer': 2143, 'escaped': 1517, 'pathetic': 3211, 'crying': 1074, 'screaming': 3828, 'clint': 850, 'dirty': 1266, 'em': 1451, 'lucky': 2682, 'mate': 2764, 'relatively': 3602, 'suspenseful': 4332, 'frequently': 1831, 'favor': 1669, 'fx': 1857, 'beliefs': 451, 'drunken': 1374, 'royal': 3747, 'trial': 4579, 'stan': 4143, 'ocean': 3078, 'measure': 2785, 'appearances': 274, 'retarded': 3665, 'description': 1195, 'daring': 1114, 'related': 3596, 'lewis': 2585, 'creature': 1045, 'eaten': 1410, 'amazed': 208, 'combine': 884, 'akshay': 169, 'beatty': 426, 'greedy': 1968, 'performs': 3235, 'foreign': 1789, 'ho': 2126, 'stunts': 4247, 'count': 1010, 'yellow': 4981, 'enterprise': 1494, 'equipment': 1510, 'reaches': 3540, 'noted': 3044, 'nine': 3016, 'improvement': 2255, 'vision': 4753, 'savage': 3794, 'halloween': 2009, 'beast': 421, 'wholly': 4873, 'myers': 2951, 'cinematographer': 819, '3rd': 47, 'saturday': 3793, 'stunt': 4246, 'birthday': 487, 'assumed': 328, 'barbara': 396, 'pink': 3278, 'woody': 4936, 'jumped': 2429, 'horribly': 2163, 'legal': 2562, 'closet': 858, 'kingdom': 2479, 'promised': 3432, 'kings': 2480, '1940s': 13, 'opportunity': 3120, 'lacked': 2502, 'frustrated': 1841, 'silence': 3975, 'cynical': 1093, 'willing': 4889, 'brilliantly': 584, 'empathy': 1461, 'tortured': 4531, 'vicious': 4727, 'winds': 4895, 'sadistic': 3769, 'extraordinary': 1606, 'exceptional': 1557, 'believes': 455, 'arms': 293, 'lonely': 2642, 'robin': 3717, 'travels': 4568, 'menace': 2805, 'synopsis': 4345, 'humanity': 2188, 'quirky': 3494, 'goal': 1924, 'attracted': 348, 'neighbor': 2991, 'flies': 1755, 'wives': 4918, 'imaginative': 2236, 'friendship': 1837, 'develops': 1224, 'steps': 4178, 'showdown': 3956, 'forms': 1800, 'justin': 2439, 'nations': 2970, 'pack': 3165, 'screens': 3833, 'tour': 4539, 'useful': 4693, 'picked': 3267, 'unconvincing': 4637, 'painting': 3175, 'lincoln': 2607, 'reviewer': 3679, 'feminist': 1694, 'handed': 2015, 'productions': 3421, 'albert': 174, 'bride': 577, 'doors': 1327, 'riveting': 3710, 'polished': 3324, 'kurt': 2498, 'desired': 1204, '1999': 27, 'guarantee': 1986, 'property': 3439, 'luke': 2686, 'souls': 4081, 'burned': 626, 'convinced': 984, '75': 57, 'condition': 937, 'walked': 4775, 'burt': 629, 'reynolds': 3686, 'resources': 3653, 'wilson': 4891, 'trite': 4588, 'delight': 1166, 'orange': 3124, 'von': 4764, 'dave': 1123, 'dogs': 1309, 'desperately': 1207, 'roberts': 3716, 'massacre': 2753, 'prom': 3430, 'designed': 1201, 'horrifying': 2166, 'survived': 4323, 'ken': 2452, 'treasure': 4570, 'ear': 1395, 'intrigue': 2332, 'detailed': 1216, 'nights': 3015, 'authority': 359, 'serving': 3898, 'boredom': 542, 'clue': 864, 'motives': 2915, 'clues': 865, 'monkey': 2889, 'jackie': 2373, 'chan': 746, 'sexuality': 3910, 'streisand': 4219, 'judy': 2425, 'christmas': 810, '35': 45, 'convincingly': 986, 'jesus': 2398, 'chose': 804, 'carol': 693, 'paris': 3190, 'segment': 3868, 'contact': 961, 'jumps': 2431, 'korean': 2494, 'facing': 1619, 'voiced': 4761, 'tear': 4380, 'incomprehensible': 2266, 'glenn': 1917, 'literature': 2622, 'dreary': 1354, '3000': 43, 'der': 1189, 'revolves': 3684, 'cleverly': 842, 'experiments': 1583, 'areas': 286, 'benefit': 464, 'involve': 2344, 'aids': 161, 'staying': 4169, 'conversations': 981, 'tonight': 4520, 'stones': 4199, 'duty': 1388, 'sneak': 4044, 'football': 1782, 'starting': 4159, 'consequences': 947, 'franco': 1819, 'illness': 2229, 'classes': 834, 'settings': 3902, 'gentle': 1889, 'stronger': 4231, '1973': 19, 'repeated': 3633, 'classical': 836, 'partly': 3198, 'liking': 2603, 'messed': 2820, 'characterization': 759, 'garden': 1871, 'backgrounds': 380, 'buffs': 612, 'fitting': 1741, 'ambitious': 211, 'achievement': 94, 'coach': 868, 'subplot': 4256, 'wondered': 4927, 'rival': 3708, '1972': 18, 'loaded': 2631, 'sticks': 4187, 'bottle': 550, 'understated': 4645, 'holly': 2135, 'flashback': 1745, 'eyed': 1611, 'redemption': 3580, 'refreshing': 3588, 'arnold': 295, 'creator': 1043, 'travesty': 4569, 'pointed': 3318, 'website': 4833, 'britain': 588, 'digital': 1249, 'dub': 1376, 'intentions': 2320, '40s': 49, 'shadows': 3914, 'faster': 1661, 'wealthy': 4826, 'estate': 1524, 'resolution': 3651, 'buddies': 608, 'suffered': 4277, 'unit': 4662, 'split': 4121, 'inept': 2280, 'attacked': 337, 'reasonable': 3560, 'neck': 2984, 'load': 2630, 'repetitive': 3635, 'tied': 4490, 'adams': 112, 'tommy': 4517, 'boot': 538, 'ireland': 2351, 'repeatedly': 3634, 'ginger': 1907, 'opens': 3114, 'cannibal': 669, 'afterwards': 145, 'multi': 2934, 'sitcom': 4005, 'careful': 688, 'horrid': 2164, 'heat': 2066, 'occurred': 3076, 'betty': 473, 'supernatural': 4303, 'endings': 1471, 'hilariously': 2106, 'moody': 2898, 'trashy': 4565, 'stinks': 4193, 'explore': 1593, 'purple': 3474, 'sky': 4018, 'aforementioned': 139, 'suffice': 4280, 'horrendous': 2161, 'dawson': 1128, 'hello': 2077, 'invisible': 2343, 'proud': 3445, 'illegal': 2228, 'revealing': 3674, 'shirley': 3937, 'del': 1164, 'hopeless': 2157, 'construction': 960, 'beneath': 463, 'semi': 3875, 'rachel': 3501, 'namely': 2961, 'robbery': 3713, 'heroic': 2089, 'edgy': 1417, 'sides': 3968, 'chooses': 800, 'manipulative': 2726, 'grows': 1984, 'satan': 3788, 'producing': 3418, 'cuba': 1075, 'recording': 3577, 'signed': 3972, 'mask': 2751, 'possessed': 3348, 'treats': 4574, 'crisis': 1060, 'intentionally': 2319, 'survival': 4321, 'survivor': 4325, 'butler': 637, 'recognized': 3572, 'kay': 2446, 'secondly': 3848, 'visits': 4755, 'seeking': 3860, 'size': 4013, 'outcome': 3142, 'cg': 739, 'resembles': 3648, 'clark': 832, 'trailers': 4554, 'fever': 1698, 'lying': 2689, 'combat': 882, 'touches': 4536, 'stays': 4170, 'credible': 1048, 'initial': 2289, 'hint': 2111, 'cooper': 990, 'teach': 4375, 'carpenter': 694, 'females': 1693, 'hong': 2148, 'kong': 2493, 'personalities': 3242, 'troubles': 4593, 'advise': 134, '18': 10, 'san': 3781, 'eastwood': 1407, 'hammer': 2013, 'april': 283, 'prepared': 3372, 'astaire': 329, 'stiff': 4188, 'coherent': 871, 'motivations': 2914, 'consistent': 953, 'disjointed': 1285, 'irony': 2356, 'helen': 2074, 'brosnan': 597, 'sentence': 3882, '2nd': 41, 'blues': 519, 'engaged': 1479, 'minds': 2851, 'curtis': 1087, 'waitress': 4772, 'aging': 153, 'lately': 2523, 'pulp': 3466, 'edition': 1421, 'threatening': 4469, 'trap': 4562, 'wallace': 4781, 'boom': 537, 'searching': 3843, 'surfing': 4312, 'jazz': 2386, 'robots': 3720, 'morris': 2907, 'operation': 3116, 'incoherent': 2264, 'hung': 2196, 'atlantis': 331, 'south': 4088, 'disappoint': 1270, 'linda': 2608, 'gods': 1927, 'colorful': 878, 'screams': 3829, 'feet': 1687, 'bands': 391, 'cousin': 1021, 'hardcore': 2033, 'weapon': 4827, 'creators': 1044, 'uneven': 4648, 'acceptable': 81, 'heston': 2093, 'robinson': 3718, 'rid': 3692, 'existed': 1569, 'solution': 4060, 'berlin': 466, 'territory': 4412, 'michelle': 2829, 'li': 2586, 'samurai': 3780, 'colour': 880, 'poetry': 3315, 'considerable': 950, 'championship': 745, 'grey': 1972, 'nicholson': 3010, 'progresses': 3427, 'justify': 2438, 'carefully': 689, 'unhappy': 4655, 'philosophical': 3254, 'bourne': 554, 'league': 2548, 'centers': 734, 'opinions': 3118, 'destiny': 1210, '1990s': 25, 'limits': 2606, 'happily': 2029, 'laws': 2539, 'strictly': 4224, 'lion': 2613, 'jenny': 2392, 'subjects': 4255, 'defeat': 1156, 'discovery': 1280, 'randy': 3517, 'satisfy': 3791, 'larry': 2519, 'mob': 2878, 'dozens': 1337, 'lou': 2662, 'desert': 1196, 'rubber': 3748, 'shelf': 3927, 'danes': 1108, 'richardson': 3690, 'andrew': 228, 'photos': 3262, 'karloff': 2444, 'machines': 2693, 'melting': 2798, 'orleans': 3131, 'awe': 369, 'iran': 2349, 'distribution': 1296, 'diana': 1235, 'involvement': 2346, 'masses': 2754, 'gain': 1862, 'wrapped': 4964, 'jean': 2388, 'photographed': 3259, 'flawless': 1750, 'link': 2612, 'discuss': 1281, 'shy': 3963, 'craven': 1034, 'gabriel': 1858, 'panic': 3182, 'cube': 1076, 'hints': 2112, 'inane': 2257, 'poster': 3354, 'countryside': 1015, 'arguably': 288, 'spooky': 4129, 'unbelievably': 4634, 'widmark': 4882, 'flop': 1759, 'sink': 4000, 'glover': 1922, 'kidding': 2464, 'patients': 3213, 'tiny': 4501, 'rick': 3691, 'lane': 2514, 'profound': 3424, 'mann': 2727, 'square': 4137, 'shelley': 3929, 'godzilla': 1928, 'unoriginal': 4672, 'wicked': 4879, 'button': 639, 'khan': 2458, 'creation': 1040, 'depressed': 1185, 'wrestling': 4966, 'expressed': 1600, 'cusack': 1088, 'fonda': 1776, 'press': 3380, 'advanced': 128, 'miserable': 2862, 'perry': 3238, 'occurs': 3077, 'cameron': 661, 'revelation': 3676, 'mars': 2745, 'border': 539, 'inspiring': 2301, 'polanski': 3322, 'videos': 4733, 'scripted': 3836, 'gender': 1877, 'status': 4166, 'financial': 1724, 'disappeared': 1269, 'brooks': 596, 'health': 2059, 'frequent': 1830, 'navy': 2975, 'trained': 4556, 'lyrics': 2691, 'itll': 2368, 'resulting': 3663, 'danger': 1109, 'depicts': 1184, 'iraq': 2350, 'library': 2588, 'achieve': 92, 'hopper': 2160, 'mechanical': 2787, 'borrowed': 545, 'anderson': 227, 'waves': 4818, 'toys': 4544, 'lone': 2641, 'aliens': 184, 'courage': 1018, 'demand': 1173, 'mundane': 2937, 'emphasis': 1462, 'dalton': 1098, 'eyre': 1613, 'rochester': 3721, 'charlotte': 766, 'doctors': 1303, 'bears': 420, 'nomination': 3025, 'transfer': 4558, 'loads': 2632, 'corporate': 998, 'nazis': 2977, 'bone': 533, 'ties': 4491, 'stale': 4142, 'mysteries': 2953, 'earned': 1399, 'respected': 3655, 'cared': 685, 'blunt': 520, 'rambo': 3512, 'hop': 2153, 'forgive': 1794, 'wizard': 4919, 'oz': 3160, 'germans': 1896, 'tremendous': 4578, 'user': 4695, 'marks': 2741, 'prince': 3397, 'affected': 137, 'absent': 70, 'twilight': 4613, 'domino': 1317, 'sandra': 3783, 'constructed': 959, 'weapons': 4828, 'jeremy': 2393, 'tad': 4348, 'spider': 4110, 'petty': 3250, 'widow': 4883, 'hyde': 2205, 'kubrick': 2495, 'jet': 2399, 'emily': 1455, 'chess': 783, 'ratings': 3532, 'blade': 495, 'uninspired': 4656, 'threw': 4471, 'neil': 2994, 'hates': 2047, 'staring': 4153, 'lust': 2688, 'succeeded': 4264, 'accomplished': 87, 'prisoners': 3404, 'devoid': 1228, 'buildings': 616, 'impress': 2249, 'spirits': 4116, 'ritter': 3707, 'losers': 2655, 'molly': 2883, 'punishment': 3468, 'cards': 683, 'apes': 266, 'georges': 1893, 'recognition': 3570, 'fictional': 1702, 'blair': 497, 'importantly': 2247, 'immensely': 2242, 'dennis': 1178, 'tomatoes': 4516, 'excessive': 1559, 'understandable': 4643, 'monk': 2888, 'lena': 2567, 'damage': 1099, 'officers': 3092, 'copies': 992, 'phantom': 3252, 'complaint': 920, 'ghosts': 1902, 'cake': 648, 'porno': 3338, 'rats': 3533, 'mafia': 2699, 'norman': 3034, 'enemies': 1475, 'irrelevant': 2357, 'kitchen': 2484, 'fix': 1743, 'midnight': 2833, 'album': 175, 'bo': 521, 'confidence': 938, 'mummy': 2936, 'cinemas': 817, 'idiots': 2219, 'floating': 1757, 'felix': 1688, 'hippie': 2114, 'engage': 1478, 'promises': 3433, 'miike': 2836, 'lucy': 2683, 'airport': 167, 'bull': 619, 'gray': 1962, 'dislike': 1286, 'capturing': 679, 'alcohol': 176, 'louise': 2665, 'ruth': 3764, 'che': 773, 'learning': 2551, 'alcoholic': 177, 'blob': 507, 'unwatchable': 4681, 'bud': 607, 'rangers': 3519, 'ninja': 3017, 'stellar': 4175, 'bettie': 472, 'grinch': 1974, 'ripped': 3703, 'agents': 151, 'inevitably': 2282, 'rising': 3705, 'witnesses': 4916, 'gundam': 1996, 'rat': 3527, 'jake': 2376, 'montana': 2894, 'scarecrow': 3805, 'choreography': 802, 'kapoor': 2442, 'gandhi': 1865, 'scrooge': 3838, 'pokemon': 3321}\n"
     ]
    }
   ],
   "source": [
    "print(str(vocabulary))"
   ]
  },
  {
   "cell_type": "markdown",
   "metadata": {},
   "source": [
    "Once you have added the endpoint name to the Lambda function, click on **Save**. Your Lambda function is now up and running. Next we need to create a way for our web app to execute the Lambda function."
   ]
  },
  {
   "cell_type": "markdown",
   "metadata": {},
   "source": [
    "### Setting up API Gateway\n",
    "\n",
    "Now that our Lambda function is set up, it is time to create a new API using API Gateway that will trigger the Lambda function we have just created.\n",
    "\n",
    "Using AWS Console, navigate to **Amazon API Gateway** and then click on **Get started**.\n",
    "\n",
    "On the next page, make sure that **New API** is selected and give the new api a name, for example, `sentiment_analysis_web_app`. Then, click on **Create API**.\n",
    "\n",
    "Now we have created an API, however it doesn't currently do anything. What we want it to do is to trigger the Lambda function that we created earlier.\n",
    "\n",
    "Select the **Actions** dropdown menu and click **Create Method**. A new blank method will be created, select its dropdown menu and select **POST**, then click on the check mark beside it.\n",
    "\n",
    "For the integration point, make sure that **Lambda Function** is selected and click on the **Use Lambda Proxy integration**. This option makes sure that the data that is sent to the API is then sent directly to the Lambda function with no processing. It also means that the return value must be a proper response object as it will also not be processed by API Gateway.\n",
    "\n",
    "Type the name of the Lambda function you created earlier into the **Lambda Function** text entry box and then click on **Save**. Click on **OK** in the pop-up box that then appears, giving permission to API Gateway to invoke the Lambda function you created.\n",
    "\n",
    "The last step in creating the API Gateway is to select the **Actions** dropdown and click on **Deploy API**. You will need to create a new Deployment stage and name it anything you like, for example `prod`.\n",
    "\n",
    "You have now successfully set up a public API to access your SageMaker model. Make sure to copy or write down the URL provided to invoke your newly created public API as this will be needed in the next step. This URL can be found at the top of the page, highlighted in blue next to the text **Invoke URL**."
   ]
  },
  {
   "cell_type": "markdown",
   "metadata": {},
   "source": [
    "## Step 7: Deploying our web app\n",
    "\n",
    "Now that we have a publicly available API, we can start using it in a web app. For our purposes, we have provided a simple static html file which can make use of the public api you created earlier.\n",
    "\n",
    "In the `website` folder there should be a file called `index.html`. Download the file to your computer and open that file up in a text editor of your choice. There should be a line which contains **\\*\\*REPLACE WITH PUBLIC API URL\\*\\***. Replace this string with the url that you wrote down in the last step and then save the file.\n",
    "\n",
    "Now, if you open `index.html` on your local computer, your browser will behave as a local web server and you can use the provided site to interact with your SageMaker model.\n",
    "\n",
    "If you'd like to go further, you can host this html file anywhere you'd like, for example using github or hosting a static site on Amazon's S3. Once you have done this you can share the link with anyone you'd like and have them play with it too!\n",
    "\n",
    "> **Important Note** In order for the web app to communicate with the SageMaker endpoint, the endpoint has to actually be deployed and running. This means that you are paying for it. Make sure that the endpoint is running when you want to use the web app but that you shut it down when you don't need it, otherwise you will end up with a surprisingly large AWS bill."
   ]
  },
  {
   "cell_type": "markdown",
   "metadata": {},
   "source": [
    "### Delete the endpoint\n",
    "\n",
    "Remember to always shut down your endpoint if you are no longer using it. You are charged for the length of time that the endpoint is running so if you forget and leave it on you could end up with an unexpectedly large bill."
   ]
  },
  {
   "cell_type": "code",
   "execution_count": 51,
   "metadata": {},
   "outputs": [],
   "source": [
    "xgb_predictor.delete_endpoint()"
   ]
  },
  {
   "cell_type": "markdown",
   "metadata": {},
   "source": [
    "## Optional: Clean up\n",
    "\n",
    "The default notebook instance on SageMaker doesn't have a lot of excess disk space available. As you continue to complete and execute notebooks you will eventually fill up this disk space, leading to errors which can be difficult to diagnose. Once you are completely finished using a notebook it is a good idea to remove the files that you created along the way. Of course, you can do this from the terminal or from the notebook hub if you would like. The cell below contains some commands to clean up the created files from within the notebook."
   ]
  },
  {
   "cell_type": "code",
   "execution_count": 52,
   "metadata": {},
   "outputs": [],
   "source": [
    "# First we will remove all of the files contained in the data_dir directory\n",
    "!rm $data_dir/*\n",
    "\n",
    "# And then we delete the directory itself\n",
    "!rmdir $data_dir\n",
    "\n",
    "# Similarly we remove the files in the cache_dir directory and the directory itself\n",
    "!rm $cache_dir/*\n",
    "!rmdir $cache_dir"
   ]
  },
  {
   "cell_type": "code",
   "execution_count": null,
   "metadata": {},
   "outputs": [],
   "source": []
  }
 ],
 "metadata": {
  "kernelspec": {
   "display_name": "conda_python3",
   "language": "python",
   "name": "conda_python3"
  },
  "language_info": {
   "codemirror_mode": {
    "name": "ipython",
    "version": 3
   },
   "file_extension": ".py",
   "mimetype": "text/x-python",
   "name": "python",
   "nbconvert_exporter": "python",
   "pygments_lexer": "ipython3",
   "version": "3.6.10"
  }
 },
 "nbformat": 4,
 "nbformat_minor": 2
}
